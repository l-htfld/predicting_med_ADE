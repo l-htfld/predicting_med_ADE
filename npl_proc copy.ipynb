{
 "cells": [
  {
   "cell_type": "markdown",
   "metadata": {},
   "source": [
    "# NLP 2021 HW1"
   ]
  },
  {
   "cell_type": "markdown",
   "metadata": {},
   "source": [
    "Три датасета с твитами: \n",
    "\n",
    "- тренировочный\n",
    "- тестовый\n",
    "- валидационный\n",
    "\n",
    "Нужно определить, какие твиты могут упоминать побочный эффекты от лекарств.\n",
    "\n",
    "Пайплайн:\n",
    "- Скачать все три датасета, определить их в переменные\n",
    "- Провести предобработку данных, почистить от пропусков, дупликатов.\n",
    "- Провести исследовательский аналих данных, выявить закономерности, если таковые имеются\n",
    "- Закодировать данные. Применить лингвистические трансформаторы (W2V, BoW, TF-IDF)\n",
    "- Подобрать модели, определить бейзлайн\n",
    "- Найти лучшую модель на тренировочной выборке, протестировать на тестовой и отправить на валидационную\n",
    "В\\- Вывести метрики качества, подвести итоги.\n",
    "\n",
    "Изменение для бранча."
   ]
  },
  {
   "cell_type": "markdown",
   "metadata": {},
   "source": [
    "## Загрузка данных"
   ]
  },
  {
   "cell_type": "code",
   "execution_count": 263,
   "metadata": {},
   "outputs": [
    {
     "name": "stdout",
     "output_type": "stream",
     "text": [
      "Requirement already satisfied: simplemma in c:\\users\\hp\\appdata\\local\\programs\\python\\python38\\lib\\site-packages (0.9.1)Note: you may need to restart the kernel to use updated packages.\n",
      "\n"
     ]
    },
    {
     "name": "stderr",
     "output_type": "stream",
     "text": [
      "WARNING: Ignoring invalid distribution - (c:\\users\\hp\\appdata\\roaming\\python\\python38\\site-packages)\n",
      "WARNING: Ignoring invalid distribution -rotobuf (c:\\users\\hp\\appdata\\roaming\\python\\python38\\site-packages)\n",
      "WARNING: Ignoring invalid distribution -otobuf (c:\\users\\hp\\appdata\\roaming\\python\\python38\\site-packages)\n",
      "WARNING: Ignoring invalid distribution - (c:\\users\\hp\\appdata\\roaming\\python\\python38\\site-packages)\n",
      "WARNING: Ignoring invalid distribution -rotobuf (c:\\users\\hp\\appdata\\roaming\\python\\python38\\site-packages)\n",
      "WARNING: Ignoring invalid distribution -otobuf (c:\\users\\hp\\appdata\\roaming\\python\\python38\\site-packages)\n",
      "WARNING: Ignoring invalid distribution -otobuf (c:\\users\\hp\\appdata\\local\\programs\\python\\python38\\lib\\site-packages)\n",
      "WARNING: Ignoring invalid distribution -orch (c:\\users\\hp\\appdata\\local\\programs\\python\\python38\\lib\\site-packages)\n",
      "WARNING: Ignoring invalid distribution - (c:\\users\\hp\\appdata\\roaming\\python\\python38\\site-packages)\n",
      "WARNING: Ignoring invalid distribution -rotobuf (c:\\users\\hp\\appdata\\roaming\\python\\python38\\site-packages)\n",
      "WARNING: Ignoring invalid distribution -otobuf (c:\\users\\hp\\appdata\\roaming\\python\\python38\\site-packages)\n",
      "WARNING: Ignoring invalid distribution -otobuf (c:\\users\\hp\\appdata\\local\\programs\\python\\python38\\lib\\site-packages)\n",
      "WARNING: Ignoring invalid distribution -orch (c:\\users\\hp\\appdata\\local\\programs\\python\\python38\\lib\\site-packages)\n",
      "WARNING: Ignoring invalid distribution - (c:\\users\\hp\\appdata\\roaming\\python\\python38\\site-packages)\n",
      "WARNING: Ignoring invalid distribution -rotobuf (c:\\users\\hp\\appdata\\roaming\\python\\python38\\site-packages)\n",
      "WARNING: Ignoring invalid distribution -otobuf (c:\\users\\hp\\appdata\\roaming\\python\\python38\\site-packages)\n",
      "WARNING: Ignoring invalid distribution - (c:\\users\\hp\\appdata\\roaming\\python\\python38\\site-packages)\n",
      "WARNING: Ignoring invalid distribution -rotobuf (c:\\users\\hp\\appdata\\roaming\\python\\python38\\site-packages)\n",
      "WARNING: Ignoring invalid distribution -otobuf (c:\\users\\hp\\appdata\\roaming\\python\\python38\\site-packages)\n",
      "WARNING: Ignoring invalid distribution - (c:\\users\\hp\\appdata\\roaming\\python\\python38\\site-packages)\n",
      "WARNING: Ignoring invalid distribution -rotobuf (c:\\users\\hp\\appdata\\roaming\\python\\python38\\site-packages)\n",
      "WARNING: Ignoring invalid distribution -otobuf (c:\\users\\hp\\appdata\\roaming\\python\\python38\\site-packages)\n",
      "\n",
      "[notice] A new release of pip is available: 23.2.1 -> 24.0\n",
      "[notice] To update, run: python.exe -m pip install --upgrade pip\n"
     ]
    }
   ],
   "source": [
    "pip install simplemma"
   ]
  },
  {
   "cell_type": "code",
   "execution_count": 264,
   "metadata": {},
   "outputs": [
    {
     "name": "stderr",
     "output_type": "stream",
     "text": [
      "[nltk_data] Downloading package punkt to\n",
      "[nltk_data]     C:\\Users\\HP\\AppData\\Roaming\\nltk_data...\n",
      "[nltk_data]   Package punkt is already up-to-date!\n",
      "[nltk_data] Downloading package averaged_perceptron_tagger to\n",
      "[nltk_data]     C:\\Users\\HP\\AppData\\Roaming\\nltk_data...\n",
      "[nltk_data]   Package averaged_perceptron_tagger is already up-to-\n",
      "[nltk_data]       date!\n",
      "[nltk_data] Downloading package wordnet to\n",
      "[nltk_data]     C:\\Users\\HP\\AppData\\Roaming\\nltk_data...\n",
      "[nltk_data]   Package wordnet is already up-to-date!\n"
     ]
    }
   ],
   "source": [
    "import pandas as pd\n",
    "import numpy as np\n",
    "import matplotlib.pyplot as plt\n",
    "\n",
    "import plotly.graph_objs as go\n",
    "from plotly.offline import init_notebook_mode, iplot\n",
    "\n",
    "import nltk\n",
    "from nltk import word_tokenize\n",
    "from nltk.stem.wordnet import WordNetLemmatizer\n",
    "from nltk.corpus import stopwords\n",
    "from nltk import pos_tag, word_tokenize\n",
    "from nltk.stem import PorterStemmer\n",
    "import string\n",
    "\n",
    "from gensim.models import Word2Vec\n",
    "import simplemma\n",
    "\n",
    "from sklearn.model_selection import train_test_split\n",
    "from sklearn.linear_model import LogisticRegression\n",
    "from sklearn.metrics import roc_auc_score\n",
    "from sklearn.feature_extraction.text import TfidfVectorizer\n",
    "from sklearn.compose import ColumnTransformer\n",
    "from sklearn.preprocessing import StandardScaler\n",
    "from sklearn.metrics import roc_curve, auc\n",
    "from sklearn.svm import LinearSVC\n",
    "from sklearn.model_selection import GridSearchCV\n",
    "from sklearn.feature_extraction.text import CountVectorizer\n",
    "\n",
    "from lightgbm import LGBMClassifier\n",
    "\n",
    "import pickle\n",
    "import spacy\n",
    "\n",
    "from collections import Counter\n",
    "\n",
    "nltk.download('punkt')\n",
    "nltk.download('averaged_perceptron_tagger')\n",
    "nltk.download('wordnet')\n",
    "\n",
    "nlp = spacy.load(\"en_core_web_sm\")\n",
    "\n",
    "RANDOM_STATE = 12345"
   ]
  },
  {
   "cell_type": "code",
   "execution_count": 265,
   "metadata": {},
   "outputs": [],
   "source": [
    "train_data = pd.read_csv('train.tsv', sep=\"\\t\")\n",
    "test_data = pd.read_csv('test.tsv', sep=\"\\t\")\n",
    "valid_data = pd.read_csv('valid.tsv', sep=\"\\t\")"
   ]
  },
  {
   "cell_type": "code",
   "execution_count": 266,
   "metadata": {},
   "outputs": [],
   "source": [
    "test_data_orig = test_data"
   ]
  },
  {
   "cell_type": "code",
   "execution_count": 267,
   "metadata": {},
   "outputs": [],
   "source": [
    "datas = [train_data, test_data, valid_data]"
   ]
  },
  {
   "cell_type": "code",
   "execution_count": 268,
   "metadata": {},
   "outputs": [
    {
     "name": "stdout",
     "output_type": "stream",
     "text": [
      "\n",
      "Датасет: Train\n",
      "Первые 5 рядов:\n"
     ]
    },
    {
     "data": {
      "text/html": [
       "<div>\n",
       "<style scoped>\n",
       "    .dataframe tbody tr th:only-of-type {\n",
       "        vertical-align: middle;\n",
       "    }\n",
       "\n",
       "    .dataframe tbody tr th {\n",
       "        vertical-align: top;\n",
       "    }\n",
       "\n",
       "    .dataframe thead th {\n",
       "        text-align: right;\n",
       "    }\n",
       "</style>\n",
       "<table border=\"1\" class=\"dataframe\">\n",
       "  <thead>\n",
       "    <tr style=\"text-align: right;\">\n",
       "      <th></th>\n",
       "      <th>tweet_id</th>\n",
       "      <th>tweet</th>\n",
       "      <th>label</th>\n",
       "    </tr>\n",
       "  </thead>\n",
       "  <tbody>\n",
       "    <tr>\n",
       "      <th>0</th>\n",
       "      <td>760402871867367424</td>\n",
       "      <td>Настало время для ингаляторов. Дружок, Сальбут...</td>\n",
       "      <td>0</td>\n",
       "    </tr>\n",
       "    <tr>\n",
       "      <th>1</th>\n",
       "      <td>1035908416869462016</td>\n",
       "      <td>15) На прошлой зимней олимпиаде большинство лы...</td>\n",
       "      <td>1</td>\n",
       "    </tr>\n",
       "    <tr>\n",
       "      <th>2</th>\n",
       "      <td>1089839736427032577</td>\n",
       "      <td>Не соглашусь с заменой ЗОК на метопролол в так...</td>\n",
       "      <td>0</td>\n",
       "    </tr>\n",
       "    <tr>\n",
       "      <th>3</th>\n",
       "      <td>779671488748224513</td>\n",
       "      <td>@di2m1 мезим Смекта Если отравление, то лоперамид</td>\n",
       "      <td>0</td>\n",
       "    </tr>\n",
       "    <tr>\n",
       "      <th>4</th>\n",
       "      <td>738309299756240897</td>\n",
       "      <td>Уберите микроволновки и имодиум  Действуют соу...</td>\n",
       "      <td>0</td>\n",
       "    </tr>\n",
       "  </tbody>\n",
       "</table>\n",
       "</div>"
      ],
      "text/plain": [
       "              tweet_id                                              tweet  \\\n",
       "0   760402871867367424  Настало время для ингаляторов. Дружок, Сальбут...   \n",
       "1  1035908416869462016  15) На прошлой зимней олимпиаде большинство лы...   \n",
       "2  1089839736427032577  Не соглашусь с заменой ЗОК на метопролол в так...   \n",
       "3   779671488748224513  @di2m1 мезим Смекта Если отравление, то лоперамид   \n",
       "4   738309299756240897  Уберите микроволновки и имодиум  Действуют соу...   \n",
       "\n",
       "   label  \n",
       "0      0  \n",
       "1      1  \n",
       "2      0  \n",
       "3      0  \n",
       "4      0  "
      ]
     },
     "metadata": {},
     "output_type": "display_data"
    },
    {
     "name": "stdout",
     "output_type": "stream",
     "text": [
      "None\n",
      "Размер: 8184 рядов x 3 колонок\n",
      "Пропущенные значения: 0\n",
      "\n",
      "Датасет: Test\n",
      "Первые 5 рядов:\n"
     ]
    },
    {
     "data": {
      "text/html": [
       "<div>\n",
       "<style scoped>\n",
       "    .dataframe tbody tr th:only-of-type {\n",
       "        vertical-align: middle;\n",
       "    }\n",
       "\n",
       "    .dataframe tbody tr th {\n",
       "        vertical-align: top;\n",
       "    }\n",
       "\n",
       "    .dataframe thead th {\n",
       "        text-align: right;\n",
       "    }\n",
       "</style>\n",
       "<table border=\"1\" class=\"dataframe\">\n",
       "  <thead>\n",
       "    <tr style=\"text-align: right;\">\n",
       "      <th></th>\n",
       "      <th>tweet_id</th>\n",
       "      <th>tweet</th>\n",
       "    </tr>\n",
       "  </thead>\n",
       "  <tbody>\n",
       "    <tr>\n",
       "      <th>0</th>\n",
       "      <td>1149390095612555266</td>\n",
       "      <td>от паксила такая дикая сонливость((</td>\n",
       "    </tr>\n",
       "    <tr>\n",
       "      <th>1</th>\n",
       "      <td>1104439603304546304</td>\n",
       "      <td>@Kyzzenish Попробуйте парацетамол. Нередко оче...</td>\n",
       "    </tr>\n",
       "    <tr>\n",
       "      <th>2</th>\n",
       "      <td>5886509017</td>\n",
       "      <td>А для фанатов арбидола могу сообщить, что спон...</td>\n",
       "    </tr>\n",
       "    <tr>\n",
       "      <th>3</th>\n",
       "      <td>1539809930</td>\n",
       "      <td>Опять болит горло, поэтому опять забил на басс...</td>\n",
       "    </tr>\n",
       "    <tr>\n",
       "      <th>4</th>\n",
       "      <td>777843779021709312</td>\n",
       "      <td>У Васи жар, аж вся кровать и одеяло мокрые 😱 д...</td>\n",
       "    </tr>\n",
       "  </tbody>\n",
       "</table>\n",
       "</div>"
      ],
      "text/plain": [
       "              tweet_id                                              tweet\n",
       "0  1149390095612555266                от паксила такая дикая сонливость((\n",
       "1  1104439603304546304  @Kyzzenish Попробуйте парацетамол. Нередко оче...\n",
       "2           5886509017  А для фанатов арбидола могу сообщить, что спон...\n",
       "3           1539809930  Опять болит горло, поэтому опять забил на басс...\n",
       "4   777843779021709312  У Васи жар, аж вся кровать и одеяло мокрые 😱 д..."
      ]
     },
     "metadata": {},
     "output_type": "display_data"
    },
    {
     "name": "stdout",
     "output_type": "stream",
     "text": [
      "None\n",
      "Размер: 9095 рядов x 2 колонок\n",
      "Пропущенные значения: 0\n",
      "\n",
      "Датасет: Valid\n",
      "Первые 5 рядов:\n"
     ]
    },
    {
     "data": {
      "text/html": [
       "<div>\n",
       "<style scoped>\n",
       "    .dataframe tbody tr th:only-of-type {\n",
       "        vertical-align: middle;\n",
       "    }\n",
       "\n",
       "    .dataframe tbody tr th {\n",
       "        vertical-align: top;\n",
       "    }\n",
       "\n",
       "    .dataframe thead th {\n",
       "        text-align: right;\n",
       "    }\n",
       "</style>\n",
       "<table border=\"1\" class=\"dataframe\">\n",
       "  <thead>\n",
       "    <tr style=\"text-align: right;\">\n",
       "      <th></th>\n",
       "      <th>tweet_id</th>\n",
       "      <th>tweet</th>\n",
       "      <th>label</th>\n",
       "    </tr>\n",
       "  </thead>\n",
       "  <tbody>\n",
       "    <tr>\n",
       "      <th>0</th>\n",
       "      <td>1118138270830026754</td>\n",
       "      <td>@muuduckk Паксил на самом деле существует скол...</td>\n",
       "      <td>0</td>\n",
       "    </tr>\n",
       "    <tr>\n",
       "      <th>1</th>\n",
       "      <td>1098586199739023361</td>\n",
       "      <td>йебучий сука кветиапин ненавижу его всем сердц...</td>\n",
       "      <td>0</td>\n",
       "    </tr>\n",
       "    <tr>\n",
       "      <th>2</th>\n",
       "      <td>1107147495497519105</td>\n",
       "      <td>Оренбург : Алпразолам в оренбурге где можно ку...</td>\n",
       "      <td>0</td>\n",
       "    </tr>\n",
       "    <tr>\n",
       "      <th>3</th>\n",
       "      <td>1197120875964841984</td>\n",
       "      <td>@TakaSmoky Я как-то раз бросил миртазапин и ве...</td>\n",
       "      <td>0</td>\n",
       "    </tr>\n",
       "    <tr>\n",
       "      <th>4</th>\n",
       "      <td>958998595390275585</td>\n",
       "      <td>Из того, что мне помогает выводить физически -...</td>\n",
       "      <td>0</td>\n",
       "    </tr>\n",
       "  </tbody>\n",
       "</table>\n",
       "</div>"
      ],
      "text/plain": [
       "              tweet_id                                              tweet  \\\n",
       "0  1118138270830026754  @muuduckk Паксил на самом деле существует скол...   \n",
       "1  1098586199739023361  йебучий сука кветиапин ненавижу его всем сердц...   \n",
       "2  1107147495497519105  Оренбург : Алпразолам в оренбурге где можно ку...   \n",
       "3  1197120875964841984  @TakaSmoky Я как-то раз бросил миртазапин и ве...   \n",
       "4   958998595390275585  Из того, что мне помогает выводить физически -...   \n",
       "\n",
       "   label  \n",
       "0      0  \n",
       "1      0  \n",
       "2      0  \n",
       "3      0  \n",
       "4      0  "
      ]
     },
     "metadata": {},
     "output_type": "display_data"
    },
    {
     "name": "stdout",
     "output_type": "stream",
     "text": [
      "None\n",
      "Размер: 3425 рядов x 3 колонок\n",
      "Пропущенные значения: 0\n"
     ]
    }
   ],
   "source": [
    "def print_dataset_info(datasets):\n",
    "    for name, data in zip(['Train', 'Test', 'Valid'], datas):\n",
    "        print(f\"\\nДатасет: {name}\")\n",
    "        print(\"Первые 5 рядов:\")\n",
    "        print(display(data.head()))\n",
    "        print(f\"Размер: {data.shape[0]} рядов x {data.shape[1]} колонок\")\n",
    "        print(f\"Пропущенные значения: {data.isnull().sum().sum()}\")\n",
    "\n",
    "datas = [train_data, test_data, valid_data]\n",
    "print_dataset_info(datas)"
   ]
  },
  {
   "cell_type": "markdown",
   "metadata": {},
   "source": [
    "Данные загружены. Пропусков нет ни в одном наборе. Нужно проверить на дупликаты."
   ]
  },
  {
   "cell_type": "markdown",
   "metadata": {},
   "source": [
    "## Предобработка данных"
   ]
  },
  {
   "cell_type": "code",
   "execution_count": 269,
   "metadata": {},
   "outputs": [
    {
     "name": "stdout",
     "output_type": "stream",
     "text": [
      "\n",
      "Датасет: Train\n",
      "Количество дупликатов 0\n",
      "\n",
      "Датасет: Test\n",
      "Количество дупликатов 0\n",
      "\n",
      "Датасет: Valid\n",
      "Количество дупликатов 0\n"
     ]
    }
   ],
   "source": [
    "for name, data in zip(['Train', 'Test', 'Valid'], datas):\n",
    "    print(f\"\\nДатасет: {name}\")\n",
    "    print(f'Количество дупликатов {data.duplicated().sum()}')"
   ]
  },
  {
   "cell_type": "markdown",
   "metadata": {},
   "source": [
    "Данные не содержат дупликатов ни айди, ни текстов."
   ]
  },
  {
   "cell_type": "markdown",
   "metadata": {},
   "source": [
    "## Исследовательский анализ данных"
   ]
  },
  {
   "cell_type": "markdown",
   "metadata": {},
   "source": [
    "Так как нам дали только тексты твитов и целевой признак, то особо по графикам не разгуляемся. Но посмотрим на распределние классов, может надо будет сбалансировать."
   ]
  },
  {
   "cell_type": "code",
   "execution_count": 270,
   "metadata": {},
   "outputs": [
    {
     "data": {
      "image/png": "[encoded data removed]",
      "text/plain": [
       "<Figure size 1152x432 with 2 Axes>"
      ]
     },
     "metadata": {
      "needs_background": "light"
     },
     "output_type": "display_data"
    }
   ],
   "source": [
    "fig, axs = plt.subplots(1,  2, figsize=(16,  6))\n",
    "\n",
    "datasets = [train_data, valid_data]\n",
    "titles = ['Train Dataset', 'Valid Dataset']\n",
    "\n",
    "for i, data in enumerate(datasets):\n",
    "    label_counts = data['label'].value_counts()\n",
    "    ratio = label_counts[0] / label_counts[1]\n",
    "    positions = ['Label   0', 'Label   1']\n",
    "    counts = [label_counts[0], label_counts[1]]\n",
    "    bar_width =  0.35\n",
    "\n",
    "    ax = axs[i]\n",
    "    rects = ax.bar(positions, counts, width=bar_width, color=['blue', 'orange'], edgecolor='black')\n",
    "    ax.grid(axis='y', linestyle='--', alpha=0.7)\n",
    "\n",
    "    for rect in rects:\n",
    "        height = rect.get_height()\n",
    "        ax.text(rect.get_x() + rect.get_width() /  2, height, str(height), ha='center', va='bottom')\n",
    "\n",
    "    ax.set_xlabel('Label')\n",
    "    ax.set_ylabel('Count')\n",
    "    ax.set_title(f'{titles[i]}\\nСоотношение в Label   0 и Label   1: {ratio}')\n",
    "\n",
    "    plt.xticks(rotation=45)\n",
    "\n",
    "plt.tight_layout()\n",
    "plt.show()\n"
   ]
  },
  {
   "cell_type": "code",
   "execution_count": 271,
   "metadata": {},
   "outputs": [
    {
     "data": {
      "text/html": [
       "        <script type=\"text/javascript\">\n",
       "        window.PlotlyConfig = {MathJaxConfig: 'local'};\n",
       "        if (window.MathJax && window.MathJax.Hub && window.MathJax.Hub.Config) {window.MathJax.Hub.Config({SVG: {font: \"STIX-Web\"}});}\n",
       "        if (typeof require !== 'undefined') {\n",
       "        require.undef(\"plotly\");\n",
       "        requirejs.config({\n",
       "            paths: {\n",
       "                'plotly': ['https://cdn.plot.ly/plotly-2.16.1.min']\n",
       "            }\n",
       "        });\n",
       "        require(['plotly'], function(Plotly) {\n",
       "            window._Plotly = Plotly;\n",
       "        });\n",
       "        }\n",
       "        </script>\n",
       "        "
      ]
     },
     "metadata": {},
     "output_type": "display_data"
    },
    {
     "data": {
      "application/vnd.plotly.v1+json": {
       "config": {
        "linkText": "Export to plot.ly",
        "plotlyServerURL": "https://plot.ly",
        "showLink": false
       },
       "data": [
        {
         "marker": {
          "color": [
           "rgb(58,  71,  80)",
           "rgb(255,  87,  51)"
          ]
         },
         "orientation": "v",
         "text": [
          "7411",
          "773"
         ],
         "type": "bar",
         "x": [
          "Label  0",
          "Label  1"
         ],
         "y": [
          7411,
          773
         ]
        }
       ],
       "layout": {
        "template": {
         "data": {
          "bar": [
           {
            "error_x": {
             "color": "#2a3f5f"
            },
            "error_y": {
             "color": "#2a3f5f"
            },
            "marker": {
             "line": {
              "color": "#E5ECF6",
              "width": 0.5
             },
             "pattern": {
              "fillmode": "overlay",
              "size": 10,
              "solidity": 0.2
             }
            },
            "type": "bar"
           }
          ],
          "barpolar": [
           {
            "marker": {
             "line": {
              "color": "#E5ECF6",
              "width": 0.5
             },
             "pattern": {
              "fillmode": "overlay",
              "size": 10,
              "solidity": 0.2
             }
            },
            "type": "barpolar"
           }
          ],
          "carpet": [
           {
            "aaxis": {
             "endlinecolor": "#2a3f5f",
             "gridcolor": "white",
             "linecolor": "white",
             "minorgridcolor": "white",
             "startlinecolor": "#2a3f5f"
            },
            "baxis": {
             "endlinecolor": "#2a3f5f",
             "gridcolor": "white",
             "linecolor": "white",
             "minorgridcolor": "white",
             "startlinecolor": "#2a3f5f"
            },
            "type": "carpet"
           }
          ],
          "choropleth": [
           {
            "colorbar": {
             "outlinewidth": 0,
             "ticks": ""
            },
            "type": "choropleth"
           }
          ],
          "contour": [
           {
            "colorbar": {
             "outlinewidth": 0,
             "ticks": ""
            },
            "colorscale": [
             [
              0,
              "#0d0887"
             ],
             [
              0.1111111111111111,
              "#46039f"
             ],
             [
              0.2222222222222222,
              "#7201a8"
             ],
             [
              0.3333333333333333,
              "#9c179e"
             ],
             [
              0.4444444444444444,
              "#bd3786"
             ],
             [
              0.5555555555555556,
              "#d8576b"
             ],
             [
              0.6666666666666666,
              "#ed7953"
             ],
             [
              0.7777777777777778,
              "#fb9f3a"
             ],
             [
              0.8888888888888888,
              "#fdca26"
             ],
             [
              1,
              "#f0f921"
             ]
            ],
            "type": "contour"
           }
          ],
          "contourcarpet": [
           {
            "colorbar": {
             "outlinewidth": 0,
             "ticks": ""
            },
            "type": "contourcarpet"
           }
          ],
          "heatmap": [
           {
            "colorbar": {
             "outlinewidth": 0,
             "ticks": ""
            },
            "colorscale": [
             [
              0,
              "#0d0887"
             ],
             [
              0.1111111111111111,
              "#46039f"
             ],
             [
              0.2222222222222222,
              "#7201a8"
             ],
             [
              0.3333333333333333,
              "#9c179e"
             ],
             [
              0.4444444444444444,
              "#bd3786"
             ],
             [
              0.5555555555555556,
              "#d8576b"
             ],
             [
              0.6666666666666666,
              "#ed7953"
             ],
             [
              0.7777777777777778,
              "#fb9f3a"
             ],
             [
              0.8888888888888888,
              "#fdca26"
             ],
             [
              1,
              "#f0f921"
             ]
            ],
            "type": "heatmap"
           }
          ],
          "heatmapgl": [
           {
            "colorbar": {
             "outlinewidth": 0,
             "ticks": ""
            },
            "colorscale": [
             [
              0,
              "#0d0887"
             ],
             [
              0.1111111111111111,
              "#46039f"
             ],
             [
              0.2222222222222222,
              "#7201a8"
             ],
             [
              0.3333333333333333,
              "#9c179e"
             ],
             [
              0.4444444444444444,
              "#bd3786"
             ],
             [
              0.5555555555555556,
              "#d8576b"
             ],
             [
              0.6666666666666666,
              "#ed7953"
             ],
             [
              0.7777777777777778,
              "#fb9f3a"
             ],
             [
              0.8888888888888888,
              "#fdca26"
             ],
             [
              1,
              "#f0f921"
             ]
            ],
            "type": "heatmapgl"
           }
          ],
          "histogram": [
           {
            "marker": {
             "pattern": {
              "fillmode": "overlay",
              "size": 10,
              "solidity": 0.2
             }
            },
            "type": "histogram"
           }
          ],
          "histogram2d": [
           {
            "colorbar": {
             "outlinewidth": 0,
             "ticks": ""
            },
            "colorscale": [
             [
              0,
              "#0d0887"
             ],
             [
              0.1111111111111111,
              "#46039f"
             ],
             [
              0.2222222222222222,
              "#7201a8"
             ],
             [
              0.3333333333333333,
              "#9c179e"
             ],
             [
              0.4444444444444444,
              "#bd3786"
             ],
             [
              0.5555555555555556,
              "#d8576b"
             ],
             [
              0.6666666666666666,
              "#ed7953"
             ],
             [
              0.7777777777777778,
              "#fb9f3a"
             ],
             [
              0.8888888888888888,
              "#fdca26"
             ],
             [
              1,
              "#f0f921"
             ]
            ],
            "type": "histogram2d"
           }
          ],
          "histogram2dcontour": [
           {
            "colorbar": {
             "outlinewidth": 0,
             "ticks": ""
            },
            "colorscale": [
             [
              0,
              "#0d0887"
             ],
             [
              0.1111111111111111,
              "#46039f"
             ],
             [
              0.2222222222222222,
              "#7201a8"
             ],
             [
              0.3333333333333333,
              "#9c179e"
             ],
             [
              0.4444444444444444,
              "#bd3786"
             ],
             [
              0.5555555555555556,
              "#d8576b"
             ],
             [
              0.6666666666666666,
              "#ed7953"
             ],
             [
              0.7777777777777778,
              "#fb9f3a"
             ],
             [
              0.8888888888888888,
              "#fdca26"
             ],
             [
              1,
              "#f0f921"
             ]
            ],
            "type": "histogram2dcontour"
           }
          ],
          "mesh3d": [
           {
            "colorbar": {
             "outlinewidth": 0,
             "ticks": ""
            },
            "type": "mesh3d"
           }
          ],
          "parcoords": [
           {
            "line": {
             "colorbar": {
              "outlinewidth": 0,
              "ticks": ""
             }
            },
            "type": "parcoords"
           }
          ],
          "pie": [
           {
            "automargin": true,
            "type": "pie"
           }
          ],
          "scatter": [
           {
            "fillpattern": {
             "fillmode": "overlay",
             "size": 10,
             "solidity": 0.2
            },
            "type": "scatter"
           }
          ],
          "scatter3d": [
           {
            "line": {
             "colorbar": {
              "outlinewidth": 0,
              "ticks": ""
             }
            },
            "marker": {
             "colorbar": {
              "outlinewidth": 0,
              "ticks": ""
             }
            },
            "type": "scatter3d"
           }
          ],
          "scattercarpet": [
           {
            "marker": {
             "colorbar": {
              "outlinewidth": 0,
              "ticks": ""
             }
            },
            "type": "scattercarpet"
           }
          ],
          "scattergeo": [
           {
            "marker": {
             "colorbar": {
              "outlinewidth": 0,
              "ticks": ""
             }
            },
            "type": "scattergeo"
           }
          ],
          "scattergl": [
           {
            "marker": {
             "colorbar": {
              "outlinewidth": 0,
              "ticks": ""
             }
            },
            "type": "scattergl"
           }
          ],
          "scattermapbox": [
           {
            "marker": {
             "colorbar": {
              "outlinewidth": 0,
              "ticks": ""
             }
            },
            "type": "scattermapbox"
           }
          ],
          "scatterpolar": [
           {
            "marker": {
             "colorbar": {
              "outlinewidth": 0,
              "ticks": ""
             }
            },
            "type": "scatterpolar"
           }
          ],
          "scatterpolargl": [
           {
            "marker": {
             "colorbar": {
              "outlinewidth": 0,
              "ticks": ""
             }
            },
            "type": "scatterpolargl"
           }
          ],
          "scatterternary": [
           {
            "marker": {
             "colorbar": {
              "outlinewidth": 0,
              "ticks": ""
             }
            },
            "type": "scatterternary"
           }
          ],
          "surface": [
           {
            "colorbar": {
             "outlinewidth": 0,
             "ticks": ""
            },
            "colorscale": [
             [
              0,
              "#0d0887"
             ],
             [
              0.1111111111111111,
              "#46039f"
             ],
             [
              0.2222222222222222,
              "#7201a8"
             ],
             [
              0.3333333333333333,
              "#9c179e"
             ],
             [
              0.4444444444444444,
              "#bd3786"
             ],
             [
              0.5555555555555556,
              "#d8576b"
             ],
             [
              0.6666666666666666,
              "#ed7953"
             ],
             [
              0.7777777777777778,
              "#fb9f3a"
             ],
             [
              0.8888888888888888,
              "#fdca26"
             ],
             [
              1,
              "#f0f921"
             ]
            ],
            "type": "surface"
           }
          ],
          "table": [
           {
            "cells": {
             "fill": {
              "color": "#EBF0F8"
             },
             "line": {
              "color": "white"
             }
            },
            "header": {
             "fill": {
              "color": "#C8D4E3"
             },
             "line": {
              "color": "white"
             }
            },
            "type": "table"
           }
          ]
         },
         "layout": {
          "annotationdefaults": {
           "arrowcolor": "#2a3f5f",
           "arrowhead": 0,
           "arrowwidth": 1
          },
          "autotypenumbers": "strict",
          "coloraxis": {
           "colorbar": {
            "outlinewidth": 0,
            "ticks": ""
           }
          },
          "colorscale": {
           "diverging": [
            [
             0,
             "#8e0152"
            ],
            [
             0.1,
             "#c51b7d"
            ],
            [
             0.2,
             "#de77ae"
            ],
            [
             0.3,
             "#f1b6da"
            ],
            [
             0.4,
             "#fde0ef"
            ],
            [
             0.5,
             "#f7f7f7"
            ],
            [
             0.6,
             "#e6f5d0"
            ],
            [
             0.7,
             "#b8e186"
            ],
            [
             0.8,
             "#7fbc41"
            ],
            [
             0.9,
             "#4d9221"
            ],
            [
             1,
             "#276419"
            ]
           ],
           "sequential": [
            [
             0,
             "#0d0887"
            ],
            [
             0.1111111111111111,
             "#46039f"
            ],
            [
             0.2222222222222222,
             "#7201a8"
            ],
            [
             0.3333333333333333,
             "#9c179e"
            ],
            [
             0.4444444444444444,
             "#bd3786"
            ],
            [
             0.5555555555555556,
             "#d8576b"
            ],
            [
             0.6666666666666666,
             "#ed7953"
            ],
            [
             0.7777777777777778,
             "#fb9f3a"
            ],
            [
             0.8888888888888888,
             "#fdca26"
            ],
            [
             1,
             "#f0f921"
            ]
           ],
           "sequentialminus": [
            [
             0,
             "#0d0887"
            ],
            [
             0.1111111111111111,
             "#46039f"
            ],
            [
             0.2222222222222222,
             "#7201a8"
            ],
            [
             0.3333333333333333,
             "#9c179e"
            ],
            [
             0.4444444444444444,
             "#bd3786"
            ],
            [
             0.5555555555555556,
             "#d8576b"
            ],
            [
             0.6666666666666666,
             "#ed7953"
            ],
            [
             0.7777777777777778,
             "#fb9f3a"
            ],
            [
             0.8888888888888888,
             "#fdca26"
            ],
            [
             1,
             "#f0f921"
            ]
           ]
          },
          "colorway": [
           "#636efa",
           "#EF553B",
           "#00cc96",
           "#ab63fa",
           "#FFA15A",
           "#19d3f3",
           "#FF6692",
           "#B6E880",
           "#FF97FF",
           "#FECB52"
          ],
          "font": {
           "color": "#2a3f5f"
          },
          "geo": {
           "bgcolor": "white",
           "lakecolor": "white",
           "landcolor": "#E5ECF6",
           "showlakes": true,
           "showland": true,
           "subunitcolor": "white"
          },
          "hoverlabel": {
           "align": "left"
          },
          "hovermode": "closest",
          "mapbox": {
           "style": "light"
          },
          "paper_bgcolor": "white",
          "plot_bgcolor": "#E5ECF6",
          "polar": {
           "angularaxis": {
            "gridcolor": "white",
            "linecolor": "white",
            "ticks": ""
           },
           "bgcolor": "#E5ECF6",
           "radialaxis": {
            "gridcolor": "white",
            "linecolor": "white",
            "ticks": ""
           }
          },
          "scene": {
           "xaxis": {
            "backgroundcolor": "#E5ECF6",
            "gridcolor": "white",
            "gridwidth": 2,
            "linecolor": "white",
            "showbackground": true,
            "ticks": "",
            "zerolinecolor": "white"
           },
           "yaxis": {
            "backgroundcolor": "#E5ECF6",
            "gridcolor": "white",
            "gridwidth": 2,
            "linecolor": "white",
            "showbackground": true,
            "ticks": "",
            "zerolinecolor": "white"
           },
           "zaxis": {
            "backgroundcolor": "#E5ECF6",
            "gridcolor": "white",
            "gridwidth": 2,
            "linecolor": "white",
            "showbackground": true,
            "ticks": "",
            "zerolinecolor": "white"
           }
          },
          "shapedefaults": {
           "line": {
            "color": "#2a3f5f"
           }
          },
          "ternary": {
           "aaxis": {
            "gridcolor": "white",
            "linecolor": "white",
            "ticks": ""
           },
           "baxis": {
            "gridcolor": "white",
            "linecolor": "white",
            "ticks": ""
           },
           "bgcolor": "#E5ECF6",
           "caxis": {
            "gridcolor": "white",
            "linecolor": "white",
            "ticks": ""
           }
          },
          "title": {
           "x": 0.05
          },
          "xaxis": {
           "automargin": true,
           "gridcolor": "white",
           "linecolor": "white",
           "ticks": "",
           "title": {
            "standoff": 15
           },
           "zerolinecolor": "white",
           "zerolinewidth": 2
          },
          "yaxis": {
           "automargin": true,
           "gridcolor": "white",
           "linecolor": "white",
           "ticks": "",
           "title": {
            "standoff": 15
           },
           "zerolinecolor": "white",
           "zerolinewidth": 2
          }
         }
        },
        "title": {
         "text": "Distribution of Labels"
        },
        "xaxis": {
         "title": {
          "text": "Label"
         }
        },
        "yaxis": {
         "title": {
          "text": "Count"
         }
        }
       }
      },
      "text/html": [
       "<div>                            <div id=\"cf636d96-7ce0-472b-a9b2-dcafa3679ea6\" class=\"plotly-graph-div\" style=\"height:525px; width:100%;\"></div>            <script type=\"text/javascript\">                require([\"plotly\"], function(Plotly) {                    window.PLOTLYENV=window.PLOTLYENV || {};                                    if (document.getElementById(\"cf636d96-7ce0-472b-a9b2-dcafa3679ea6\")) {                    Plotly.newPlot(                        \"cf636d96-7ce0-472b-a9b2-dcafa3679ea6\",                        [{\"marker\":{\"color\":[\"rgb(58,  71,  80)\",\"rgb(255,  87,  51)\"]},\"orientation\":\"v\",\"text\":[\"7411\",\"773\"],\"x\":[\"Label  0\",\"Label  1\"],\"y\":[7411,773],\"type\":\"bar\"}],                        {\"template\":{\"data\":{\"barpolar\":[{\"marker\":{\"line\":{\"color\":\"#E5ECF6\",\"width\":0.5},\"pattern\":{\"fillmode\":\"overlay\",\"size\":10,\"solidity\":0.2}},\"type\":\"barpolar\"}],\"bar\":[{\"error_x\":{\"color\":\"#2a3f5f\"},\"error_y\":{\"color\":\"#2a3f5f\"},\"marker\":{\"line\":{\"color\":\"#E5ECF6\",\"width\":0.5},\"pattern\":{\"fillmode\":\"overlay\",\"size\":10,\"solidity\":0.2}},\"type\":\"bar\"}],\"carpet\":[{\"aaxis\":{\"endlinecolor\":\"#2a3f5f\",\"gridcolor\":\"white\",\"linecolor\":\"white\",\"minorgridcolor\":\"white\",\"startlinecolor\":\"#2a3f5f\"},\"baxis\":{\"endlinecolor\":\"#2a3f5f\",\"gridcolor\":\"white\",\"linecolor\":\"white\",\"minorgridcolor\":\"white\",\"startlinecolor\":\"#2a3f5f\"},\"type\":\"carpet\"}],\"choropleth\":[{\"colorbar\":{\"outlinewidth\":0,\"ticks\":\"\"},\"type\":\"choropleth\"}],\"contourcarpet\":[{\"colorbar\":{\"outlinewidth\":0,\"ticks\":\"\"},\"type\":\"contourcarpet\"}],\"contour\":[{\"colorbar\":{\"outlinewidth\":0,\"ticks\":\"\"},\"colorscale\":[[0.0,\"#0d0887\"],[0.1111111111111111,\"#46039f\"],[0.2222222222222222,\"#7201a8\"],[0.3333333333333333,\"#9c179e\"],[0.4444444444444444,\"#bd3786\"],[0.5555555555555556,\"#d8576b\"],[0.6666666666666666,\"#ed7953\"],[0.7777777777777778,\"#fb9f3a\"],[0.8888888888888888,\"#fdca26\"],[1.0,\"#f0f921\"]],\"type\":\"contour\"}],\"heatmapgl\":[{\"colorbar\":{\"outlinewidth\":0,\"ticks\":\"\"},\"colorscale\":[[0.0,\"#0d0887\"],[0.1111111111111111,\"#46039f\"],[0.2222222222222222,\"#7201a8\"],[0.3333333333333333,\"#9c179e\"],[0.4444444444444444,\"#bd3786\"],[0.5555555555555556,\"#d8576b\"],[0.6666666666666666,\"#ed7953\"],[0.7777777777777778,\"#fb9f3a\"],[0.8888888888888888,\"#fdca26\"],[1.0,\"#f0f921\"]],\"type\":\"heatmapgl\"}],\"heatmap\":[{\"colorbar\":{\"outlinewidth\":0,\"ticks\":\"\"},\"colorscale\":[[0.0,\"#0d0887\"],[0.1111111111111111,\"#46039f\"],[0.2222222222222222,\"#7201a8\"],[0.3333333333333333,\"#9c179e\"],[0.4444444444444444,\"#bd3786\"],[0.5555555555555556,\"#d8576b\"],[0.6666666666666666,\"#ed7953\"],[0.7777777777777778,\"#fb9f3a\"],[0.8888888888888888,\"#fdca26\"],[1.0,\"#f0f921\"]],\"type\":\"heatmap\"}],\"histogram2dcontour\":[{\"colorbar\":{\"outlinewidth\":0,\"ticks\":\"\"},\"colorscale\":[[0.0,\"#0d0887\"],[0.1111111111111111,\"#46039f\"],[0.2222222222222222,\"#7201a8\"],[0.3333333333333333,\"#9c179e\"],[0.4444444444444444,\"#bd3786\"],[0.5555555555555556,\"#d8576b\"],[0.6666666666666666,\"#ed7953\"],[0.7777777777777778,\"#fb9f3a\"],[0.8888888888888888,\"#fdca26\"],[1.0,\"#f0f921\"]],\"type\":\"histogram2dcontour\"}],\"histogram2d\":[{\"colorbar\":{\"outlinewidth\":0,\"ticks\":\"\"},\"colorscale\":[[0.0,\"#0d0887\"],[0.1111111111111111,\"#46039f\"],[0.2222222222222222,\"#7201a8\"],[0.3333333333333333,\"#9c179e\"],[0.4444444444444444,\"#bd3786\"],[0.5555555555555556,\"#d8576b\"],[0.6666666666666666,\"#ed7953\"],[0.7777777777777778,\"#fb9f3a\"],[0.8888888888888888,\"#fdca26\"],[1.0,\"#f0f921\"]],\"type\":\"histogram2d\"}],\"histogram\":[{\"marker\":{\"pattern\":{\"fillmode\":\"overlay\",\"size\":10,\"solidity\":0.2}},\"type\":\"histogram\"}],\"mesh3d\":[{\"colorbar\":{\"outlinewidth\":0,\"ticks\":\"\"},\"type\":\"mesh3d\"}],\"parcoords\":[{\"line\":{\"colorbar\":{\"outlinewidth\":0,\"ticks\":\"\"}},\"type\":\"parcoords\"}],\"pie\":[{\"automargin\":true,\"type\":\"pie\"}],\"scatter3d\":[{\"line\":{\"colorbar\":{\"outlinewidth\":0,\"ticks\":\"\"}},\"marker\":{\"colorbar\":{\"outlinewidth\":0,\"ticks\":\"\"}},\"type\":\"scatter3d\"}],\"scattercarpet\":[{\"marker\":{\"colorbar\":{\"outlinewidth\":0,\"ticks\":\"\"}},\"type\":\"scattercarpet\"}],\"scattergeo\":[{\"marker\":{\"colorbar\":{\"outlinewidth\":0,\"ticks\":\"\"}},\"type\":\"scattergeo\"}],\"scattergl\":[{\"marker\":{\"colorbar\":{\"outlinewidth\":0,\"ticks\":\"\"}},\"type\":\"scattergl\"}],\"scattermapbox\":[{\"marker\":{\"colorbar\":{\"outlinewidth\":0,\"ticks\":\"\"}},\"type\":\"scattermapbox\"}],\"scatterpolargl\":[{\"marker\":{\"colorbar\":{\"outlinewidth\":0,\"ticks\":\"\"}},\"type\":\"scatterpolargl\"}],\"scatterpolar\":[{\"marker\":{\"colorbar\":{\"outlinewidth\":0,\"ticks\":\"\"}},\"type\":\"scatterpolar\"}],\"scatter\":[{\"fillpattern\":{\"fillmode\":\"overlay\",\"size\":10,\"solidity\":0.2},\"type\":\"scatter\"}],\"scatterternary\":[{\"marker\":{\"colorbar\":{\"outlinewidth\":0,\"ticks\":\"\"}},\"type\":\"scatterternary\"}],\"surface\":[{\"colorbar\":{\"outlinewidth\":0,\"ticks\":\"\"},\"colorscale\":[[0.0,\"#0d0887\"],[0.1111111111111111,\"#46039f\"],[0.2222222222222222,\"#7201a8\"],[0.3333333333333333,\"#9c179e\"],[0.4444444444444444,\"#bd3786\"],[0.5555555555555556,\"#d8576b\"],[0.6666666666666666,\"#ed7953\"],[0.7777777777777778,\"#fb9f3a\"],[0.8888888888888888,\"#fdca26\"],[1.0,\"#f0f921\"]],\"type\":\"surface\"}],\"table\":[{\"cells\":{\"fill\":{\"color\":\"#EBF0F8\"},\"line\":{\"color\":\"white\"}},\"header\":{\"fill\":{\"color\":\"#C8D4E3\"},\"line\":{\"color\":\"white\"}},\"type\":\"table\"}]},\"layout\":{\"annotationdefaults\":{\"arrowcolor\":\"#2a3f5f\",\"arrowhead\":0,\"arrowwidth\":1},\"autotypenumbers\":\"strict\",\"coloraxis\":{\"colorbar\":{\"outlinewidth\":0,\"ticks\":\"\"}},\"colorscale\":{\"diverging\":[[0,\"#8e0152\"],[0.1,\"#c51b7d\"],[0.2,\"#de77ae\"],[0.3,\"#f1b6da\"],[0.4,\"#fde0ef\"],[0.5,\"#f7f7f7\"],[0.6,\"#e6f5d0\"],[0.7,\"#b8e186\"],[0.8,\"#7fbc41\"],[0.9,\"#4d9221\"],[1,\"#276419\"]],\"sequential\":[[0.0,\"#0d0887\"],[0.1111111111111111,\"#46039f\"],[0.2222222222222222,\"#7201a8\"],[0.3333333333333333,\"#9c179e\"],[0.4444444444444444,\"#bd3786\"],[0.5555555555555556,\"#d8576b\"],[0.6666666666666666,\"#ed7953\"],[0.7777777777777778,\"#fb9f3a\"],[0.8888888888888888,\"#fdca26\"],[1.0,\"#f0f921\"]],\"sequentialminus\":[[0.0,\"#0d0887\"],[0.1111111111111111,\"#46039f\"],[0.2222222222222222,\"#7201a8\"],[0.3333333333333333,\"#9c179e\"],[0.4444444444444444,\"#bd3786\"],[0.5555555555555556,\"#d8576b\"],[0.6666666666666666,\"#ed7953\"],[0.7777777777777778,\"#fb9f3a\"],[0.8888888888888888,\"#fdca26\"],[1.0,\"#f0f921\"]]},\"colorway\":[\"#636efa\",\"#EF553B\",\"#00cc96\",\"#ab63fa\",\"#FFA15A\",\"#19d3f3\",\"#FF6692\",\"#B6E880\",\"#FF97FF\",\"#FECB52\"],\"font\":{\"color\":\"#2a3f5f\"},\"geo\":{\"bgcolor\":\"white\",\"lakecolor\":\"white\",\"landcolor\":\"#E5ECF6\",\"showlakes\":true,\"showland\":true,\"subunitcolor\":\"white\"},\"hoverlabel\":{\"align\":\"left\"},\"hovermode\":\"closest\",\"mapbox\":{\"style\":\"light\"},\"paper_bgcolor\":\"white\",\"plot_bgcolor\":\"#E5ECF6\",\"polar\":{\"angularaxis\":{\"gridcolor\":\"white\",\"linecolor\":\"white\",\"ticks\":\"\"},\"bgcolor\":\"#E5ECF6\",\"radialaxis\":{\"gridcolor\":\"white\",\"linecolor\":\"white\",\"ticks\":\"\"}},\"scene\":{\"xaxis\":{\"backgroundcolor\":\"#E5ECF6\",\"gridcolor\":\"white\",\"gridwidth\":2,\"linecolor\":\"white\",\"showbackground\":true,\"ticks\":\"\",\"zerolinecolor\":\"white\"},\"yaxis\":{\"backgroundcolor\":\"#E5ECF6\",\"gridcolor\":\"white\",\"gridwidth\":2,\"linecolor\":\"white\",\"showbackground\":true,\"ticks\":\"\",\"zerolinecolor\":\"white\"},\"zaxis\":{\"backgroundcolor\":\"#E5ECF6\",\"gridcolor\":\"white\",\"gridwidth\":2,\"linecolor\":\"white\",\"showbackground\":true,\"ticks\":\"\",\"zerolinecolor\":\"white\"}},\"shapedefaults\":{\"line\":{\"color\":\"#2a3f5f\"}},\"ternary\":{\"aaxis\":{\"gridcolor\":\"white\",\"linecolor\":\"white\",\"ticks\":\"\"},\"baxis\":{\"gridcolor\":\"white\",\"linecolor\":\"white\",\"ticks\":\"\"},\"bgcolor\":\"#E5ECF6\",\"caxis\":{\"gridcolor\":\"white\",\"linecolor\":\"white\",\"ticks\":\"\"}},\"title\":{\"x\":0.05},\"xaxis\":{\"automargin\":true,\"gridcolor\":\"white\",\"linecolor\":\"white\",\"ticks\":\"\",\"title\":{\"standoff\":15},\"zerolinecolor\":\"white\",\"zerolinewidth\":2},\"yaxis\":{\"automargin\":true,\"gridcolor\":\"white\",\"linecolor\":\"white\",\"ticks\":\"\",\"title\":{\"standoff\":15},\"zerolinecolor\":\"white\",\"zerolinewidth\":2}}},\"title\":{\"text\":\"Distribution of Labels\"},\"xaxis\":{\"title\":{\"text\":\"Label\"}},\"yaxis\":{\"title\":{\"text\":\"Count\"}}},                        {\"responsive\": true}                    ).then(function(){\n",
       "                            \n",
       "var gd = document.getElementById('cf636d96-7ce0-472b-a9b2-dcafa3679ea6');\n",
       "var x = new MutationObserver(function (mutations, observer) {{\n",
       "        var display = window.getComputedStyle(gd).display;\n",
       "        if (!display || display === 'none') {{\n",
       "            console.log([gd, 'removed!']);\n",
       "            Plotly.purge(gd);\n",
       "            observer.disconnect();\n",
       "        }}\n",
       "}});\n",
       "\n",
       "// Listen for the removal of the full notebook cells\n",
       "var notebookContainer = gd.closest('#notebook-container');\n",
       "if (notebookContainer) {{\n",
       "    x.observe(notebookContainer, {childList: true});\n",
       "}}\n",
       "\n",
       "// Listen for the clearing of the current output cell\n",
       "var outputEl = gd.closest('.output');\n",
       "if (outputEl) {{\n",
       "    x.observe(outputEl, {childList: true});\n",
       "}}\n",
       "\n",
       "                        })                };                });            </script>        </div>"
      ]
     },
     "metadata": {},
     "output_type": "display_data"
    }
   ],
   "source": [
    "label_counts = train_data['label'].value_counts()\n",
    "\n",
    "trace = go.Bar(\n",
    "    x=['Label  0', 'Label  1'],\n",
    "    y=[label_counts[0], label_counts[1]],\n",
    "    text=[label_counts[0], label_counts[1]],\n",
    "    marker=dict(\n",
    "        color=['rgb(58,  71,  80)', 'rgb(255,  87,  51)']\n",
    "    ),\n",
    "    orientation='v'\n",
    ")\n",
    "\n",
    "layout = go.Layout(\n",
    "    title='Distribution of Labels',\n",
    "    xaxis=dict(\n",
    "        title='Label'\n",
    "    ),\n",
    "    yaxis=dict(\n",
    "        title='Count'\n",
    "    )\n",
    ")\n",
    "\n",
    "data = [trace]\n",
    "\n",
    "init_notebook_mode(connected=True)\n",
    "iplot({'data': data, 'layout': layout})\n"
   ]
  },
  {
   "cell_type": "markdown",
   "metadata": {},
   "source": [
    "В данных видим, то у нас один класс практически в 10 раз больше другого. Это может привести к недообучению модели, поэтому выборку неплохо было бы сбалансировать. Применим метод апсемлинга. Введем коэффициент (rat), который указывает, во сколько раз количество записей в классе с меткой 0 больше, чем количество записей в классе с меткой 1. Далее повторяем наименьший наименьший класс ровно rat раз, добавляем к датасету, смешиваем и приводим впорядок индексы."
   ]
  },
  {
   "cell_type": "code",
   "execution_count": 272,
   "metadata": {},
   "outputs": [
    {
     "name": "stdout",
     "output_type": "stream",
     "text": [
      "0    7411\n",
      "1    6957\n",
      "Name: label, dtype: int64\n"
     ]
    }
   ],
   "source": [
    "rat = len(train_data.loc[train_data['label']==0]) // len(train_data.loc[train_data['label']==1])\n",
    "\n",
    "df_1 = train_data.loc[train_data['label']==1]\n",
    "df_1 = df_1.loc[df_1.index.repeat(rat)]\n",
    "\n",
    "train_data = pd.concat([train_data.loc[train_data['label']==0], df_1]).sample(frac=1)\n",
    "\n",
    "train_data.reset_index(drop=True, inplace=True)\n",
    "\n",
    "print(train_data['label'].value_counts())\n"
   ]
  },
  {
   "cell_type": "markdown",
   "metadata": {},
   "source": [
    "## Токенизация, лемматизация, накидывание признаков"
   ]
  },
  {
   "cell_type": "markdown",
   "metadata": {},
   "source": [
    "Далее займёмся featureendineering. Поделим твиты на токены, лематизируем, оставим основы, подсчитаем количество частей речи. Также заюзаем W2V."
   ]
  },
  {
   "cell_type": "code",
   "execution_count": 273,
   "metadata": {},
   "outputs": [],
   "source": [
    "train_data = train_data.drop('tweet_id', axis=1)\n",
    "test_data = test_data.drop('tweet_id', axis=1)\n",
    "valid_data = valid_data.drop('tweet_id', axis=1)"
   ]
  },
  {
   "cell_type": "code",
   "execution_count": 274,
   "metadata": {},
   "outputs": [],
   "source": [
    "def clean_lemmatize_token(tweet):\n",
    "    \n",
    "    '''Предобработка текста, удаление пунктуации, все символы к нижнему регистру, лемматизация слов'''\n",
    "\n",
    "    cleaned = tweet.translate(str.maketrans('', '', string.punctuation)).lower()\n",
    "\n",
    "    tokenized = word_tokenize(cleaned)\n",
    "\n",
    "    lemmatizer = WordNetLemmatizer()\n",
    "    lemmatized = [lemmatizer.lemmatize(word) for word in tokenized]\n",
    "\n",
    "    lemmatized_text = ' '.join(lemmatized)\n",
    "    return lemmatized_text\n",
    "\n",
    "train_data['tweet'] = train_data['tweet'].apply(clean_lemmatize_token)\n",
    "test_data['tweet'] = test_data['tweet'].apply(clean_lemmatize_token)\n",
    "valid_data['tweet'] = valid_data['tweet'].apply(clean_lemmatize_token)\n",
    "\n",
    "def lemmatize_tweet(tweet):\n",
    "    \n",
    "    '''Лемматизация текста на русском языке'''\n",
    "    \n",
    "    tokens = tweet.split()\n",
    "\n",
    "    lemmatized_tokens = [simplemma.lemmatize(token, 'ru') for token in tokens]\n",
    "\n",
    "    lemmatized_text = ' '.join(lemmatized_tokens)\n",
    "    return lemmatized_text\n",
    "\n",
    "train_data['lemmatized'] = train_data['tweet'].apply(lemmatize_tweet)\n",
    "test_data['lemmatized'] = test_data['tweet'].apply(lemmatize_tweet)\n",
    "valid_data['lemmatized'] = valid_data['tweet'].apply(lemmatize_tweet)\n",
    "\n",
    "def count_lemmas(lemmatized_text):\n",
    "    \n",
    "    '''Подсчёт лемм'''\n",
    "    \n",
    "    words = lemmatized_text.split()\n",
    "    return len(words)\n",
    "\n",
    "def count_pos_tags(lemmatized_text, pos_tags):\n",
    "    \n",
    "    '''Подсчёт количества слов с заданными частями речи в тексте'''\n",
    "    \n",
    "    tagged_words = pos_tag(word_tokenize(lemmatized_text))\n",
    "    return sum(1 for word, tag in tagged_words if tag in pos_tags)\n",
    "\n",
    "noun_pos_tags = ['NN', 'NNS', 'NNP', 'NNPS']\n",
    "verb_pos_tags = ['VB', 'VBD', 'VBG', 'VBN', 'VBP', 'VBZ']\n",
    "adjective_pos_tags = ['JJ', 'JJR', 'JJS']\n",
    "\n",
    "lemmatizer = WordNetLemmatizer()\n",
    "\n",
    "def count_unique_lemmas(text):\n",
    "    \n",
    "    '''Подсчёт уникальных лемм в тексте'''\n",
    "    \n",
    "    tokens = word_tokenize(text)\n",
    "    lemmas = [lemmatizer.lemmatize(token) for token in tokens]\n",
    "    unique_lemmas_count = len(Counter(lemmas))\n",
    "    return unique_lemmas_count\n",
    "\n",
    "porter_stemmer = PorterStemmer()\n",
    "\n",
    "def porter_stem_tweet(tweet):\n",
    "    \n",
    "    '''Стеминг текста'''\n",
    "    \n",
    "    tokens = tweet.split()\n",
    "    stemmed_tokens = [porter_stemmer.stem(token) for token in tokens]\n",
    "    stemmed_text = ' '.join(stemmed_tokens)\n",
    "    return stemmed_text\n",
    "\n",
    "def text_to_embedding(text):\n",
    "    \n",
    "    '''Преобразование текста в вектора'''\n",
    "    \n",
    "    words = text.split()\n",
    "    embeddings = [word2vec_model.wv[word] for word in words if word in word2vec_model.wv]\n",
    "    if embeddings:\n",
    "        return np.mean(embeddings, axis=0)\n",
    "    else:\n",
    "        return np.zeros(word2vec_model.vector_size)"
   ]
  },
  {
   "cell_type": "code",
   "execution_count": 275,
   "metadata": {},
   "outputs": [],
   "source": [
    "train_data = train_data.drop('tweet', axis=1)\n",
    "test_data = test_data.drop('tweet', axis=1)\n",
    "valid_data = valid_data.drop('tweet', axis=1)\n",
    "train_data = train_data.reset_index(drop=True)\n",
    "test_data = test_data.reset_index(drop=True)\n",
    "valid_data = valid_data.reset_index(drop=True)"
   ]
  },
  {
   "cell_type": "code",
   "execution_count": 276,
   "metadata": {},
   "outputs": [],
   "source": [
    "lemmatized_tweets = train_data['lemmatized'].apply(lambda x: x.split())"
   ]
  },
  {
   "cell_type": "code",
   "execution_count": 277,
   "metadata": {},
   "outputs": [],
   "source": [
    "train_data['num_lemmas'] = train_data['lemmatized'].apply(count_lemmas)\n",
    "test_data['num_lemmas'] = test_data['lemmatized'].apply(count_lemmas)\n",
    "\n",
    "train_data['num_nouns'] = train_data['lemmatized'].apply(lambda x: count_pos_tags(x, noun_pos_tags))\n",
    "train_data['num_verbs'] = train_data['lemmatized'].apply(lambda x: count_pos_tags(x, verb_pos_tags))\n",
    "train_data['num_adjectives'] = train_data['lemmatized'].apply(lambda x: count_pos_tags(x, adjective_pos_tags))\n",
    "\n",
    "test_data['num_nouns'] = test_data['lemmatized'].apply(lambda x: count_pos_tags(x, noun_pos_tags))\n",
    "test_data['num_verbs'] = test_data['lemmatized'].apply(lambda x: count_pos_tags(x, verb_pos_tags))\n",
    "test_data['num_adjectives'] = test_data['lemmatized'].apply(lambda x: count_pos_tags(x, adjective_pos_tags))\n",
    "\n",
    "valid_data['num_lemmas'] = valid_data['lemmatized'].apply(count_lemmas)\n",
    "\n",
    "valid_data['num_nouns'] = valid_data['lemmatized'].apply(lambda x: count_pos_tags(x, noun_pos_tags))\n",
    "valid_data['num_verbs'] = valid_data['lemmatized'].apply(lambda x: count_pos_tags(x, verb_pos_tags))\n",
    "valid_data['num_adjectives'] = valid_data['lemmatized'].apply(lambda x: count_pos_tags(x, adjective_pos_tags))\n",
    "\n",
    "train_data['num_pronouns'] = train_data['lemmatized'].apply(lambda x: count_pos_tags(x, ['PRON']))\n",
    "test_data['num_pronouns'] = test_data['lemmatized'].apply(lambda x: count_pos_tags(x, ['PRON']))\n",
    "valid_data['num_pronouns'] = valid_data['lemmatized'].apply(lambda x: count_pos_tags(x, ['PRON']))\n",
    "\n",
    "train_data['num_adverbs'] = train_data['lemmatized'].apply(lambda x: count_pos_tags(x, ['ADV']))\n",
    "test_data['num_adverbs'] = test_data['lemmatized'].apply(lambda x: count_pos_tags(x, ['ADV']))\n",
    "valid_data['num_adverbs'] = valid_data['lemmatized'].apply(lambda x: count_pos_tags(x, ['ADV']))\n",
    "\n",
    "train_data['num_prepositions'] = train_data['lemmatized'].apply(lambda x: count_pos_tags(x, ['ADP']))\n",
    "test_data['num_prepositions'] = test_data['lemmatized'].apply(lambda x: count_pos_tags(x, ['ADP']))\n",
    "valid_data['num_prepositions'] = valid_data['lemmatized'].apply(lambda x: count_pos_tags(x, ['ADP']))\n",
    "\n",
    "train_data['num_unique_lemmas'] = train_data['lemmatized'].apply(count_unique_lemmas)\n",
    "test_data['num_unique_lemmas'] = test_data['lemmatized'].apply(count_unique_lemmas)\n",
    "valid_data['num_unique_lemmas'] = valid_data['lemmatized'].apply(count_unique_lemmas)\n",
    "\n",
    "train_data['porter_stemmed'] = train_data['lemmatized'].apply(porter_stem_tweet)\n",
    "test_data['porter_stemmed'] = test_data['lemmatized'].apply(porter_stem_tweet)\n",
    "valid_data['porter_stemmed'] = valid_data['lemmatized'].apply(porter_stem_tweet)"
   ]
  },
  {
   "cell_type": "code",
   "execution_count": 278,
   "metadata": {},
   "outputs": [],
   "source": [
    "train_data = train_data.drop('lemmatized', axis=1)\n",
    "test_data = test_data.drop('lemmatized', axis=1)\n",
    "valid_data = valid_data.drop('lemmatized', axis=1)\n",
    "\n",
    "train_data.rename(columns={'porter_stemmed': 'lemmatized'}, inplace=True)\n",
    "test_data.rename(columns={'porter_stemmed': 'lemmatized'}, inplace=True)\n",
    "valid_data.rename(columns={'porter_stemmed': 'lemmatized'}, inplace=True)"
   ]
  },
  {
   "cell_type": "code",
   "execution_count": 279,
   "metadata": {},
   "outputs": [],
   "source": [
    "tokenized_tweets = train_data['lemmatized'].apply(lambda x: x.split())\n",
    "word2vec_model = Word2Vec(sentences=tokenized_tweets, vector_size=100, window=5, min_count=1, workers=4)"
   ]
  },
  {
   "cell_type": "code",
   "execution_count": 280,
   "metadata": {},
   "outputs": [],
   "source": [
    "X_train_word2vec = np.vstack(X_train['lemmatized'].apply(text_to_embedding))\n",
    "X_test_word2vec = np.vstack(X_test['lemmatized'].apply(text_to_embedding))\n",
    "X_valid_word2vec = np.vstack(X_valid['lemmatized'].apply(text_to_embedding))\n",
    "\n",
    "train_data = pd.concat([train_data, pd.DataFrame(X_train_word2vec)], axis=1) #объединяем вектора с данными в датасете\n",
    "test_data = pd.concat([test_data, pd.DataFrame(X_test_word2vec)], axis=1)\n",
    "valid_data = pd.concat([valid_data, pd.DataFrame(X_test_word2vec)], axis=1)\n",
    "\n",
    "train_data.fillna(0, inplace=True)\n",
    "test_data.fillna(0, inplace=True)\n",
    "valid_data.fillna(0, inplace=True)"
   ]
  },
  {
   "cell_type": "markdown",
   "metadata": {},
   "source": [
    "# Обучение"
   ]
  },
  {
   "cell_type": "markdown",
   "metadata": {},
   "source": [
    "Теперь переходим к обучению моделей. Текст разбиваем на тренировочную и тестовые выборки."
   ]
  },
  {
   "cell_type": "code",
   "execution_count": 281,
   "metadata": {},
   "outputs": [],
   "source": [
    "X = train_data.drop('label', axis=1)\n",
    "y = train_data['label']\n",
    "X_train, X_test, y_train, y_test = train_test_split(X, y, test_size=0.2, random_state=42)"
   ]
  },
  {
   "cell_type": "code",
   "execution_count": 282,
   "metadata": {},
   "outputs": [
    {
     "name": "stdout",
     "output_type": "stream",
     "text": [
      "(11494, 109)\n",
      "(2874, 109)\n",
      "(11494,)\n",
      "(2874,)\n"
     ]
    }
   ],
   "source": [
    "print(X_train.shape)\n",
    "print(X_test.shape)\n",
    "print(y_train.shape)\n",
    "print(y_test.shape)"
   ]
  },
  {
   "cell_type": "code",
   "execution_count": 283,
   "metadata": {},
   "outputs": [
    {
     "data": {
      "text/html": [
       "<div>\n",
       "<style scoped>\n",
       "    .dataframe tbody tr th:only-of-type {\n",
       "        vertical-align: middle;\n",
       "    }\n",
       "\n",
       "    .dataframe tbody tr th {\n",
       "        vertical-align: top;\n",
       "    }\n",
       "\n",
       "    .dataframe thead th {\n",
       "        text-align: right;\n",
       "    }\n",
       "</style>\n",
       "<table border=\"1\" class=\"dataframe\">\n",
       "  <thead>\n",
       "    <tr style=\"text-align: right;\">\n",
       "      <th></th>\n",
       "      <th>num_lemmas</th>\n",
       "      <th>num_nouns</th>\n",
       "      <th>num_verbs</th>\n",
       "      <th>num_adjectives</th>\n",
       "      <th>num_pronouns</th>\n",
       "      <th>num_adverbs</th>\n",
       "      <th>num_prepositions</th>\n",
       "      <th>num_unique_lemmas</th>\n",
       "      <th>lemmatized</th>\n",
       "      <th>0</th>\n",
       "      <th>...</th>\n",
       "      <th>90</th>\n",
       "      <th>91</th>\n",
       "      <th>92</th>\n",
       "      <th>93</th>\n",
       "      <th>94</th>\n",
       "      <th>95</th>\n",
       "      <th>96</th>\n",
       "      <th>97</th>\n",
       "      <th>98</th>\n",
       "      <th>99</th>\n",
       "    </tr>\n",
       "  </thead>\n",
       "  <tbody>\n",
       "    <tr>\n",
       "      <th>8247</th>\n",
       "      <td>18</td>\n",
       "      <td>17</td>\n",
       "      <td>0</td>\n",
       "      <td>1</td>\n",
       "      <td>0</td>\n",
       "      <td>0</td>\n",
       "      <td>0</td>\n",
       "      <td>16</td>\n",
       "      <td>интересный побочка от ламотриджин не мочь слад...</td>\n",
       "      <td>-0.404736</td>\n",
       "      <td>...</td>\n",
       "      <td>0.642771</td>\n",
       "      <td>0.257990</td>\n",
       "      <td>0.078146</td>\n",
       "      <td>0.134421</td>\n",
       "      <td>0.810009</td>\n",
       "      <td>0.478324</td>\n",
       "      <td>0.100386</td>\n",
       "      <td>-0.320472</td>\n",
       "      <td>0.116837</td>\n",
       "      <td>-0.105944</td>\n",
       "    </tr>\n",
       "    <tr>\n",
       "      <th>13596</th>\n",
       "      <td>7</td>\n",
       "      <td>6</td>\n",
       "      <td>0</td>\n",
       "      <td>1</td>\n",
       "      <td>0</td>\n",
       "      <td>0</td>\n",
       "      <td>0</td>\n",
       "      <td>7</td>\n",
       "      <td>сальбутамол в голова ударить не рассчитать доза</td>\n",
       "      <td>0.000000</td>\n",
       "      <td>...</td>\n",
       "      <td>0.000000</td>\n",
       "      <td>0.000000</td>\n",
       "      <td>0.000000</td>\n",
       "      <td>0.000000</td>\n",
       "      <td>0.000000</td>\n",
       "      <td>0.000000</td>\n",
       "      <td>0.000000</td>\n",
       "      <td>0.000000</td>\n",
       "      <td>0.000000</td>\n",
       "      <td>0.000000</td>\n",
       "    </tr>\n",
       "    <tr>\n",
       "      <th>3822</th>\n",
       "      <td>21</td>\n",
       "      <td>18</td>\n",
       "      <td>1</td>\n",
       "      <td>1</td>\n",
       "      <td>0</td>\n",
       "      <td>0</td>\n",
       "      <td>0</td>\n",
       "      <td>19</td>\n",
       "      <td>я пачка есть феназепам у меня диагноз но от се...</td>\n",
       "      <td>-0.472271</td>\n",
       "      <td>...</td>\n",
       "      <td>0.800177</td>\n",
       "      <td>0.245626</td>\n",
       "      <td>-0.096916</td>\n",
       "      <td>0.110806</td>\n",
       "      <td>0.989008</td>\n",
       "      <td>0.402261</td>\n",
       "      <td>0.060305</td>\n",
       "      <td>-0.528013</td>\n",
       "      <td>0.058411</td>\n",
       "      <td>-0.086609</td>\n",
       "    </tr>\n",
       "    <tr>\n",
       "      <th>13262</th>\n",
       "      <td>13</td>\n",
       "      <td>11</td>\n",
       "      <td>0</td>\n",
       "      <td>1</td>\n",
       "      <td>0</td>\n",
       "      <td>0</td>\n",
       "      <td>0</td>\n",
       "      <td>13</td>\n",
       "      <td>кветиапин почему ты така жестокий еще только 2...</td>\n",
       "      <td>0.000000</td>\n",
       "      <td>...</td>\n",
       "      <td>0.000000</td>\n",
       "      <td>0.000000</td>\n",
       "      <td>0.000000</td>\n",
       "      <td>0.000000</td>\n",
       "      <td>0.000000</td>\n",
       "      <td>0.000000</td>\n",
       "      <td>0.000000</td>\n",
       "      <td>0.000000</td>\n",
       "      <td>0.000000</td>\n",
       "      <td>0.000000</td>\n",
       "    </tr>\n",
       "    <tr>\n",
       "      <th>6086</th>\n",
       "      <td>30</td>\n",
       "      <td>29</td>\n",
       "      <td>0</td>\n",
       "      <td>1</td>\n",
       "      <td>0</td>\n",
       "      <td>0</td>\n",
       "      <td>0</td>\n",
       "      <td>28</td>\n",
       "      <td>кроме тот что высокий доза прозака порождать п...</td>\n",
       "      <td>-0.388932</td>\n",
       "      <td>...</td>\n",
       "      <td>0.848021</td>\n",
       "      <td>0.202059</td>\n",
       "      <td>-0.047772</td>\n",
       "      <td>0.067175</td>\n",
       "      <td>0.991364</td>\n",
       "      <td>0.386252</td>\n",
       "      <td>-0.007799</td>\n",
       "      <td>-0.466347</td>\n",
       "      <td>0.008983</td>\n",
       "      <td>-0.033447</td>\n",
       "    </tr>\n",
       "    <tr>\n",
       "      <th>...</th>\n",
       "      <td>...</td>\n",
       "      <td>...</td>\n",
       "      <td>...</td>\n",
       "      <td>...</td>\n",
       "      <td>...</td>\n",
       "      <td>...</td>\n",
       "      <td>...</td>\n",
       "      <td>...</td>\n",
       "      <td>...</td>\n",
       "      <td>...</td>\n",
       "      <td>...</td>\n",
       "      <td>...</td>\n",
       "      <td>...</td>\n",
       "      <td>...</td>\n",
       "      <td>...</td>\n",
       "      <td>...</td>\n",
       "      <td>...</td>\n",
       "      <td>...</td>\n",
       "      <td>...</td>\n",
       "      <td>...</td>\n",
       "      <td>...</td>\n",
       "    </tr>\n",
       "    <tr>\n",
       "      <th>5191</th>\n",
       "      <td>8</td>\n",
       "      <td>7</td>\n",
       "      <td>0</td>\n",
       "      <td>1</td>\n",
       "      <td>0</td>\n",
       "      <td>0</td>\n",
       "      <td>0</td>\n",
       "      <td>8</td>\n",
       "      <td>да у меня закончиться курс флуоксетина сильный...</td>\n",
       "      <td>-0.586438</td>\n",
       "      <td>...</td>\n",
       "      <td>0.854336</td>\n",
       "      <td>0.318982</td>\n",
       "      <td>-0.090158</td>\n",
       "      <td>0.209664</td>\n",
       "      <td>1.036224</td>\n",
       "      <td>0.572233</td>\n",
       "      <td>0.060834</td>\n",
       "      <td>-0.612618</td>\n",
       "      <td>0.086986</td>\n",
       "      <td>-0.083254</td>\n",
       "    </tr>\n",
       "    <tr>\n",
       "      <th>13418</th>\n",
       "      <td>15</td>\n",
       "      <td>12</td>\n",
       "      <td>1</td>\n",
       "      <td>0</td>\n",
       "      <td>0</td>\n",
       "      <td>0</td>\n",
       "      <td>0</td>\n",
       "      <td>15</td>\n",
       "      <td>aalien gtи да я в депрессия венлафаксин 300мгс...</td>\n",
       "      <td>0.000000</td>\n",
       "      <td>...</td>\n",
       "      <td>0.000000</td>\n",
       "      <td>0.000000</td>\n",
       "      <td>0.000000</td>\n",
       "      <td>0.000000</td>\n",
       "      <td>0.000000</td>\n",
       "      <td>0.000000</td>\n",
       "      <td>0.000000</td>\n",
       "      <td>0.000000</td>\n",
       "      <td>0.000000</td>\n",
       "      <td>0.000000</td>\n",
       "    </tr>\n",
       "    <tr>\n",
       "      <th>5390</th>\n",
       "      <td>6</td>\n",
       "      <td>5</td>\n",
       "      <td>0</td>\n",
       "      <td>1</td>\n",
       "      <td>0</td>\n",
       "      <td>0</td>\n",
       "      <td>0</td>\n",
       "      <td>6</td>\n",
       "      <td>присниться шо закинуться ксанаксом в аптека</td>\n",
       "      <td>-0.611085</td>\n",
       "      <td>...</td>\n",
       "      <td>0.969584</td>\n",
       "      <td>0.355296</td>\n",
       "      <td>0.010099</td>\n",
       "      <td>0.198648</td>\n",
       "      <td>1.061168</td>\n",
       "      <td>0.535623</td>\n",
       "      <td>0.120014</td>\n",
       "      <td>-0.511037</td>\n",
       "      <td>0.107483</td>\n",
       "      <td>-0.131283</td>\n",
       "    </tr>\n",
       "    <tr>\n",
       "      <th>860</th>\n",
       "      <td>18</td>\n",
       "      <td>17</td>\n",
       "      <td>0</td>\n",
       "      <td>1</td>\n",
       "      <td>0</td>\n",
       "      <td>0</td>\n",
       "      <td>0</td>\n",
       "      <td>17</td>\n",
       "      <td>на совещание рассказать как дитя траванулись б...</td>\n",
       "      <td>-0.528755</td>\n",
       "      <td>...</td>\n",
       "      <td>0.771560</td>\n",
       "      <td>0.295881</td>\n",
       "      <td>0.045702</td>\n",
       "      <td>0.108926</td>\n",
       "      <td>0.932827</td>\n",
       "      <td>0.524666</td>\n",
       "      <td>0.105029</td>\n",
       "      <td>-0.451394</td>\n",
       "      <td>0.043812</td>\n",
       "      <td>-0.158478</td>\n",
       "    </tr>\n",
       "    <tr>\n",
       "      <th>7270</th>\n",
       "      <td>6</td>\n",
       "      <td>5</td>\n",
       "      <td>0</td>\n",
       "      <td>1</td>\n",
       "      <td>0</td>\n",
       "      <td>0</td>\n",
       "      <td>0</td>\n",
       "      <td>6</td>\n",
       "      <td>тогда уж хороший фенибут и флуоксетин</td>\n",
       "      <td>-0.635612</td>\n",
       "      <td>...</td>\n",
       "      <td>1.027478</td>\n",
       "      <td>0.353154</td>\n",
       "      <td>-0.072162</td>\n",
       "      <td>0.167544</td>\n",
       "      <td>1.342673</td>\n",
       "      <td>0.517930</td>\n",
       "      <td>0.087562</td>\n",
       "      <td>-0.682186</td>\n",
       "      <td>0.191092</td>\n",
       "      <td>-0.113539</td>\n",
       "    </tr>\n",
       "  </tbody>\n",
       "</table>\n",
       "<p>11494 rows × 109 columns</p>\n",
       "</div>"
      ],
      "text/plain": [
       "       num_lemmas  num_nouns  num_verbs  num_adjectives  num_pronouns  \\\n",
       "8247           18         17          0               1             0   \n",
       "13596           7          6          0               1             0   \n",
       "3822           21         18          1               1             0   \n",
       "13262          13         11          0               1             0   \n",
       "6086           30         29          0               1             0   \n",
       "...           ...        ...        ...             ...           ...   \n",
       "5191            8          7          0               1             0   \n",
       "13418          15         12          1               0             0   \n",
       "5390            6          5          0               1             0   \n",
       "860            18         17          0               1             0   \n",
       "7270            6          5          0               1             0   \n",
       "\n",
       "       num_adverbs  num_prepositions  num_unique_lemmas  \\\n",
       "8247             0                 0                 16   \n",
       "13596            0                 0                  7   \n",
       "3822             0                 0                 19   \n",
       "13262            0                 0                 13   \n",
       "6086             0                 0                 28   \n",
       "...            ...               ...                ...   \n",
       "5191             0                 0                  8   \n",
       "13418            0                 0                 15   \n",
       "5390             0                 0                  6   \n",
       "860              0                 0                 17   \n",
       "7270             0                 0                  6   \n",
       "\n",
       "                                              lemmatized         0  ...  \\\n",
       "8247   интересный побочка от ламотриджин не мочь слад... -0.404736  ...   \n",
       "13596    сальбутамол в голова ударить не рассчитать доза  0.000000  ...   \n",
       "3822   я пачка есть феназепам у меня диагноз но от се... -0.472271  ...   \n",
       "13262  кветиапин почему ты така жестокий еще только 2...  0.000000  ...   \n",
       "6086   кроме тот что высокий доза прозака порождать п... -0.388932  ...   \n",
       "...                                                  ...       ...  ...   \n",
       "5191   да у меня закончиться курс флуоксетина сильный... -0.586438  ...   \n",
       "13418  aalien gtи да я в депрессия венлафаксин 300мгс...  0.000000  ...   \n",
       "5390         присниться шо закинуться ксанаксом в аптека -0.611085  ...   \n",
       "860    на совещание рассказать как дитя траванулись б... -0.528755  ...   \n",
       "7270               тогда уж хороший фенибут и флуоксетин -0.635612  ...   \n",
       "\n",
       "             90        91        92        93        94        95        96  \\\n",
       "8247   0.642771  0.257990  0.078146  0.134421  0.810009  0.478324  0.100386   \n",
       "13596  0.000000  0.000000  0.000000  0.000000  0.000000  0.000000  0.000000   \n",
       "3822   0.800177  0.245626 -0.096916  0.110806  0.989008  0.402261  0.060305   \n",
       "13262  0.000000  0.000000  0.000000  0.000000  0.000000  0.000000  0.000000   \n",
       "6086   0.848021  0.202059 -0.047772  0.067175  0.991364  0.386252 -0.007799   \n",
       "...         ...       ...       ...       ...       ...       ...       ...   \n",
       "5191   0.854336  0.318982 -0.090158  0.209664  1.036224  0.572233  0.060834   \n",
       "13418  0.000000  0.000000  0.000000  0.000000  0.000000  0.000000  0.000000   \n",
       "5390   0.969584  0.355296  0.010099  0.198648  1.061168  0.535623  0.120014   \n",
       "860    0.771560  0.295881  0.045702  0.108926  0.932827  0.524666  0.105029   \n",
       "7270   1.027478  0.353154 -0.072162  0.167544  1.342673  0.517930  0.087562   \n",
       "\n",
       "             97        98        99  \n",
       "8247  -0.320472  0.116837 -0.105944  \n",
       "13596  0.000000  0.000000  0.000000  \n",
       "3822  -0.528013  0.058411 -0.086609  \n",
       "13262  0.000000  0.000000  0.000000  \n",
       "6086  -0.466347  0.008983 -0.033447  \n",
       "...         ...       ...       ...  \n",
       "5191  -0.612618  0.086986 -0.083254  \n",
       "13418  0.000000  0.000000  0.000000  \n",
       "5390  -0.511037  0.107483 -0.131283  \n",
       "860   -0.451394  0.043812 -0.158478  \n",
       "7270  -0.682186  0.191092 -0.113539  \n",
       "\n",
       "[11494 rows x 109 columns]"
      ]
     },
     "execution_count": 283,
     "metadata": {},
     "output_type": "execute_result"
    }
   ],
   "source": [
    "X_train"
   ]
  },
  {
   "cell_type": "code",
   "execution_count": 284,
   "metadata": {},
   "outputs": [
    {
     "data": {
      "text/plain": [
       "8247     1\n",
       "13596    0\n",
       "3822     1\n",
       "13262    1\n",
       "6086     1\n",
       "        ..\n",
       "5191     0\n",
       "13418    0\n",
       "5390     0\n",
       "860      1\n",
       "7270     0\n",
       "Name: label, Length: 11494, dtype: int64"
      ]
     },
     "execution_count": 284,
     "metadata": {},
     "output_type": "execute_result"
    }
   ],
   "source": [
    "y_train"
   ]
  },
  {
   "cell_type": "markdown",
   "metadata": {},
   "source": [
    "Теперь нужно применить TF-IDF, StandartScaler и BoW отдельно к столбцу с леммами. Для этого воспользуемся трансформером."
   ]
  },
  {
   "cell_type": "code",
   "execution_count": 285,
   "metadata": {},
   "outputs": [],
   "source": [
    "custom_stop_words = set(stopwords.words('russian'))\n",
    "numerical_features = ['num_lemmas', 'num_nouns', 'num_verbs', 'num_adjectives', 'num_unique_lemmas']\n",
    "\n",
    "transformer = ColumnTransformer(\n",
    "    transformers=[\n",
    "        ('lemmatized_tfidf', TfidfVectorizer(max_features=1000, ngram_range=(1, 2), stop_words=custom_stop_words), 'lemmatized'),\n",
    "        ('numerical_scaler', StandardScaler(), numerical_features),\n",
    "        ('bag_of_words', CountVectorizer(max_features=1000, ngram_range=(1, 2), stop_words=custom_stop_words), 'lemmatized')\n",
    "    ],\n",
    "    remainder='passthrough' \n",
    ")"
   ]
  },
  {
   "cell_type": "code",
   "execution_count": 286,
   "metadata": {},
   "outputs": [
    {
     "name": "stderr",
     "output_type": "stream",
     "text": [
      "c:\\Users\\HP\\AppData\\Local\\Programs\\Python\\Python38\\lib\\site-packages\\sklearn\\utils\\validation.py:1858: FutureWarning:\n",
      "\n",
      "Feature names only support names that are all strings. Got feature names with dtypes: ['int', 'str']. An error will be raised in 1.2.\n",
      "\n"
     ]
    }
   ],
   "source": [
    "X_train_encoded = transformer.fit_transform(X_train)\n",
    "X_test_encoded = transformer.transform(X_test)"
   ]
  },
  {
   "cell_type": "code",
   "execution_count": 287,
   "metadata": {},
   "outputs": [
    {
     "name": "stdout",
     "output_type": "stream",
     "text": [
      "(11494, 2108)\n",
      "(2874, 2108)\n",
      "(11494,)\n",
      "(2874,)\n"
     ]
    }
   ],
   "source": [
    "print(X_train_encoded.shape)\n",
    "print(X_test_encoded.shape)\n",
    "print(y_train.shape)\n",
    "print(y_test.shape)"
   ]
  },
  {
   "cell_type": "markdown",
   "metadata": {},
   "source": [
    "Данные готовы. Можно переходить к моделям."
   ]
  },
  {
   "cell_type": "markdown",
   "metadata": {},
   "source": [
    "## Бейзлайн"
   ]
  },
  {
   "cell_type": "code",
   "execution_count": 288,
   "metadata": {},
   "outputs": [
    {
     "name": "stdout",
     "output_type": "stream",
     "text": [
      "ROC-AUC Score: 0.9437319605602152\n"
     ]
    },
    {
     "name": "stderr",
     "output_type": "stream",
     "text": [
      "c:\\Users\\HP\\AppData\\Local\\Programs\\Python\\Python38\\lib\\site-packages\\sklearn\\linear_model\\_logistic.py:444: ConvergenceWarning:\n",
      "\n",
      "lbfgs failed to converge (status=1):\n",
      "STOP: TOTAL NO. of ITERATIONS REACHED LIMIT.\n",
      "\n",
      "Increase the number of iterations (max_iter) or scale the data as shown in:\n",
      "    https://scikit-learn.org/stable/modules/preprocessing.html\n",
      "Please also refer to the documentation for alternative solver options:\n",
      "    https://scikit-learn.org/stable/modules/linear_model.html#logistic-regression\n",
      "\n"
     ]
    }
   ],
   "source": [
    "model = LogisticRegression()\n",
    "model.fit(X_train_encoded, y_train)\n",
    "y_pred = model.predict_proba(X_test_encoded)[:,  1]\n",
    "\n",
    "roc_auc = roc_auc_score(y_test, y_pred)\n",
    "print('ROC-AUC Score:', roc_auc)"
   ]
  },
  {
   "cell_type": "markdown",
   "metadata": {},
   "source": [
    "Логистическая регрессия показала высокую оценку ROC-AUC. Но нам нужно взять более подходящую модель для оценок, так как на тесте все может быть иначе."
   ]
  },
  {
   "cell_type": "code",
   "execution_count": 289,
   "metadata": {},
   "outputs": [
    {
     "data": {
      "image/png": "[encoded data removed]",
      "text/plain": [
       "<Figure size 432x288 with 1 Axes>"
      ]
     },
     "metadata": {
      "needs_background": "light"
     },
     "output_type": "display_data"
    }
   ],
   "source": [
    "fpr, tpr, _ = roc_curve(y_test, y_pred)\n",
    "\n",
    "roc_auc = auc(fpr, tpr)\n",
    "\n",
    "plt.figure()\n",
    "plt.plot(fpr, tpr, color='darkorange', lw=2, label='ROC curve (area = %0.2f)' % roc_auc)\n",
    "plt.plot([0,  1], [0,  1], color='navy', lw=2, linestyle='--')\n",
    "plt.xlim([0.0,  1.0])\n",
    "plt.ylim([0.0,  1.05])\n",
    "plt.xlabel('False Positive Rate')\n",
    "plt.ylabel('True Positive Rate')\n",
    "plt.title('Receiver Operating Characteristic')\n",
    "plt.legend(loc=\"lower right\")\n",
    "plt.show()"
   ]
  },
  {
   "cell_type": "markdown",
   "metadata": {},
   "source": [
    "## Выбираем модель"
   ]
  },
  {
   "cell_type": "markdown",
   "metadata": {},
   "source": [
    "Для задачи классификации в NLP хорошо бы подошёл метод опорных векторов, так как он хорошо работает в пространствах высокой размерности, хорошо работает с разреженными матрицами и подходяит для работы с векторами.\n",
    "\n",
    "Также я еще выбрал LightGBM, потому что он может достигнуть высокой точности классификации ис спосбен моделировать сложные нелинейные зависимости, а нам это и надо."
   ]
  },
  {
   "cell_type": "markdown",
   "metadata": {},
   "source": [
    "### Метод опорных векторов"
   ]
  },
  {
   "cell_type": "code",
   "execution_count": 290,
   "metadata": {},
   "outputs": [
    {
     "name": "stdout",
     "output_type": "stream",
     "text": [
      "Fitting 3 folds for each of 20 candidates, totalling 60 fits\n",
      "[CV 1/3] END C=0.1, class_weight=None, dual=True, loss=squared_hinge, penalty=l2;, score=0.945 total time=   0.8s\n",
      "[CV 2/3] END C=0.1, class_weight=None, dual=True, loss=squared_hinge, penalty=l2;, score=0.946 total time=   0.6s\n",
      "[CV 3/3] END C=0.1, class_weight=None, dual=True, loss=squared_hinge, penalty=l2;, score=0.943 total time=   0.6s\n",
      "[CV 1/3] END C=0.1, class_weight=None, dual=False, loss=squared_hinge, penalty=l2;, score=0.945 total time=   0.5s\n",
      "[CV 2/3] END C=0.1, class_weight=None, dual=False, loss=squared_hinge, penalty=l2;, score=0.946 total time=   0.4s\n",
      "[CV 3/3] END C=0.1, class_weight=None, dual=False, loss=squared_hinge, penalty=l2;, score=0.943 total time=   0.5s\n",
      "[CV 1/3] END C=0.1, class_weight=balanced, dual=True, loss=squared_hinge, penalty=l2;, score=0.945 total time=   0.6s\n",
      "[CV 2/3] END C=0.1, class_weight=balanced, dual=True, loss=squared_hinge, penalty=l2;, score=0.946 total time=   0.6s\n",
      "[CV 3/3] END C=0.1, class_weight=balanced, dual=True, loss=squared_hinge, penalty=l2;, score=0.943 total time=   0.7s\n",
      "[CV 1/3] END C=0.1, class_weight=balanced, dual=False, loss=squared_hinge, penalty=l2;, score=0.945 total time=   0.5s\n",
      "[CV 2/3] END C=0.1, class_weight=balanced, dual=False, loss=squared_hinge, penalty=l2;, score=0.946 total time=   0.5s\n",
      "[CV 3/3] END C=0.1, class_weight=balanced, dual=False, loss=squared_hinge, penalty=l2;, score=0.943 total time=   0.4s\n",
      "[CV 1/3] END C=0.5, class_weight=None, dual=True, loss=squared_hinge, penalty=l2;, score=0.948 total time=   2.3s\n"
     ]
    },
    {
     "name": "stderr",
     "output_type": "stream",
     "text": [
      "c:\\Users\\HP\\AppData\\Local\\Programs\\Python\\Python38\\lib\\site-packages\\sklearn\\svm\\_base.py:1225: ConvergenceWarning:\n",
      "\n",
      "Liblinear failed to converge, increase the number of iterations.\n",
      "\n"
     ]
    },
    {
     "name": "stdout",
     "output_type": "stream",
     "text": [
      "[CV 2/3] END C=0.5, class_weight=None, dual=True, loss=squared_hinge, penalty=l2;, score=0.948 total time=   2.8s\n",
      "[CV 3/3] END C=0.5, class_weight=None, dual=True, loss=squared_hinge, penalty=l2;, score=0.948 total time=   2.1s\n",
      "[CV 1/3] END C=0.5, class_weight=None, dual=False, loss=squared_hinge, penalty=l2;, score=0.948 total time=   0.7s\n",
      "[CV 2/3] END C=0.5, class_weight=None, dual=False, loss=squared_hinge, penalty=l2;, score=0.948 total time=   0.7s\n",
      "[CV 3/3] END C=0.5, class_weight=None, dual=False, loss=squared_hinge, penalty=l2;, score=0.948 total time=   0.6s\n"
     ]
    },
    {
     "name": "stderr",
     "output_type": "stream",
     "text": [
      "c:\\Users\\HP\\AppData\\Local\\Programs\\Python\\Python38\\lib\\site-packages\\sklearn\\svm\\_base.py:1225: ConvergenceWarning:\n",
      "\n",
      "Liblinear failed to converge, increase the number of iterations.\n",
      "\n"
     ]
    },
    {
     "name": "stdout",
     "output_type": "stream",
     "text": [
      "[CV 1/3] END C=0.5, class_weight=balanced, dual=True, loss=squared_hinge, penalty=l2;, score=0.948 total time=   3.0s\n",
      "[CV 2/3] END C=0.5, class_weight=balanced, dual=True, loss=squared_hinge, penalty=l2;, score=0.948 total time=   2.5s\n",
      "[CV 3/3] END C=0.5, class_weight=balanced, dual=True, loss=squared_hinge, penalty=l2;, score=0.948 total time=   2.1s\n",
      "[CV 1/3] END C=0.5, class_weight=balanced, dual=False, loss=squared_hinge, penalty=l2;, score=0.948 total time=   0.8s\n",
      "[CV 2/3] END C=0.5, class_weight=balanced, dual=False, loss=squared_hinge, penalty=l2;, score=0.948 total time=   0.8s\n",
      "[CV 3/3] END C=0.5, class_weight=balanced, dual=False, loss=squared_hinge, penalty=l2;, score=0.948 total time=   0.7s\n"
     ]
    },
    {
     "name": "stderr",
     "output_type": "stream",
     "text": [
      "c:\\Users\\HP\\AppData\\Local\\Programs\\Python\\Python38\\lib\\site-packages\\sklearn\\svm\\_base.py:1225: ConvergenceWarning:\n",
      "\n",
      "Liblinear failed to converge, increase the number of iterations.\n",
      "\n"
     ]
    },
    {
     "name": "stdout",
     "output_type": "stream",
     "text": [
      "[CV 1/3] END C=1, class_weight=None, dual=True, loss=squared_hinge, penalty=l2;, score=0.948 total time=   2.7s\n"
     ]
    },
    {
     "name": "stderr",
     "output_type": "stream",
     "text": [
      "c:\\Users\\HP\\AppData\\Local\\Programs\\Python\\Python38\\lib\\site-packages\\sklearn\\svm\\_base.py:1225: ConvergenceWarning:\n",
      "\n",
      "Liblinear failed to converge, increase the number of iterations.\n",
      "\n"
     ]
    },
    {
     "name": "stdout",
     "output_type": "stream",
     "text": [
      "[CV 2/3] END C=1, class_weight=None, dual=True, loss=squared_hinge, penalty=l2;, score=0.947 total time=   2.4s\n"
     ]
    },
    {
     "name": "stderr",
     "output_type": "stream",
     "text": [
      "c:\\Users\\HP\\AppData\\Local\\Programs\\Python\\Python38\\lib\\site-packages\\sklearn\\svm\\_base.py:1225: ConvergenceWarning:\n",
      "\n",
      "Liblinear failed to converge, increase the number of iterations.\n",
      "\n"
     ]
    },
    {
     "name": "stdout",
     "output_type": "stream",
     "text": [
      "[CV 3/3] END C=1, class_weight=None, dual=True, loss=squared_hinge, penalty=l2;, score=0.947 total time=   2.4s\n",
      "[CV 1/3] END C=1, class_weight=None, dual=False, loss=squared_hinge, penalty=l2;, score=0.948 total time=   0.8s\n",
      "[CV 2/3] END C=1, class_weight=None, dual=False, loss=squared_hinge, penalty=l2;, score=0.947 total time=   0.8s\n",
      "[CV 3/3] END C=1, class_weight=None, dual=False, loss=squared_hinge, penalty=l2;, score=0.947 total time=   0.8s\n"
     ]
    },
    {
     "name": "stderr",
     "output_type": "stream",
     "text": [
      "c:\\Users\\HP\\AppData\\Local\\Programs\\Python\\Python38\\lib\\site-packages\\sklearn\\svm\\_base.py:1225: ConvergenceWarning:\n",
      "\n",
      "Liblinear failed to converge, increase the number of iterations.\n",
      "\n"
     ]
    },
    {
     "name": "stdout",
     "output_type": "stream",
     "text": [
      "[CV 1/3] END C=1, class_weight=balanced, dual=True, loss=squared_hinge, penalty=l2;, score=0.948 total time=   2.8s\n"
     ]
    },
    {
     "name": "stderr",
     "output_type": "stream",
     "text": [
      "c:\\Users\\HP\\AppData\\Local\\Programs\\Python\\Python38\\lib\\site-packages\\sklearn\\svm\\_base.py:1225: ConvergenceWarning:\n",
      "\n",
      "Liblinear failed to converge, increase the number of iterations.\n",
      "\n"
     ]
    },
    {
     "name": "stdout",
     "output_type": "stream",
     "text": [
      "[CV 2/3] END C=1, class_weight=balanced, dual=True, loss=squared_hinge, penalty=l2;, score=0.947 total time=   2.6s\n"
     ]
    },
    {
     "name": "stderr",
     "output_type": "stream",
     "text": [
      "c:\\Users\\HP\\AppData\\Local\\Programs\\Python\\Python38\\lib\\site-packages\\sklearn\\svm\\_base.py:1225: ConvergenceWarning:\n",
      "\n",
      "Liblinear failed to converge, increase the number of iterations.\n",
      "\n"
     ]
    },
    {
     "name": "stdout",
     "output_type": "stream",
     "text": [
      "[CV 3/3] END C=1, class_weight=balanced, dual=True, loss=squared_hinge, penalty=l2;, score=0.948 total time=   2.8s\n",
      "[CV 1/3] END C=1, class_weight=balanced, dual=False, loss=squared_hinge, penalty=l2;, score=0.948 total time=   0.8s\n",
      "[CV 2/3] END C=1, class_weight=balanced, dual=False, loss=squared_hinge, penalty=l2;, score=0.947 total time=   0.8s\n",
      "[CV 3/3] END C=1, class_weight=balanced, dual=False, loss=squared_hinge, penalty=l2;, score=0.948 total time=   0.8s\n"
     ]
    },
    {
     "name": "stderr",
     "output_type": "stream",
     "text": [
      "c:\\Users\\HP\\AppData\\Local\\Programs\\Python\\Python38\\lib\\site-packages\\sklearn\\svm\\_base.py:1225: ConvergenceWarning:\n",
      "\n",
      "Liblinear failed to converge, increase the number of iterations.\n",
      "\n"
     ]
    },
    {
     "name": "stdout",
     "output_type": "stream",
     "text": [
      "[CV 1/3] END C=1.5, class_weight=None, dual=True, loss=squared_hinge, penalty=l2;, score=0.947 total time=   2.6s\n"
     ]
    },
    {
     "name": "stderr",
     "output_type": "stream",
     "text": [
      "c:\\Users\\HP\\AppData\\Local\\Programs\\Python\\Python38\\lib\\site-packages\\sklearn\\svm\\_base.py:1225: ConvergenceWarning:\n",
      "\n",
      "Liblinear failed to converge, increase the number of iterations.\n",
      "\n"
     ]
    },
    {
     "name": "stdout",
     "output_type": "stream",
     "text": [
      "[CV 2/3] END C=1.5, class_weight=None, dual=True, loss=squared_hinge, penalty=l2;, score=0.947 total time=   2.5s\n"
     ]
    },
    {
     "name": "stderr",
     "output_type": "stream",
     "text": [
      "c:\\Users\\HP\\AppData\\Local\\Programs\\Python\\Python38\\lib\\site-packages\\sklearn\\svm\\_base.py:1225: ConvergenceWarning:\n",
      "\n",
      "Liblinear failed to converge, increase the number of iterations.\n",
      "\n"
     ]
    },
    {
     "name": "stdout",
     "output_type": "stream",
     "text": [
      "[CV 3/3] END C=1.5, class_weight=None, dual=True, loss=squared_hinge, penalty=l2;, score=0.946 total time=   2.0s\n",
      "[CV 1/3] END C=1.5, class_weight=None, dual=False, loss=squared_hinge, penalty=l2;, score=0.947 total time=   0.9s\n",
      "[CV 2/3] END C=1.5, class_weight=None, dual=False, loss=squared_hinge, penalty=l2;, score=0.947 total time=   0.9s\n",
      "[CV 3/3] END C=1.5, class_weight=None, dual=False, loss=squared_hinge, penalty=l2;, score=0.946 total time=   0.9s\n"
     ]
    },
    {
     "name": "stderr",
     "output_type": "stream",
     "text": [
      "c:\\Users\\HP\\AppData\\Local\\Programs\\Python\\Python38\\lib\\site-packages\\sklearn\\svm\\_base.py:1225: ConvergenceWarning:\n",
      "\n",
      "Liblinear failed to converge, increase the number of iterations.\n",
      "\n"
     ]
    },
    {
     "name": "stdout",
     "output_type": "stream",
     "text": [
      "[CV 1/3] END C=1.5, class_weight=balanced, dual=True, loss=squared_hinge, penalty=l2;, score=0.947 total time=   2.7s\n"
     ]
    },
    {
     "name": "stderr",
     "output_type": "stream",
     "text": [
      "c:\\Users\\HP\\AppData\\Local\\Programs\\Python\\Python38\\lib\\site-packages\\sklearn\\svm\\_base.py:1225: ConvergenceWarning:\n",
      "\n",
      "Liblinear failed to converge, increase the number of iterations.\n",
      "\n"
     ]
    },
    {
     "name": "stdout",
     "output_type": "stream",
     "text": [
      "[CV 2/3] END C=1.5, class_weight=balanced, dual=True, loss=squared_hinge, penalty=l2;, score=0.947 total time=   2.5s\n"
     ]
    },
    {
     "name": "stderr",
     "output_type": "stream",
     "text": [
      "c:\\Users\\HP\\AppData\\Local\\Programs\\Python\\Python38\\lib\\site-packages\\sklearn\\svm\\_base.py:1225: ConvergenceWarning:\n",
      "\n",
      "Liblinear failed to converge, increase the number of iterations.\n",
      "\n"
     ]
    },
    {
     "name": "stdout",
     "output_type": "stream",
     "text": [
      "[CV 3/3] END C=1.5, class_weight=balanced, dual=True, loss=squared_hinge, penalty=l2;, score=0.946 total time=   2.5s\n",
      "[CV 1/3] END C=1.5, class_weight=balanced, dual=False, loss=squared_hinge, penalty=l2;, score=0.947 total time=   1.3s\n",
      "[CV 2/3] END C=1.5, class_weight=balanced, dual=False, loss=squared_hinge, penalty=l2;, score=0.947 total time=   1.1s\n",
      "[CV 3/3] END C=1.5, class_weight=balanced, dual=False, loss=squared_hinge, penalty=l2;, score=0.946 total time=   1.1s\n"
     ]
    },
    {
     "name": "stderr",
     "output_type": "stream",
     "text": [
      "c:\\Users\\HP\\AppData\\Local\\Programs\\Python\\Python38\\lib\\site-packages\\sklearn\\svm\\_base.py:1225: ConvergenceWarning:\n",
      "\n",
      "Liblinear failed to converge, increase the number of iterations.\n",
      "\n"
     ]
    },
    {
     "name": "stdout",
     "output_type": "stream",
     "text": [
      "[CV 1/3] END C=2, class_weight=None, dual=True, loss=squared_hinge, penalty=l2;, score=0.947 total time=   2.5s\n"
     ]
    },
    {
     "name": "stderr",
     "output_type": "stream",
     "text": [
      "c:\\Users\\HP\\AppData\\Local\\Programs\\Python\\Python38\\lib\\site-packages\\sklearn\\svm\\_base.py:1225: ConvergenceWarning:\n",
      "\n",
      "Liblinear failed to converge, increase the number of iterations.\n",
      "\n"
     ]
    },
    {
     "name": "stdout",
     "output_type": "stream",
     "text": [
      "[CV 2/3] END C=2, class_weight=None, dual=True, loss=squared_hinge, penalty=l2;, score=0.946 total time=   2.5s\n"
     ]
    },
    {
     "name": "stderr",
     "output_type": "stream",
     "text": [
      "c:\\Users\\HP\\AppData\\Local\\Programs\\Python\\Python38\\lib\\site-packages\\sklearn\\svm\\_base.py:1225: ConvergenceWarning:\n",
      "\n",
      "Liblinear failed to converge, increase the number of iterations.\n",
      "\n"
     ]
    },
    {
     "name": "stdout",
     "output_type": "stream",
     "text": [
      "[CV 3/3] END C=2, class_weight=None, dual=True, loss=squared_hinge, penalty=l2;, score=0.945 total time=   2.4s\n",
      "[CV 1/3] END C=2, class_weight=None, dual=False, loss=squared_hinge, penalty=l2;, score=0.947 total time=   1.0s\n",
      "[CV 2/3] END C=2, class_weight=None, dual=False, loss=squared_hinge, penalty=l2;, score=0.946 total time=   1.2s\n",
      "[CV 3/3] END C=2, class_weight=None, dual=False, loss=squared_hinge, penalty=l2;, score=0.945 total time=   1.5s\n"
     ]
    },
    {
     "name": "stderr",
     "output_type": "stream",
     "text": [
      "c:\\Users\\HP\\AppData\\Local\\Programs\\Python\\Python38\\lib\\site-packages\\sklearn\\svm\\_base.py:1225: ConvergenceWarning:\n",
      "\n",
      "Liblinear failed to converge, increase the number of iterations.\n",
      "\n"
     ]
    },
    {
     "name": "stdout",
     "output_type": "stream",
     "text": [
      "[CV 1/3] END C=2, class_weight=balanced, dual=True, loss=squared_hinge, penalty=l2;, score=0.947 total time=   2.5s\n"
     ]
    },
    {
     "name": "stderr",
     "output_type": "stream",
     "text": [
      "c:\\Users\\HP\\AppData\\Local\\Programs\\Python\\Python38\\lib\\site-packages\\sklearn\\svm\\_base.py:1225: ConvergenceWarning:\n",
      "\n",
      "Liblinear failed to converge, increase the number of iterations.\n",
      "\n"
     ]
    },
    {
     "name": "stdout",
     "output_type": "stream",
     "text": [
      "[CV 2/3] END C=2, class_weight=balanced, dual=True, loss=squared_hinge, penalty=l2;, score=0.946 total time=   2.7s\n"
     ]
    },
    {
     "name": "stderr",
     "output_type": "stream",
     "text": [
      "c:\\Users\\HP\\AppData\\Local\\Programs\\Python\\Python38\\lib\\site-packages\\sklearn\\svm\\_base.py:1225: ConvergenceWarning:\n",
      "\n",
      "Liblinear failed to converge, increase the number of iterations.\n",
      "\n"
     ]
    },
    {
     "name": "stdout",
     "output_type": "stream",
     "text": [
      "[CV 3/3] END C=2, class_weight=balanced, dual=True, loss=squared_hinge, penalty=l2;, score=0.946 total time=   2.0s\n",
      "[CV 1/3] END C=2, class_weight=balanced, dual=False, loss=squared_hinge, penalty=l2;, score=0.947 total time=   1.2s\n",
      "[CV 2/3] END C=2, class_weight=balanced, dual=False, loss=squared_hinge, penalty=l2;, score=0.946 total time=   1.3s\n",
      "[CV 3/3] END C=2, class_weight=balanced, dual=False, loss=squared_hinge, penalty=l2;, score=0.946 total time=   1.5s\n"
     ]
    }
   ],
   "source": [
    "param_grid = {\n",
    "    'C': [0.1, 0.5, 1, 1.5, 2],\n",
    "    'penalty': ['l2'],\n",
    "    'loss': ['squared_hinge'],\n",
    "    'dual': [True, False],\n",
    "    'class_weight': [None, 'balanced'],\n",
    "}\n",
    "\n",
    "model = LinearSVC(random_state=RANDOM_STATE)\n",
    "\n",
    "grid_search = GridSearchCV(estimator=model, param_grid=param_grid, scoring='roc_auc', cv=3, n_jobs=1, verbose=3)\n",
    "grid_result_svm = grid_search.fit(X_train_encoded, y_train)"
   ]
  },
  {
   "cell_type": "code",
   "execution_count": 291,
   "metadata": {},
   "outputs": [
    {
     "name": "stdout",
     "output_type": "stream",
     "text": [
      "Лучший: 0.947982 при {'C': 0.5, 'class_weight': 'balanced', 'dual': False, 'loss': 'squared_hinge', 'penalty': 'l2'}\n",
      "0.945 (+/-0.003) with: {'C': 0.1, 'class_weight': None, 'dual': True, 'loss': 'squared_hinge', 'penalty': 'l2'}\n",
      "0.945 (+/-0.003) with: {'C': 0.1, 'class_weight': None, 'dual': False, 'loss': 'squared_hinge', 'penalty': 'l2'}\n",
      "0.945 (+/-0.003) with: {'C': 0.1, 'class_weight': 'balanced', 'dual': True, 'loss': 'squared_hinge', 'penalty': 'l2'}\n",
      "0.945 (+/-0.003) with: {'C': 0.1, 'class_weight': 'balanced', 'dual': False, 'loss': 'squared_hinge', 'penalty': 'l2'}\n",
      "0.948 (+/-0.000) with: {'C': 0.5, 'class_weight': None, 'dual': True, 'loss': 'squared_hinge', 'penalty': 'l2'}\n",
      "0.948 (+/-0.000) with: {'C': 0.5, 'class_weight': None, 'dual': False, 'loss': 'squared_hinge', 'penalty': 'l2'}\n",
      "0.948 (+/-0.000) with: {'C': 0.5, 'class_weight': 'balanced', 'dual': True, 'loss': 'squared_hinge', 'penalty': 'l2'}\n",
      "0.948 (+/-0.000) with: {'C': 0.5, 'class_weight': 'balanced', 'dual': False, 'loss': 'squared_hinge', 'penalty': 'l2'}\n",
      "0.947 (+/-0.001) with: {'C': 1, 'class_weight': None, 'dual': True, 'loss': 'squared_hinge', 'penalty': 'l2'}\n",
      "0.947 (+/-0.001) with: {'C': 1, 'class_weight': None, 'dual': False, 'loss': 'squared_hinge', 'penalty': 'l2'}\n",
      "0.947 (+/-0.001) with: {'C': 1, 'class_weight': 'balanced', 'dual': True, 'loss': 'squared_hinge', 'penalty': 'l2'}\n",
      "0.947 (+/-0.001) with: {'C': 1, 'class_weight': 'balanced', 'dual': False, 'loss': 'squared_hinge', 'penalty': 'l2'}\n",
      "0.947 (+/-0.001) with: {'C': 1.5, 'class_weight': None, 'dual': True, 'loss': 'squared_hinge', 'penalty': 'l2'}\n",
      "0.947 (+/-0.001) with: {'C': 1.5, 'class_weight': None, 'dual': False, 'loss': 'squared_hinge', 'penalty': 'l2'}\n",
      "0.947 (+/-0.001) with: {'C': 1.5, 'class_weight': 'balanced', 'dual': True, 'loss': 'squared_hinge', 'penalty': 'l2'}\n",
      "0.947 (+/-0.001) with: {'C': 1.5, 'class_weight': 'balanced', 'dual': False, 'loss': 'squared_hinge', 'penalty': 'l2'}\n",
      "0.946 (+/-0.001) with: {'C': 2, 'class_weight': None, 'dual': True, 'loss': 'squared_hinge', 'penalty': 'l2'}\n",
      "0.946 (+/-0.001) with: {'C': 2, 'class_weight': None, 'dual': False, 'loss': 'squared_hinge', 'penalty': 'l2'}\n",
      "0.946 (+/-0.001) with: {'C': 2, 'class_weight': 'balanced', 'dual': True, 'loss': 'squared_hinge', 'penalty': 'l2'}\n",
      "0.946 (+/-0.001) with: {'C': 2, 'class_weight': 'balanced', 'dual': False, 'loss': 'squared_hinge', 'penalty': 'l2'}\n"
     ]
    }
   ],
   "source": [
    "print(\"Лучший: %f при %s\" % (grid_result_svm.best_score_, grid_result_svm.best_params_))\n",
    "\n",
    "means = grid_result_svm.cv_results_['mean_test_score']\n",
    "stds = grid_result_svm.cv_results_['std_test_score']\n",
    "params = grid_result_svm.cv_results_['params']\n",
    "\n",
    "for mean, std, param in zip(means, stds, params):\n",
    "    print(\"%0.3f (+/-%0.03f) with: %r\" % (mean, std *  2, param))"
   ]
  },
  {
   "cell_type": "code",
   "execution_count": 292,
   "metadata": {},
   "outputs": [
    {
     "name": "stdout",
     "output_type": "stream",
     "text": [
      "Test ROC-AUC Score:  0.9095337508698678\n"
     ]
    }
   ],
   "source": [
    "best_model_svm = grid_result_svm.best_estimator_\n",
    "best_model_svm.fit(X_train_encoded, y_train)\n",
    "\n",
    "test_score = best_model_svm.score(X_test_encoded, y_test)\n",
    "\n",
    "print(\"Test ROC-AUC Score: \", test_score)"
   ]
  },
  {
   "cell_type": "code",
   "execution_count": 293,
   "metadata": {},
   "outputs": [],
   "source": [
    "X_valid = valid_data.drop('label', axis=1)\n",
    "y_valid = valid_data['label']\n",
    "X_valid_encoded = transformer.transform(X_valid)"
   ]
  },
  {
   "cell_type": "code",
   "execution_count": 294,
   "metadata": {},
   "outputs": [
    {
     "name": "stdout",
     "output_type": "stream",
     "text": [
      "Validation ROC-AUC Score:  0.8172262773722627\n"
     ]
    }
   ],
   "source": [
    "valid_score = best_model_svm.score(X_valid_encoded, y_valid)\n",
    "print(\"Validation ROC-AUC Score: \", valid_score)"
   ]
  },
  {
   "cell_type": "markdown",
   "metadata": {},
   "source": [
    "По оценкам на тестовой выборки SVM хорошо себя показала в плане предсказания. Посмотрим что выдаст LGBMC."
   ]
  },
  {
   "cell_type": "markdown",
   "metadata": {},
   "source": [
    "## LightGBM"
   ]
  },
  {
   "cell_type": "code",
   "execution_count": 295,
   "metadata": {},
   "outputs": [
    {
     "name": "stdout",
     "output_type": "stream",
     "text": [
      "Fitting 3 folds for each of 90 candidates, totalling 270 fits\n",
      "[CV 1/3] END learning_rate=0.01, max_depth=5, n_estimators=700, reg_lambda=0.15;, score=0.859 total time=   6.0s\n",
      "[CV 2/3] END learning_rate=0.01, max_depth=5, n_estimators=700, reg_lambda=0.15;, score=0.866 total time=   6.1s\n",
      "[CV 3/3] END learning_rate=0.01, max_depth=5, n_estimators=700, reg_lambda=0.15;, score=0.863 total time=  10.7s\n",
      "[CV 1/3] END learning_rate=0.01, max_depth=5, n_estimators=700, reg_lambda=0.2;, score=0.860 total time=  13.6s\n",
      "[CV 2/3] END learning_rate=0.01, max_depth=5, n_estimators=700, reg_lambda=0.2;, score=0.866 total time=  10.9s\n",
      "[CV 3/3] END learning_rate=0.01, max_depth=5, n_estimators=700, reg_lambda=0.2;, score=0.863 total time=   6.8s\n",
      "[CV 1/3] END learning_rate=0.01, max_depth=5, n_estimators=700, reg_lambda=0.25;, score=0.858 total time=   6.3s\n",
      "[CV 2/3] END learning_rate=0.01, max_depth=5, n_estimators=700, reg_lambda=0.25;, score=0.864 total time=   6.6s\n",
      "[CV 3/3] END learning_rate=0.01, max_depth=5, n_estimators=700, reg_lambda=0.25;, score=0.862 total time=   6.4s\n",
      "[CV 1/3] END learning_rate=0.01, max_depth=5, n_estimators=700, reg_lambda=0.5;, score=0.855 total time=   6.8s\n",
      "[CV 2/3] END learning_rate=0.01, max_depth=5, n_estimators=700, reg_lambda=0.5;, score=0.863 total time=   6.3s\n",
      "[CV 3/3] END learning_rate=0.01, max_depth=5, n_estimators=700, reg_lambda=0.5;, score=0.860 total time=   6.9s\n",
      "[CV 1/3] END learning_rate=0.01, max_depth=5, n_estimators=700, reg_lambda=1;, score=0.852 total time=   6.8s\n",
      "[CV 2/3] END learning_rate=0.01, max_depth=5, n_estimators=700, reg_lambda=1;, score=0.859 total time=   6.7s\n",
      "[CV 3/3] END learning_rate=0.01, max_depth=5, n_estimators=700, reg_lambda=1;, score=0.857 total time=   5.8s\n",
      "[CV 1/3] END learning_rate=0.01, max_depth=5, n_estimators=800, reg_lambda=0.15;, score=0.867 total time=   7.7s\n",
      "[CV 2/3] END learning_rate=0.01, max_depth=5, n_estimators=800, reg_lambda=0.15;, score=0.875 total time=   7.5s\n",
      "[CV 3/3] END learning_rate=0.01, max_depth=5, n_estimators=800, reg_lambda=0.15;, score=0.872 total time=   9.3s\n",
      "[CV 1/3] END learning_rate=0.01, max_depth=5, n_estimators=800, reg_lambda=0.2;, score=0.867 total time=  11.2s\n",
      "[CV 2/3] END learning_rate=0.01, max_depth=5, n_estimators=800, reg_lambda=0.2;, score=0.875 total time=  10.2s\n",
      "[CV 3/3] END learning_rate=0.01, max_depth=5, n_estimators=800, reg_lambda=0.2;, score=0.871 total time=   9.2s\n",
      "[CV 1/3] END learning_rate=0.01, max_depth=5, n_estimators=800, reg_lambda=0.25;, score=0.866 total time=  11.1s\n",
      "[CV 2/3] END learning_rate=0.01, max_depth=5, n_estimators=800, reg_lambda=0.25;, score=0.874 total time=  11.7s\n",
      "[CV 3/3] END learning_rate=0.01, max_depth=5, n_estimators=800, reg_lambda=0.25;, score=0.871 total time=  12.0s\n",
      "[CV 1/3] END learning_rate=0.01, max_depth=5, n_estimators=800, reg_lambda=0.5;, score=0.863 total time=   8.0s\n",
      "[CV 2/3] END learning_rate=0.01, max_depth=5, n_estimators=800, reg_lambda=0.5;, score=0.872 total time=   9.0s\n",
      "[CV 3/3] END learning_rate=0.01, max_depth=5, n_estimators=800, reg_lambda=0.5;, score=0.868 total time=   9.0s\n",
      "[CV 1/3] END learning_rate=0.01, max_depth=5, n_estimators=800, reg_lambda=1;, score=0.859 total time=   7.6s\n",
      "[CV 2/3] END learning_rate=0.01, max_depth=5, n_estimators=800, reg_lambda=1;, score=0.868 total time=  10.8s\n",
      "[CV 3/3] END learning_rate=0.01, max_depth=5, n_estimators=800, reg_lambda=1;, score=0.865 total time=   9.8s\n",
      "[CV 1/3] END learning_rate=0.01, max_depth=5, n_estimators=900, reg_lambda=0.15;, score=0.873 total time=  16.4s\n",
      "[CV 2/3] END learning_rate=0.01, max_depth=5, n_estimators=900, reg_lambda=0.15;, score=0.883 total time=  17.4s\n",
      "[CV 3/3] END learning_rate=0.01, max_depth=5, n_estimators=900, reg_lambda=0.15;, score=0.879 total time=  12.5s\n",
      "[CV 1/3] END learning_rate=0.01, max_depth=5, n_estimators=900, reg_lambda=0.2;, score=0.873 total time=  11.8s\n",
      "[CV 2/3] END learning_rate=0.01, max_depth=5, n_estimators=900, reg_lambda=0.2;, score=0.883 total time=  10.5s\n",
      "[CV 3/3] END learning_rate=0.01, max_depth=5, n_estimators=900, reg_lambda=0.2;, score=0.878 total time=   8.7s\n",
      "[CV 1/3] END learning_rate=0.01, max_depth=5, n_estimators=900, reg_lambda=0.25;, score=0.872 total time=   8.2s\n",
      "[CV 2/3] END learning_rate=0.01, max_depth=5, n_estimators=900, reg_lambda=0.25;, score=0.881 total time=   8.2s\n",
      "[CV 3/3] END learning_rate=0.01, max_depth=5, n_estimators=900, reg_lambda=0.25;, score=0.878 total time=  12.7s\n",
      "[CV 1/3] END learning_rate=0.01, max_depth=5, n_estimators=900, reg_lambda=0.5;, score=0.869 total time=   8.3s\n",
      "[CV 2/3] END learning_rate=0.01, max_depth=5, n_estimators=900, reg_lambda=0.5;, score=0.880 total time=   8.5s\n",
      "[CV 3/3] END learning_rate=0.01, max_depth=5, n_estimators=900, reg_lambda=0.5;, score=0.875 total time=   8.2s\n",
      "[CV 1/3] END learning_rate=0.01, max_depth=5, n_estimators=900, reg_lambda=1;, score=0.866 total time=   8.7s\n",
      "[CV 2/3] END learning_rate=0.01, max_depth=5, n_estimators=900, reg_lambda=1;, score=0.876 total time=   7.2s\n",
      "[CV 3/3] END learning_rate=0.01, max_depth=5, n_estimators=900, reg_lambda=1;, score=0.871 total time=   8.0s\n",
      "[CV 1/3] END learning_rate=0.01, max_depth=7, n_estimators=700, reg_lambda=0.15;, score=0.882 total time=   8.8s\n",
      "[CV 2/3] END learning_rate=0.01, max_depth=7, n_estimators=700, reg_lambda=0.15;, score=0.893 total time=   8.2s\n",
      "[CV 3/3] END learning_rate=0.01, max_depth=7, n_estimators=700, reg_lambda=0.15;, score=0.887 total time=   8.1s\n",
      "[CV 1/3] END learning_rate=0.01, max_depth=7, n_estimators=700, reg_lambda=0.2;, score=0.881 total time=  10.4s\n",
      "[CV 2/3] END learning_rate=0.01, max_depth=7, n_estimators=700, reg_lambda=0.2;, score=0.893 total time=  10.5s\n",
      "[CV 3/3] END learning_rate=0.01, max_depth=7, n_estimators=700, reg_lambda=0.2;, score=0.887 total time=   8.8s\n",
      "[CV 1/3] END learning_rate=0.01, max_depth=7, n_estimators=700, reg_lambda=0.25;, score=0.881 total time=  10.6s\n",
      "[CV 2/3] END learning_rate=0.01, max_depth=7, n_estimators=700, reg_lambda=0.25;, score=0.893 total time=  10.9s\n",
      "[CV 3/3] END learning_rate=0.01, max_depth=7, n_estimators=700, reg_lambda=0.25;, score=0.886 total time=   9.2s\n",
      "[CV 1/3] END learning_rate=0.01, max_depth=7, n_estimators=700, reg_lambda=0.5;, score=0.878 total time=   9.0s\n",
      "[CV 2/3] END learning_rate=0.01, max_depth=7, n_estimators=700, reg_lambda=0.5;, score=0.891 total time=   8.7s\n",
      "[CV 3/3] END learning_rate=0.01, max_depth=7, n_estimators=700, reg_lambda=0.5;, score=0.883 total time=   8.8s\n",
      "[CV 1/3] END learning_rate=0.01, max_depth=7, n_estimators=700, reg_lambda=1;, score=0.874 total time=   9.1s\n",
      "[CV 2/3] END learning_rate=0.01, max_depth=7, n_estimators=700, reg_lambda=1;, score=0.887 total time=   7.5s\n",
      "[CV 3/3] END learning_rate=0.01, max_depth=7, n_estimators=700, reg_lambda=1;, score=0.879 total time=   7.8s\n",
      "[CV 1/3] END learning_rate=0.01, max_depth=7, n_estimators=800, reg_lambda=0.15;, score=0.889 total time=  18.9s\n",
      "[CV 2/3] END learning_rate=0.01, max_depth=7, n_estimators=800, reg_lambda=0.15;, score=0.901 total time=  15.8s\n",
      "[CV 3/3] END learning_rate=0.01, max_depth=7, n_estimators=800, reg_lambda=0.15;, score=0.894 total time=  10.9s\n",
      "[CV 1/3] END learning_rate=0.01, max_depth=7, n_estimators=800, reg_lambda=0.2;, score=0.888 total time=  12.5s\n",
      "[CV 2/3] END learning_rate=0.01, max_depth=7, n_estimators=800, reg_lambda=0.2;, score=0.902 total time=  10.9s\n",
      "[CV 3/3] END learning_rate=0.01, max_depth=7, n_estimators=800, reg_lambda=0.2;, score=0.894 total time=   8.7s\n",
      "[CV 1/3] END learning_rate=0.01, max_depth=7, n_estimators=800, reg_lambda=0.25;, score=0.888 total time=   9.9s\n",
      "[CV 2/3] END learning_rate=0.01, max_depth=7, n_estimators=800, reg_lambda=0.25;, score=0.900 total time=   8.5s\n",
      "[CV 3/3] END learning_rate=0.01, max_depth=7, n_estimators=800, reg_lambda=0.25;, score=0.893 total time=   8.7s\n",
      "[CV 1/3] END learning_rate=0.01, max_depth=7, n_estimators=800, reg_lambda=0.5;, score=0.885 total time=  11.7s\n",
      "[CV 2/3] END learning_rate=0.01, max_depth=7, n_estimators=800, reg_lambda=0.5;, score=0.899 total time=  10.4s\n",
      "[CV 3/3] END learning_rate=0.01, max_depth=7, n_estimators=800, reg_lambda=0.5;, score=0.890 total time=   8.6s\n",
      "[CV 1/3] END learning_rate=0.01, max_depth=7, n_estimators=800, reg_lambda=1;, score=0.881 total time=  14.9s\n",
      "[CV 2/3] END learning_rate=0.01, max_depth=7, n_estimators=800, reg_lambda=1;, score=0.895 total time=   9.6s\n",
      "[CV 3/3] END learning_rate=0.01, max_depth=7, n_estimators=800, reg_lambda=1;, score=0.886 total time=   8.9s\n",
      "[CV 1/3] END learning_rate=0.01, max_depth=7, n_estimators=900, reg_lambda=0.15;, score=0.895 total time=  10.2s\n",
      "[CV 2/3] END learning_rate=0.01, max_depth=7, n_estimators=900, reg_lambda=0.15;, score=0.908 total time=  11.8s\n",
      "[CV 3/3] END learning_rate=0.01, max_depth=7, n_estimators=900, reg_lambda=0.15;, score=0.900 total time=  13.0s\n",
      "[CV 1/3] END learning_rate=0.01, max_depth=7, n_estimators=900, reg_lambda=0.2;, score=0.894 total time=  11.4s\n",
      "[CV 2/3] END learning_rate=0.01, max_depth=7, n_estimators=900, reg_lambda=0.2;, score=0.908 total time=  11.8s\n",
      "[CV 3/3] END learning_rate=0.01, max_depth=7, n_estimators=900, reg_lambda=0.2;, score=0.900 total time=  12.4s\n",
      "[CV 1/3] END learning_rate=0.01, max_depth=7, n_estimators=900, reg_lambda=0.25;, score=0.894 total time=  11.6s\n",
      "[CV 2/3] END learning_rate=0.01, max_depth=7, n_estimators=900, reg_lambda=0.25;, score=0.907 total time=  12.4s\n",
      "[CV 3/3] END learning_rate=0.01, max_depth=7, n_estimators=900, reg_lambda=0.25;, score=0.900 total time=  12.4s\n",
      "[CV 1/3] END learning_rate=0.01, max_depth=7, n_estimators=900, reg_lambda=0.5;, score=0.891 total time=  11.7s\n",
      "[CV 2/3] END learning_rate=0.01, max_depth=7, n_estimators=900, reg_lambda=0.5;, score=0.906 total time=  11.1s\n",
      "[CV 3/3] END learning_rate=0.01, max_depth=7, n_estimators=900, reg_lambda=0.5;, score=0.897 total time=  11.3s\n",
      "[CV 1/3] END learning_rate=0.01, max_depth=7, n_estimators=900, reg_lambda=1;, score=0.887 total time=  11.1s\n",
      "[CV 2/3] END learning_rate=0.01, max_depth=7, n_estimators=900, reg_lambda=1;, score=0.902 total time=  10.9s\n",
      "[CV 3/3] END learning_rate=0.01, max_depth=7, n_estimators=900, reg_lambda=1;, score=0.892 total time=  11.7s\n",
      "[CV 1/3] END learning_rate=0.05, max_depth=5, n_estimators=700, reg_lambda=0.15;, score=0.939 total time=   5.5s\n",
      "[CV 2/3] END learning_rate=0.05, max_depth=5, n_estimators=700, reg_lambda=0.15;, score=0.951 total time=   5.6s\n",
      "[CV 3/3] END learning_rate=0.05, max_depth=5, n_estimators=700, reg_lambda=0.15;, score=0.940 total time=   5.5s\n",
      "[CV 1/3] END learning_rate=0.05, max_depth=5, n_estimators=700, reg_lambda=0.2;, score=0.939 total time=   5.5s\n",
      "[CV 2/3] END learning_rate=0.05, max_depth=5, n_estimators=700, reg_lambda=0.2;, score=0.951 total time=   5.4s\n",
      "[CV 3/3] END learning_rate=0.05, max_depth=5, n_estimators=700, reg_lambda=0.2;, score=0.940 total time=   5.4s\n",
      "[CV 1/3] END learning_rate=0.05, max_depth=5, n_estimators=700, reg_lambda=0.25;, score=0.940 total time=   5.6s\n",
      "[CV 2/3] END learning_rate=0.05, max_depth=5, n_estimators=700, reg_lambda=0.25;, score=0.950 total time=   5.5s\n",
      "[CV 3/3] END learning_rate=0.05, max_depth=5, n_estimators=700, reg_lambda=0.25;, score=0.940 total time=   5.9s\n",
      "[CV 1/3] END learning_rate=0.05, max_depth=5, n_estimators=700, reg_lambda=0.5;, score=0.938 total time=   6.0s\n",
      "[CV 2/3] END learning_rate=0.05, max_depth=5, n_estimators=700, reg_lambda=0.5;, score=0.949 total time=   6.1s\n",
      "[CV 3/3] END learning_rate=0.05, max_depth=5, n_estimators=700, reg_lambda=0.5;, score=0.939 total time=   5.5s\n",
      "[CV 1/3] END learning_rate=0.05, max_depth=5, n_estimators=700, reg_lambda=1;, score=0.932 total time=   5.4s\n",
      "[CV 2/3] END learning_rate=0.05, max_depth=5, n_estimators=700, reg_lambda=1;, score=0.946 total time=   5.3s\n",
      "[CV 3/3] END learning_rate=0.05, max_depth=5, n_estimators=700, reg_lambda=1;, score=0.935 total time=   5.4s\n",
      "[CV 1/3] END learning_rate=0.05, max_depth=5, n_estimators=800, reg_lambda=0.15;, score=0.944 total time=   6.3s\n",
      "[CV 2/3] END learning_rate=0.05, max_depth=5, n_estimators=800, reg_lambda=0.15;, score=0.956 total time=   6.2s\n",
      "[CV 3/3] END learning_rate=0.05, max_depth=5, n_estimators=800, reg_lambda=0.15;, score=0.945 total time=   6.2s\n",
      "[CV 1/3] END learning_rate=0.05, max_depth=5, n_estimators=800, reg_lambda=0.2;, score=0.944 total time=   6.5s\n",
      "[CV 2/3] END learning_rate=0.05, max_depth=5, n_estimators=800, reg_lambda=0.2;, score=0.955 total time=   6.3s\n",
      "[CV 3/3] END learning_rate=0.05, max_depth=5, n_estimators=800, reg_lambda=0.2;, score=0.944 total time=   6.1s\n",
      "[CV 1/3] END learning_rate=0.05, max_depth=5, n_estimators=800, reg_lambda=0.25;, score=0.944 total time=   6.1s\n",
      "[CV 2/3] END learning_rate=0.05, max_depth=5, n_estimators=800, reg_lambda=0.25;, score=0.955 total time=   6.0s\n",
      "[CV 3/3] END learning_rate=0.05, max_depth=5, n_estimators=800, reg_lambda=0.25;, score=0.944 total time=   6.1s\n",
      "[CV 1/3] END learning_rate=0.05, max_depth=5, n_estimators=800, reg_lambda=0.5;, score=0.942 total time=   6.1s\n",
      "[CV 2/3] END learning_rate=0.05, max_depth=5, n_estimators=800, reg_lambda=0.5;, score=0.954 total time=   6.0s\n",
      "[CV 3/3] END learning_rate=0.05, max_depth=5, n_estimators=800, reg_lambda=0.5;, score=0.943 total time=   6.1s\n",
      "[CV 1/3] END learning_rate=0.05, max_depth=5, n_estimators=800, reg_lambda=1;, score=0.937 total time=   6.4s\n",
      "[CV 2/3] END learning_rate=0.05, max_depth=5, n_estimators=800, reg_lambda=1;, score=0.951 total time=   6.2s\n",
      "[CV 3/3] END learning_rate=0.05, max_depth=5, n_estimators=800, reg_lambda=1;, score=0.940 total time=   6.1s\n",
      "[CV 1/3] END learning_rate=0.05, max_depth=5, n_estimators=900, reg_lambda=0.15;, score=0.948 total time=   6.9s\n",
      "[CV 2/3] END learning_rate=0.05, max_depth=5, n_estimators=900, reg_lambda=0.15;, score=0.959 total time=   7.0s\n",
      "[CV 3/3] END learning_rate=0.05, max_depth=5, n_estimators=900, reg_lambda=0.15;, score=0.948 total time=   6.9s\n",
      "[CV 1/3] END learning_rate=0.05, max_depth=5, n_estimators=900, reg_lambda=0.2;, score=0.948 total time=   7.1s\n",
      "[CV 2/3] END learning_rate=0.05, max_depth=5, n_estimators=900, reg_lambda=0.2;, score=0.959 total time=   6.8s\n",
      "[CV 3/3] END learning_rate=0.05, max_depth=5, n_estimators=900, reg_lambda=0.2;, score=0.948 total time=   6.8s\n",
      "[CV 1/3] END learning_rate=0.05, max_depth=5, n_estimators=900, reg_lambda=0.25;, score=0.947 total time=   7.1s\n",
      "[CV 2/3] END learning_rate=0.05, max_depth=5, n_estimators=900, reg_lambda=0.25;, score=0.958 total time=   6.8s\n",
      "[CV 3/3] END learning_rate=0.05, max_depth=5, n_estimators=900, reg_lambda=0.25;, score=0.948 total time=   7.0s\n",
      "[CV 1/3] END learning_rate=0.05, max_depth=5, n_estimators=900, reg_lambda=0.5;, score=0.945 total time=   6.8s\n",
      "[CV 2/3] END learning_rate=0.05, max_depth=5, n_estimators=900, reg_lambda=0.5;, score=0.958 total time=   6.7s\n",
      "[CV 3/3] END learning_rate=0.05, max_depth=5, n_estimators=900, reg_lambda=0.5;, score=0.947 total time=   6.9s\n",
      "[CV 1/3] END learning_rate=0.05, max_depth=5, n_estimators=900, reg_lambda=1;, score=0.941 total time=   6.7s\n",
      "[CV 2/3] END learning_rate=0.05, max_depth=5, n_estimators=900, reg_lambda=1;, score=0.954 total time=   7.3s\n",
      "[CV 3/3] END learning_rate=0.05, max_depth=5, n_estimators=900, reg_lambda=1;, score=0.943 total time=   7.0s\n",
      "[CV 1/3] END learning_rate=0.05, max_depth=7, n_estimators=700, reg_lambda=0.15;, score=0.953 total time=   8.3s\n",
      "[CV 2/3] END learning_rate=0.05, max_depth=7, n_estimators=700, reg_lambda=0.15;, score=0.964 total time=   7.5s\n",
      "[CV 3/3] END learning_rate=0.05, max_depth=7, n_estimators=700, reg_lambda=0.15;, score=0.954 total time=   7.4s\n",
      "[CV 1/3] END learning_rate=0.05, max_depth=7, n_estimators=700, reg_lambda=0.2;, score=0.952 total time=   7.6s\n",
      "[CV 2/3] END learning_rate=0.05, max_depth=7, n_estimators=700, reg_lambda=0.2;, score=0.964 total time=   7.4s\n",
      "[CV 3/3] END learning_rate=0.05, max_depth=7, n_estimators=700, reg_lambda=0.2;, score=0.953 total time=   7.5s\n",
      "[CV 1/3] END learning_rate=0.05, max_depth=7, n_estimators=700, reg_lambda=0.25;, score=0.952 total time=   7.3s\n",
      "[CV 2/3] END learning_rate=0.05, max_depth=7, n_estimators=700, reg_lambda=0.25;, score=0.963 total time=   7.4s\n",
      "[CV 3/3] END learning_rate=0.05, max_depth=7, n_estimators=700, reg_lambda=0.25;, score=0.951 total time=   7.5s\n",
      "[CV 1/3] END learning_rate=0.05, max_depth=7, n_estimators=700, reg_lambda=0.5;, score=0.951 total time=   7.7s\n",
      "[CV 2/3] END learning_rate=0.05, max_depth=7, n_estimators=700, reg_lambda=0.5;, score=0.962 total time=   7.5s\n",
      "[CV 3/3] END learning_rate=0.05, max_depth=7, n_estimators=700, reg_lambda=0.5;, score=0.950 total time=   7.4s\n",
      "[CV 1/3] END learning_rate=0.05, max_depth=7, n_estimators=700, reg_lambda=1;, score=0.946 total time=   7.7s\n",
      "[CV 2/3] END learning_rate=0.05, max_depth=7, n_estimators=700, reg_lambda=1;, score=0.959 total time=   7.3s\n",
      "[CV 3/3] END learning_rate=0.05, max_depth=7, n_estimators=700, reg_lambda=1;, score=0.947 total time=   7.2s\n",
      "[CV 1/3] END learning_rate=0.05, max_depth=7, n_estimators=800, reg_lambda=0.15;, score=0.956 total time=   8.5s\n",
      "[CV 2/3] END learning_rate=0.05, max_depth=7, n_estimators=800, reg_lambda=0.15;, score=0.967 total time=   8.3s\n",
      "[CV 3/3] END learning_rate=0.05, max_depth=7, n_estimators=800, reg_lambda=0.15;, score=0.957 total time=   8.3s\n",
      "[CV 1/3] END learning_rate=0.05, max_depth=7, n_estimators=800, reg_lambda=0.2;, score=0.955 total time=   8.6s\n",
      "[CV 2/3] END learning_rate=0.05, max_depth=7, n_estimators=800, reg_lambda=0.2;, score=0.967 total time=   8.2s\n",
      "[CV 3/3] END learning_rate=0.05, max_depth=7, n_estimators=800, reg_lambda=0.2;, score=0.956 total time=   8.3s\n",
      "[CV 1/3] END learning_rate=0.05, max_depth=7, n_estimators=800, reg_lambda=0.25;, score=0.955 total time=   8.5s\n",
      "[CV 2/3] END learning_rate=0.05, max_depth=7, n_estimators=800, reg_lambda=0.25;, score=0.966 total time=   8.2s\n",
      "[CV 3/3] END learning_rate=0.05, max_depth=7, n_estimators=800, reg_lambda=0.25;, score=0.955 total time=   8.5s\n",
      "[CV 1/3] END learning_rate=0.05, max_depth=7, n_estimators=800, reg_lambda=0.5;, score=0.955 total time=   8.4s\n",
      "[CV 2/3] END learning_rate=0.05, max_depth=7, n_estimators=800, reg_lambda=0.5;, score=0.965 total time=   8.3s\n",
      "[CV 3/3] END learning_rate=0.05, max_depth=7, n_estimators=800, reg_lambda=0.5;, score=0.954 total time=   8.7s\n",
      "[CV 1/3] END learning_rate=0.05, max_depth=7, n_estimators=800, reg_lambda=1;, score=0.950 total time=   9.0s\n",
      "[CV 2/3] END learning_rate=0.05, max_depth=7, n_estimators=800, reg_lambda=1;, score=0.962 total time=   8.5s\n",
      "[CV 3/3] END learning_rate=0.05, max_depth=7, n_estimators=800, reg_lambda=1;, score=0.951 total time=   8.4s\n",
      "[CV 1/3] END learning_rate=0.05, max_depth=7, n_estimators=900, reg_lambda=0.15;, score=0.959 total time=   9.5s\n",
      "[CV 2/3] END learning_rate=0.05, max_depth=7, n_estimators=900, reg_lambda=0.15;, score=0.970 total time=   9.5s\n",
      "[CV 3/3] END learning_rate=0.05, max_depth=7, n_estimators=900, reg_lambda=0.15;, score=0.960 total time=   9.4s\n",
      "[CV 1/3] END learning_rate=0.05, max_depth=7, n_estimators=900, reg_lambda=0.2;, score=0.958 total time=  11.6s\n",
      "[CV 2/3] END learning_rate=0.05, max_depth=7, n_estimators=900, reg_lambda=0.2;, score=0.969 total time=  11.8s\n",
      "[CV 3/3] END learning_rate=0.05, max_depth=7, n_estimators=900, reg_lambda=0.2;, score=0.959 total time=  10.0s\n",
      "[CV 1/3] END learning_rate=0.05, max_depth=7, n_estimators=900, reg_lambda=0.25;, score=0.958 total time=   9.5s\n",
      "[CV 2/3] END learning_rate=0.05, max_depth=7, n_estimators=900, reg_lambda=0.25;, score=0.969 total time=   9.1s\n",
      "[CV 3/3] END learning_rate=0.05, max_depth=7, n_estimators=900, reg_lambda=0.25;, score=0.958 total time=   9.5s\n",
      "[CV 1/3] END learning_rate=0.05, max_depth=7, n_estimators=900, reg_lambda=0.5;, score=0.957 total time=   9.1s\n",
      "[CV 2/3] END learning_rate=0.05, max_depth=7, n_estimators=900, reg_lambda=0.5;, score=0.968 total time=   9.0s\n",
      "[CV 3/3] END learning_rate=0.05, max_depth=7, n_estimators=900, reg_lambda=0.5;, score=0.957 total time=   9.6s\n",
      "[CV 1/3] END learning_rate=0.05, max_depth=7, n_estimators=900, reg_lambda=1;, score=0.953 total time=   9.2s\n",
      "[CV 2/3] END learning_rate=0.05, max_depth=7, n_estimators=900, reg_lambda=1;, score=0.965 total time=   9.3s\n",
      "[CV 3/3] END learning_rate=0.05, max_depth=7, n_estimators=900, reg_lambda=1;, score=0.954 total time=   9.5s\n",
      "[CV 1/3] END learning_rate=0.1, max_depth=5, n_estimators=700, reg_lambda=0.15;, score=0.960 total time=   5.5s\n",
      "[CV 2/3] END learning_rate=0.1, max_depth=5, n_estimators=700, reg_lambda=0.15;, score=0.970 total time=   5.5s\n",
      "[CV 3/3] END learning_rate=0.1, max_depth=5, n_estimators=700, reg_lambda=0.15;, score=0.961 total time=   5.6s\n",
      "[CV 1/3] END learning_rate=0.1, max_depth=5, n_estimators=700, reg_lambda=0.2;, score=0.960 total time=   5.5s\n",
      "[CV 2/3] END learning_rate=0.1, max_depth=5, n_estimators=700, reg_lambda=0.2;, score=0.969 total time=   5.5s\n",
      "[CV 3/3] END learning_rate=0.1, max_depth=5, n_estimators=700, reg_lambda=0.2;, score=0.960 total time=   6.0s\n",
      "[CV 1/3] END learning_rate=0.1, max_depth=5, n_estimators=700, reg_lambda=0.25;, score=0.958 total time=   5.5s\n",
      "[CV 2/3] END learning_rate=0.1, max_depth=5, n_estimators=700, reg_lambda=0.25;, score=0.969 total time=   5.4s\n",
      "[CV 3/3] END learning_rate=0.1, max_depth=5, n_estimators=700, reg_lambda=0.25;, score=0.960 total time=   5.7s\n",
      "[CV 1/3] END learning_rate=0.1, max_depth=5, n_estimators=700, reg_lambda=0.5;, score=0.958 total time=   5.4s\n",
      "[CV 2/3] END learning_rate=0.1, max_depth=5, n_estimators=700, reg_lambda=0.5;, score=0.968 total time=   5.4s\n",
      "[CV 3/3] END learning_rate=0.1, max_depth=5, n_estimators=700, reg_lambda=0.5;, score=0.958 total time=   5.4s\n",
      "[CV 1/3] END learning_rate=0.1, max_depth=5, n_estimators=700, reg_lambda=1;, score=0.954 total time=   5.6s\n",
      "[CV 2/3] END learning_rate=0.1, max_depth=5, n_estimators=700, reg_lambda=1;, score=0.964 total time=   5.4s\n",
      "[CV 3/3] END learning_rate=0.1, max_depth=5, n_estimators=700, reg_lambda=1;, score=0.955 total time=   5.4s\n",
      "[CV 1/3] END learning_rate=0.1, max_depth=5, n_estimators=800, reg_lambda=0.15;, score=0.962 total time=   6.5s\n",
      "[CV 2/3] END learning_rate=0.1, max_depth=5, n_estimators=800, reg_lambda=0.15;, score=0.972 total time=   6.8s\n",
      "[CV 3/3] END learning_rate=0.1, max_depth=5, n_estimators=800, reg_lambda=0.15;, score=0.964 total time=   7.0s\n",
      "[CV 1/3] END learning_rate=0.1, max_depth=5, n_estimators=800, reg_lambda=0.2;, score=0.962 total time=   6.6s\n",
      "[CV 2/3] END learning_rate=0.1, max_depth=5, n_estimators=800, reg_lambda=0.2;, score=0.972 total time=   6.9s\n",
      "[CV 3/3] END learning_rate=0.1, max_depth=5, n_estimators=800, reg_lambda=0.2;, score=0.963 total time=   6.5s\n",
      "[CV 1/3] END learning_rate=0.1, max_depth=5, n_estimators=800, reg_lambda=0.25;, score=0.961 total time=   6.5s\n",
      "[CV 2/3] END learning_rate=0.1, max_depth=5, n_estimators=800, reg_lambda=0.25;, score=0.972 total time=   6.3s\n",
      "[CV 3/3] END learning_rate=0.1, max_depth=5, n_estimators=800, reg_lambda=0.25;, score=0.962 total time=   6.4s\n",
      "[CV 1/3] END learning_rate=0.1, max_depth=5, n_estimators=800, reg_lambda=0.5;, score=0.961 total time=   6.4s\n",
      "[CV 2/3] END learning_rate=0.1, max_depth=5, n_estimators=800, reg_lambda=0.5;, score=0.971 total time=   6.5s\n",
      "[CV 3/3] END learning_rate=0.1, max_depth=5, n_estimators=800, reg_lambda=0.5;, score=0.961 total time=   6.6s\n",
      "[CV 1/3] END learning_rate=0.1, max_depth=5, n_estimators=800, reg_lambda=1;, score=0.956 total time=   6.7s\n",
      "[CV 2/3] END learning_rate=0.1, max_depth=5, n_estimators=800, reg_lambda=1;, score=0.967 total time=   6.6s\n",
      "[CV 3/3] END learning_rate=0.1, max_depth=5, n_estimators=800, reg_lambda=1;, score=0.959 total time=   6.3s\n",
      "[CV 1/3] END learning_rate=0.1, max_depth=5, n_estimators=900, reg_lambda=0.15;, score=0.965 total time=   7.1s\n",
      "[CV 2/3] END learning_rate=0.1, max_depth=5, n_estimators=900, reg_lambda=0.15;, score=0.973 total time=   7.2s\n",
      "[CV 3/3] END learning_rate=0.1, max_depth=5, n_estimators=900, reg_lambda=0.15;, score=0.966 total time=   7.1s\n",
      "[CV 1/3] END learning_rate=0.1, max_depth=5, n_estimators=900, reg_lambda=0.2;, score=0.965 total time=   7.1s\n",
      "[CV 2/3] END learning_rate=0.1, max_depth=5, n_estimators=900, reg_lambda=0.2;, score=0.973 total time=   7.3s\n",
      "[CV 3/3] END learning_rate=0.1, max_depth=5, n_estimators=900, reg_lambda=0.2;, score=0.964 total time=   7.2s\n",
      "[CV 1/3] END learning_rate=0.1, max_depth=5, n_estimators=900, reg_lambda=0.25;, score=0.963 total time=   7.4s\n",
      "[CV 2/3] END learning_rate=0.1, max_depth=5, n_estimators=900, reg_lambda=0.25;, score=0.973 total time=   7.0s\n",
      "[CV 3/3] END learning_rate=0.1, max_depth=5, n_estimators=900, reg_lambda=0.25;, score=0.964 total time=   7.1s\n",
      "[CV 1/3] END learning_rate=0.1, max_depth=5, n_estimators=900, reg_lambda=0.5;, score=0.963 total time=   7.1s\n",
      "[CV 2/3] END learning_rate=0.1, max_depth=5, n_estimators=900, reg_lambda=0.5;, score=0.972 total time=   6.9s\n",
      "[CV 3/3] END learning_rate=0.1, max_depth=5, n_estimators=900, reg_lambda=0.5;, score=0.963 total time=   7.5s\n",
      "[CV 1/3] END learning_rate=0.1, max_depth=5, n_estimators=900, reg_lambda=1;, score=0.959 total time=   7.0s\n",
      "[CV 2/3] END learning_rate=0.1, max_depth=5, n_estimators=900, reg_lambda=1;, score=0.969 total time=   7.1s\n",
      "[CV 3/3] END learning_rate=0.1, max_depth=5, n_estimators=900, reg_lambda=1;, score=0.961 total time=   7.6s\n",
      "[CV 1/3] END learning_rate=0.1, max_depth=7, n_estimators=700, reg_lambda=0.15;, score=0.966 total time=   7.6s\n",
      "[CV 2/3] END learning_rate=0.1, max_depth=7, n_estimators=700, reg_lambda=0.15;, score=0.975 total time=   7.6s\n",
      "[CV 3/3] END learning_rate=0.1, max_depth=7, n_estimators=700, reg_lambda=0.15;, score=0.968 total time=   7.6s\n",
      "[CV 1/3] END learning_rate=0.1, max_depth=7, n_estimators=700, reg_lambda=0.2;, score=0.965 total time=   7.3s\n",
      "[CV 2/3] END learning_rate=0.1, max_depth=7, n_estimators=700, reg_lambda=0.2;, score=0.975 total time=   7.4s\n",
      "[CV 3/3] END learning_rate=0.1, max_depth=7, n_estimators=700, reg_lambda=0.2;, score=0.967 total time=   7.7s\n",
      "[CV 1/3] END learning_rate=0.1, max_depth=7, n_estimators=700, reg_lambda=0.25;, score=0.965 total time=   7.5s\n",
      "[CV 2/3] END learning_rate=0.1, max_depth=7, n_estimators=700, reg_lambda=0.25;, score=0.975 total time=   7.8s\n",
      "[CV 3/3] END learning_rate=0.1, max_depth=7, n_estimators=700, reg_lambda=0.25;, score=0.966 total time=   7.2s\n",
      "[CV 1/3] END learning_rate=0.1, max_depth=7, n_estimators=700, reg_lambda=0.5;, score=0.964 total time=   7.2s\n",
      "[CV 2/3] END learning_rate=0.1, max_depth=7, n_estimators=700, reg_lambda=0.5;, score=0.974 total time=   7.6s\n",
      "[CV 3/3] END learning_rate=0.1, max_depth=7, n_estimators=700, reg_lambda=0.5;, score=0.965 total time=   7.2s\n",
      "[CV 1/3] END learning_rate=0.1, max_depth=7, n_estimators=700, reg_lambda=1;, score=0.962 total time=   7.1s\n",
      "[CV 2/3] END learning_rate=0.1, max_depth=7, n_estimators=700, reg_lambda=1;, score=0.973 total time=   7.1s\n",
      "[CV 3/3] END learning_rate=0.1, max_depth=7, n_estimators=700, reg_lambda=1;, score=0.963 total time=   7.1s\n",
      "[CV 1/3] END learning_rate=0.1, max_depth=7, n_estimators=800, reg_lambda=0.15;, score=0.968 total time=   9.0s\n",
      "[CV 2/3] END learning_rate=0.1, max_depth=7, n_estimators=800, reg_lambda=0.15;, score=0.976 total time=   8.5s\n",
      "[CV 3/3] END learning_rate=0.1, max_depth=7, n_estimators=800, reg_lambda=0.15;, score=0.969 total time=   8.6s\n",
      "[CV 1/3] END learning_rate=0.1, max_depth=7, n_estimators=800, reg_lambda=0.2;, score=0.966 total time=   8.7s\n",
      "[CV 2/3] END learning_rate=0.1, max_depth=7, n_estimators=800, reg_lambda=0.2;, score=0.977 total time=   8.6s\n",
      "[CV 3/3] END learning_rate=0.1, max_depth=7, n_estimators=800, reg_lambda=0.2;, score=0.969 total time=   8.8s\n",
      "[CV 1/3] END learning_rate=0.1, max_depth=7, n_estimators=800, reg_lambda=0.25;, score=0.967 total time=   8.6s\n",
      "[CV 2/3] END learning_rate=0.1, max_depth=7, n_estimators=800, reg_lambda=0.25;, score=0.976 total time=   8.5s\n",
      "[CV 3/3] END learning_rate=0.1, max_depth=7, n_estimators=800, reg_lambda=0.25;, score=0.968 total time=   9.0s\n",
      "[CV 1/3] END learning_rate=0.1, max_depth=7, n_estimators=800, reg_lambda=0.5;, score=0.966 total time=   8.6s\n",
      "[CV 2/3] END learning_rate=0.1, max_depth=7, n_estimators=800, reg_lambda=0.5;, score=0.976 total time=   8.8s\n",
      "[CV 3/3] END learning_rate=0.1, max_depth=7, n_estimators=800, reg_lambda=0.5;, score=0.967 total time=   8.6s\n",
      "[CV 1/3] END learning_rate=0.1, max_depth=7, n_estimators=800, reg_lambda=1;, score=0.964 total time=   9.0s\n",
      "[CV 2/3] END learning_rate=0.1, max_depth=7, n_estimators=800, reg_lambda=1;, score=0.974 total time=   8.6s\n",
      "[CV 3/3] END learning_rate=0.1, max_depth=7, n_estimators=800, reg_lambda=1;, score=0.965 total time=   8.8s\n",
      "[CV 1/3] END learning_rate=0.1, max_depth=7, n_estimators=900, reg_lambda=0.15;, score=0.969 total time=   9.6s\n",
      "[CV 2/3] END learning_rate=0.1, max_depth=7, n_estimators=900, reg_lambda=0.15;, score=0.978 total time=  10.0s\n",
      "[CV 3/3] END learning_rate=0.1, max_depth=7, n_estimators=900, reg_lambda=0.15;, score=0.971 total time=   9.6s\n",
      "[CV 1/3] END learning_rate=0.1, max_depth=7, n_estimators=900, reg_lambda=0.2;, score=0.968 total time=   9.5s\n",
      "[CV 2/3] END learning_rate=0.1, max_depth=7, n_estimators=900, reg_lambda=0.2;, score=0.978 total time=  10.0s\n",
      "[CV 3/3] END learning_rate=0.1, max_depth=7, n_estimators=900, reg_lambda=0.2;, score=0.970 total time=  10.7s\n",
      "[CV 1/3] END learning_rate=0.1, max_depth=7, n_estimators=900, reg_lambda=0.25;, score=0.968 total time=   9.8s\n",
      "[CV 2/3] END learning_rate=0.1, max_depth=7, n_estimators=900, reg_lambda=0.25;, score=0.977 total time=   9.8s\n",
      "[CV 3/3] END learning_rate=0.1, max_depth=7, n_estimators=900, reg_lambda=0.25;, score=0.970 total time=   9.7s\n",
      "[CV 1/3] END learning_rate=0.1, max_depth=7, n_estimators=900, reg_lambda=0.5;, score=0.968 total time=  10.0s\n",
      "[CV 2/3] END learning_rate=0.1, max_depth=7, n_estimators=900, reg_lambda=0.5;, score=0.977 total time=   9.7s\n",
      "[CV 3/3] END learning_rate=0.1, max_depth=7, n_estimators=900, reg_lambda=0.5;, score=0.968 total time=   9.6s\n",
      "[CV 1/3] END learning_rate=0.1, max_depth=7, n_estimators=900, reg_lambda=1;, score=0.965 total time=   9.5s\n",
      "[CV 2/3] END learning_rate=0.1, max_depth=7, n_estimators=900, reg_lambda=1;, score=0.976 total time=   9.5s\n",
      "[CV 3/3] END learning_rate=0.1, max_depth=7, n_estimators=900, reg_lambda=1;, score=0.966 total time=   9.6s\n"
     ]
    }
   ],
   "source": [
    "param_grid = {\n",
    "    'max_depth': [5, 7],\n",
    "    'learning_rate': [0.01, 0.05, 0.1],\n",
    "    'reg_lambda': [0.15, 0.2, 0.25, 0.5, 1],\n",
    "    'n_estimators': [700, 800, 900]\n",
    "}\n",
    "\n",
    "model = LGBMClassifier(random_state=RANDOM_STATE)\n",
    "\n",
    "grid_search = GridSearchCV(estimator=model, param_grid=param_grid, scoring='roc_auc', cv=3, n_jobs=1, verbose=3)\n",
    "\n",
    "grid_result_cb= grid_search.fit(X_train_encoded, y_train)\n"
   ]
  },
  {
   "cell_type": "code",
   "execution_count": 296,
   "metadata": {},
   "outputs": [
    {
     "name": "stdout",
     "output_type": "stream",
     "text": [
      "Лучший: 0.972616 при {'learning_rate': 0.1, 'max_depth': 7, 'n_estimators': 900, 'reg_lambda': 0.15}\n",
      "0.863 (+/-0.006) with: {'learning_rate': 0.01, 'max_depth': 5, 'n_estimators': 700, 'reg_lambda': 0.15}\n",
      "0.863 (+/-0.005) with: {'learning_rate': 0.01, 'max_depth': 5, 'n_estimators': 700, 'reg_lambda': 0.2}\n",
      "0.861 (+/-0.005) with: {'learning_rate': 0.01, 'max_depth': 5, 'n_estimators': 700, 'reg_lambda': 0.25}\n",
      "0.859 (+/-0.007) with: {'learning_rate': 0.01, 'max_depth': 5, 'n_estimators': 700, 'reg_lambda': 0.5}\n",
      "0.856 (+/-0.006) with: {'learning_rate': 0.01, 'max_depth': 5, 'n_estimators': 700, 'reg_lambda': 1}\n",
      "0.871 (+/-0.006) with: {'learning_rate': 0.01, 'max_depth': 5, 'n_estimators': 800, 'reg_lambda': 0.15}\n",
      "0.871 (+/-0.007) with: {'learning_rate': 0.01, 'max_depth': 5, 'n_estimators': 800, 'reg_lambda': 0.2}\n",
      "0.870 (+/-0.006) with: {'learning_rate': 0.01, 'max_depth': 5, 'n_estimators': 800, 'reg_lambda': 0.25}\n",
      "0.868 (+/-0.007) with: {'learning_rate': 0.01, 'max_depth': 5, 'n_estimators': 800, 'reg_lambda': 0.5}\n",
      "0.864 (+/-0.008) with: {'learning_rate': 0.01, 'max_depth': 5, 'n_estimators': 800, 'reg_lambda': 1}\n",
      "0.878 (+/-0.008) with: {'learning_rate': 0.01, 'max_depth': 5, 'n_estimators': 900, 'reg_lambda': 0.15}\n",
      "0.878 (+/-0.008) with: {'learning_rate': 0.01, 'max_depth': 5, 'n_estimators': 900, 'reg_lambda': 0.2}\n",
      "0.877 (+/-0.008) with: {'learning_rate': 0.01, 'max_depth': 5, 'n_estimators': 900, 'reg_lambda': 0.25}\n",
      "0.875 (+/-0.009) with: {'learning_rate': 0.01, 'max_depth': 5, 'n_estimators': 900, 'reg_lambda': 0.5}\n",
      "0.871 (+/-0.008) with: {'learning_rate': 0.01, 'max_depth': 5, 'n_estimators': 900, 'reg_lambda': 1}\n",
      "0.887 (+/-0.009) with: {'learning_rate': 0.01, 'max_depth': 7, 'n_estimators': 700, 'reg_lambda': 0.15}\n",
      "0.887 (+/-0.010) with: {'learning_rate': 0.01, 'max_depth': 7, 'n_estimators': 700, 'reg_lambda': 0.2}\n",
      "0.887 (+/-0.010) with: {'learning_rate': 0.01, 'max_depth': 7, 'n_estimators': 700, 'reg_lambda': 0.25}\n",
      "0.884 (+/-0.011) with: {'learning_rate': 0.01, 'max_depth': 7, 'n_estimators': 700, 'reg_lambda': 0.5}\n",
      "0.880 (+/-0.010) with: {'learning_rate': 0.01, 'max_depth': 7, 'n_estimators': 700, 'reg_lambda': 1}\n",
      "0.895 (+/-0.010) with: {'learning_rate': 0.01, 'max_depth': 7, 'n_estimators': 800, 'reg_lambda': 0.15}\n",
      "0.894 (+/-0.011) with: {'learning_rate': 0.01, 'max_depth': 7, 'n_estimators': 800, 'reg_lambda': 0.2}\n",
      "0.894 (+/-0.010) with: {'learning_rate': 0.01, 'max_depth': 7, 'n_estimators': 800, 'reg_lambda': 0.25}\n",
      "0.892 (+/-0.011) with: {'learning_rate': 0.01, 'max_depth': 7, 'n_estimators': 800, 'reg_lambda': 0.5}\n",
      "0.888 (+/-0.012) with: {'learning_rate': 0.01, 'max_depth': 7, 'n_estimators': 800, 'reg_lambda': 1}\n",
      "0.901 (+/-0.011) with: {'learning_rate': 0.01, 'max_depth': 7, 'n_estimators': 900, 'reg_lambda': 0.15}\n",
      "0.901 (+/-0.011) with: {'learning_rate': 0.01, 'max_depth': 7, 'n_estimators': 900, 'reg_lambda': 0.2}\n",
      "0.900 (+/-0.011) with: {'learning_rate': 0.01, 'max_depth': 7, 'n_estimators': 900, 'reg_lambda': 0.25}\n",
      "0.898 (+/-0.012) with: {'learning_rate': 0.01, 'max_depth': 7, 'n_estimators': 900, 'reg_lambda': 0.5}\n",
      "0.894 (+/-0.013) with: {'learning_rate': 0.01, 'max_depth': 7, 'n_estimators': 900, 'reg_lambda': 1}\n",
      "0.943 (+/-0.011) with: {'learning_rate': 0.05, 'max_depth': 5, 'n_estimators': 700, 'reg_lambda': 0.15}\n",
      "0.943 (+/-0.011) with: {'learning_rate': 0.05, 'max_depth': 5, 'n_estimators': 700, 'reg_lambda': 0.2}\n",
      "0.943 (+/-0.010) with: {'learning_rate': 0.05, 'max_depth': 5, 'n_estimators': 700, 'reg_lambda': 0.25}\n",
      "0.942 (+/-0.010) with: {'learning_rate': 0.05, 'max_depth': 5, 'n_estimators': 700, 'reg_lambda': 0.5}\n",
      "0.938 (+/-0.012) with: {'learning_rate': 0.05, 'max_depth': 5, 'n_estimators': 700, 'reg_lambda': 1}\n",
      "0.948 (+/-0.011) with: {'learning_rate': 0.05, 'max_depth': 5, 'n_estimators': 800, 'reg_lambda': 0.15}\n",
      "0.948 (+/-0.010) with: {'learning_rate': 0.05, 'max_depth': 5, 'n_estimators': 800, 'reg_lambda': 0.2}\n",
      "0.948 (+/-0.010) with: {'learning_rate': 0.05, 'max_depth': 5, 'n_estimators': 800, 'reg_lambda': 0.25}\n",
      "0.947 (+/-0.011) with: {'learning_rate': 0.05, 'max_depth': 5, 'n_estimators': 800, 'reg_lambda': 0.5}\n",
      "0.942 (+/-0.012) with: {'learning_rate': 0.05, 'max_depth': 5, 'n_estimators': 800, 'reg_lambda': 1}\n",
      "0.952 (+/-0.011) with: {'learning_rate': 0.05, 'max_depth': 5, 'n_estimators': 900, 'reg_lambda': 0.15}\n",
      "0.952 (+/-0.010) with: {'learning_rate': 0.05, 'max_depth': 5, 'n_estimators': 900, 'reg_lambda': 0.2}\n",
      "0.951 (+/-0.010) with: {'learning_rate': 0.05, 'max_depth': 5, 'n_estimators': 900, 'reg_lambda': 0.25}\n",
      "0.950 (+/-0.011) with: {'learning_rate': 0.05, 'max_depth': 5, 'n_estimators': 900, 'reg_lambda': 0.5}\n",
      "0.946 (+/-0.011) with: {'learning_rate': 0.05, 'max_depth': 5, 'n_estimators': 900, 'reg_lambda': 1}\n",
      "0.957 (+/-0.010) with: {'learning_rate': 0.05, 'max_depth': 7, 'n_estimators': 700, 'reg_lambda': 0.15}\n",
      "0.956 (+/-0.011) with: {'learning_rate': 0.05, 'max_depth': 7, 'n_estimators': 700, 'reg_lambda': 0.2}\n",
      "0.955 (+/-0.011) with: {'learning_rate': 0.05, 'max_depth': 7, 'n_estimators': 700, 'reg_lambda': 0.25}\n",
      "0.954 (+/-0.011) with: {'learning_rate': 0.05, 'max_depth': 7, 'n_estimators': 700, 'reg_lambda': 0.5}\n",
      "0.951 (+/-0.011) with: {'learning_rate': 0.05, 'max_depth': 7, 'n_estimators': 700, 'reg_lambda': 1}\n",
      "0.960 (+/-0.010) with: {'learning_rate': 0.05, 'max_depth': 7, 'n_estimators': 800, 'reg_lambda': 0.15}\n",
      "0.959 (+/-0.010) with: {'learning_rate': 0.05, 'max_depth': 7, 'n_estimators': 800, 'reg_lambda': 0.2}\n",
      "0.959 (+/-0.011) with: {'learning_rate': 0.05, 'max_depth': 7, 'n_estimators': 800, 'reg_lambda': 0.25}\n",
      "0.958 (+/-0.010) with: {'learning_rate': 0.05, 'max_depth': 7, 'n_estimators': 800, 'reg_lambda': 0.5}\n",
      "0.954 (+/-0.011) with: {'learning_rate': 0.05, 'max_depth': 7, 'n_estimators': 800, 'reg_lambda': 1}\n",
      "0.963 (+/-0.010) with: {'learning_rate': 0.05, 'max_depth': 7, 'n_estimators': 900, 'reg_lambda': 0.15}\n",
      "0.962 (+/-0.010) with: {'learning_rate': 0.05, 'max_depth': 7, 'n_estimators': 900, 'reg_lambda': 0.2}\n",
      "0.962 (+/-0.010) with: {'learning_rate': 0.05, 'max_depth': 7, 'n_estimators': 900, 'reg_lambda': 0.25}\n",
      "0.961 (+/-0.010) with: {'learning_rate': 0.05, 'max_depth': 7, 'n_estimators': 900, 'reg_lambda': 0.5}\n",
      "0.957 (+/-0.011) with: {'learning_rate': 0.05, 'max_depth': 7, 'n_estimators': 900, 'reg_lambda': 1}\n",
      "0.964 (+/-0.009) with: {'learning_rate': 0.1, 'max_depth': 5, 'n_estimators': 700, 'reg_lambda': 0.15}\n",
      "0.963 (+/-0.008) with: {'learning_rate': 0.1, 'max_depth': 5, 'n_estimators': 700, 'reg_lambda': 0.2}\n",
      "0.962 (+/-0.010) with: {'learning_rate': 0.1, 'max_depth': 5, 'n_estimators': 700, 'reg_lambda': 0.25}\n",
      "0.961 (+/-0.010) with: {'learning_rate': 0.1, 'max_depth': 5, 'n_estimators': 700, 'reg_lambda': 0.5}\n",
      "0.958 (+/-0.010) with: {'learning_rate': 0.1, 'max_depth': 5, 'n_estimators': 700, 'reg_lambda': 1}\n",
      "0.966 (+/-0.008) with: {'learning_rate': 0.1, 'max_depth': 5, 'n_estimators': 800, 'reg_lambda': 0.15}\n",
      "0.966 (+/-0.009) with: {'learning_rate': 0.1, 'max_depth': 5, 'n_estimators': 800, 'reg_lambda': 0.2}\n",
      "0.965 (+/-0.010) with: {'learning_rate': 0.1, 'max_depth': 5, 'n_estimators': 800, 'reg_lambda': 0.25}\n",
      "0.964 (+/-0.009) with: {'learning_rate': 0.1, 'max_depth': 5, 'n_estimators': 800, 'reg_lambda': 0.5}\n",
      "0.961 (+/-0.009) with: {'learning_rate': 0.1, 'max_depth': 5, 'n_estimators': 800, 'reg_lambda': 1}\n",
      "0.968 (+/-0.007) with: {'learning_rate': 0.1, 'max_depth': 5, 'n_estimators': 900, 'reg_lambda': 0.15}\n",
      "0.967 (+/-0.008) with: {'learning_rate': 0.1, 'max_depth': 5, 'n_estimators': 900, 'reg_lambda': 0.2}\n",
      "0.967 (+/-0.009) with: {'learning_rate': 0.1, 'max_depth': 5, 'n_estimators': 900, 'reg_lambda': 0.25}\n",
      "0.966 (+/-0.008) with: {'learning_rate': 0.1, 'max_depth': 5, 'n_estimators': 900, 'reg_lambda': 0.5}\n",
      "0.963 (+/-0.008) with: {'learning_rate': 0.1, 'max_depth': 5, 'n_estimators': 900, 'reg_lambda': 1}\n",
      "0.970 (+/-0.007) with: {'learning_rate': 0.1, 'max_depth': 7, 'n_estimators': 700, 'reg_lambda': 0.15}\n",
      "0.969 (+/-0.009) with: {'learning_rate': 0.1, 'max_depth': 7, 'n_estimators': 700, 'reg_lambda': 0.2}\n",
      "0.969 (+/-0.008) with: {'learning_rate': 0.1, 'max_depth': 7, 'n_estimators': 700, 'reg_lambda': 0.25}\n",
      "0.968 (+/-0.009) with: {'learning_rate': 0.1, 'max_depth': 7, 'n_estimators': 700, 'reg_lambda': 0.5}\n",
      "0.966 (+/-0.010) with: {'learning_rate': 0.1, 'max_depth': 7, 'n_estimators': 700, 'reg_lambda': 1}\n",
      "0.971 (+/-0.007) with: {'learning_rate': 0.1, 'max_depth': 7, 'n_estimators': 800, 'reg_lambda': 0.15}\n",
      "0.971 (+/-0.009) with: {'learning_rate': 0.1, 'max_depth': 7, 'n_estimators': 800, 'reg_lambda': 0.2}\n",
      "0.970 (+/-0.008) with: {'learning_rate': 0.1, 'max_depth': 7, 'n_estimators': 800, 'reg_lambda': 0.25}\n",
      "0.969 (+/-0.009) with: {'learning_rate': 0.1, 'max_depth': 7, 'n_estimators': 800, 'reg_lambda': 0.5}\n",
      "0.967 (+/-0.009) with: {'learning_rate': 0.1, 'max_depth': 7, 'n_estimators': 800, 'reg_lambda': 1}\n",
      "0.973 (+/-0.007) with: {'learning_rate': 0.1, 'max_depth': 7, 'n_estimators': 900, 'reg_lambda': 0.15}\n",
      "0.972 (+/-0.008) with: {'learning_rate': 0.1, 'max_depth': 7, 'n_estimators': 900, 'reg_lambda': 0.2}\n",
      "0.972 (+/-0.008) with: {'learning_rate': 0.1, 'max_depth': 7, 'n_estimators': 900, 'reg_lambda': 0.25}\n",
      "0.971 (+/-0.008) with: {'learning_rate': 0.1, 'max_depth': 7, 'n_estimators': 900, 'reg_lambda': 0.5}\n",
      "0.969 (+/-0.010) with: {'learning_rate': 0.1, 'max_depth': 7, 'n_estimators': 900, 'reg_lambda': 1}\n"
     ]
    }
   ],
   "source": [
    "print(\"Лучший: %f при %s\" % (grid_result_cb.best_score_, grid_result_cb.best_params_))\n",
    "\n",
    "means = grid_result_cb.cv_results_['mean_test_score']\n",
    "stds = grid_result_cb.cv_results_['std_test_score']\n",
    "params = grid_result_cb.cv_results_['params']\n",
    "\n",
    "for mean, std, param in zip(means, stds, params):\n",
    "    print(\"%0.3f (+/-%0.03f) with: %r\" % (mean, std *  2, param))"
   ]
  },
  {
   "cell_type": "markdown",
   "metadata": {},
   "source": [
    "### "
   ]
  },
  {
   "cell_type": "code",
   "execution_count": 297,
   "metadata": {},
   "outputs": [
    {
     "name": "stdout",
     "output_type": "stream",
     "text": [
      "Test ROC-AUC Score:  0.9551148225469729\n"
     ]
    }
   ],
   "source": [
    "best_model_cb = grid_result_cb.best_estimator_\n",
    "best_model_cb.fit(X_train_encoded, y_train)\n",
    "\n",
    "test_score = best_model_cb.score(X_test_encoded, y_test)\n",
    "\n",
    "print(\"Test ROC-AUC Score: \", test_score)"
   ]
  },
  {
   "cell_type": "markdown",
   "metadata": {},
   "source": [
    "LGBMC Также проявила сепбя очень хорошо. Поэтому две модели могут быть задействованы в предсказании на тесте."
   ]
  },
  {
   "cell_type": "code",
   "execution_count": 298,
   "metadata": {},
   "outputs": [],
   "source": [
    "with open('best_model_cb.pkl', 'wb') as file:\n",
    "    pickle.dump(best_model_cb, file)"
   ]
  },
  {
   "cell_type": "code",
   "execution_count": 299,
   "metadata": {},
   "outputs": [],
   "source": [
    "with open('best_model_cb.pkl', 'rb') as file:\n",
    "    best_model_cb = pickle.load(file)"
   ]
  },
  {
   "cell_type": "code",
   "execution_count": 300,
   "metadata": {},
   "outputs": [
    {
     "name": "stdout",
     "output_type": "stream",
     "text": [
      "Validation ROC-AUC Score:  0.8668613138686131\n"
     ]
    }
   ],
   "source": [
    "valid_score = best_model_cb.score(X_valid_encoded, y_valid)\n",
    "print(\"Validation ROC-AUC Score: \", valid_score)"
   ]
  },
  {
   "cell_type": "markdown",
   "metadata": {},
   "source": [
    "## Тест"
   ]
  },
  {
   "cell_type": "code",
   "execution_count": 301,
   "metadata": {},
   "outputs": [],
   "source": [
    "test_data_encoded = transformer.transform(test_data)\n",
    "\n",
    "predictions_svm = best_model_svm.predict(test_data_encoded)\n",
    "\n",
    "results = pd.concat([test_data_orig, pd.Series(predictions_svm, name='prediction_svm')], axis=1)\n",
    "\n",
    "results = results.drop(['tweet'], axis=1)\n",
    "results = results.rename(columns={'prediction_svm': 'label'})\n",
    "results.to_csv('results.csv', index=False)"
   ]
  },
  {
   "cell_type": "markdown",
   "metadata": {},
   "source": [
    "Мы получили файл с предсказаниями, которыйц может быть успешно отправлен на сайт. Было решение отправить предсказания SVM. Для того, тчо бы отправить LGBMC модель, нужно поменять модель _svm на _gbm."
   ]
  },
  {
   "cell_type": "code",
   "execution_count": 302,
   "metadata": {},
   "outputs": [],
   "source": [
    "##"
   ]
  },
  {
   "cell_type": "markdown",
   "metadata": {},
   "source": [
    "## BioBert"
   ]
  },
  {
   "cell_type": "markdown",
   "metadata": {},
   "source": [
    "И в заключении попытка разобраться с нейронками. Я нашел модель, которая может справляться с медицинскими текстами и сделал вот такую простую архитектуру."
   ]
  },
  {
   "cell_type": "code",
   "execution_count": 313,
   "metadata": {},
   "outputs": [],
   "source": [
    "from transformers import BertTokenizer, BertForSequenceClassification, AdamW\n",
    "from torch.utils.data import DataLoader, TensorDataset\n",
    "import torch\n",
    "from sklearn.metrics import roc_auc_score\n",
    "from tqdm import tqdm\n",
    "from transformers import AutoTokenizer"
   ]
  },
  {
   "cell_type": "code",
   "execution_count": 314,
   "metadata": {},
   "outputs": [
    {
     "name": "stderr",
     "output_type": "stream",
     "text": [
      "Some weights of BertForSequenceClassification were not initialized from the model checkpoint at bert-base-uncased and are newly initialized: ['classifier.bias', 'classifier.weight']\n",
      "You should probably TRAIN this model on a down-stream task to be able to use it for predictions and inference.\n"
     ]
    }
   ],
   "source": [
    "tokenizer = AutoTokenizer.from_pretrained('bert-base-uncased')\n",
    "model = BertForSequenceClassification.from_pretrained('bert-base-uncased', num_labels=2)"
   ]
  },
  {
   "cell_type": "code",
   "execution_count": 315,
   "metadata": {},
   "outputs": [],
   "source": [
    "def preprocess_data(data):\n",
    "    tokenized_texts = []\n",
    "    for index, row in data.iterrows():\n",
    "        text = row['tweet']\n",
    "        inputs = tokenizer(text, return_tensors=\"pt\", truncation=True, padding=True)\n",
    "        tokenized_texts.append(inputs)\n",
    "    return tokenized_texts"
   ]
  },
  {
   "cell_type": "code",
   "execution_count": 316,
   "metadata": {},
   "outputs": [],
   "source": [
    "train_data = pd.read_csv('train.tsv', sep=\"\\t\")\n",
    "test_data = pd.read_csv('test.tsv', sep=\"\\t\")\n",
    "valid_data = pd.read_csv('valid.tsv', sep=\"\\t\")\n",
    "\n",
    "test_texts = preprocess_data(test_data)"
   ]
  },
  {
   "cell_type": "code",
   "execution_count": 318,
   "metadata": {},
   "outputs": [
    {
     "data": {
      "text/plain": [
       "'model.eval()\\npredicted_labels = []\\nwith torch.no_grad():\\n    for inputs in tqdm(test_texts, desc=\"Predicting labels\", ncols=100):\\n        outputs = model(**inputs)\\n        logits = outputs.logits\\n        probabilities = torch.softmax(logits, dim=1)\\n        predicted_label = 1 if probabilities[:, 1].item() > 0.5 else 0\\n        predicted_labels.append(predicted_label)'"
      ]
     },
     "execution_count": 318,
     "metadata": {},
     "output_type": "execute_result"
    }
   ],
   "source": [
    "model.eval()\n",
    "predicted_labels = []\n",
    "with torch.no_grad():\n",
    "    for inputs in tqdm(test_texts, desc=\"Predicting labels\", ncols=100):\n",
    "        outputs = model(**inputs)\n",
    "        logits = outputs.logits\n",
    "        probabilities = torch.softmax(logits, dim=1)\n",
    "        predicted_label = 1 if probabilities[:, 1].item() > 0.5 else 0\n",
    "        predicted_labels.append(predicted_label)"
   ]
  },
  {
   "cell_type": "code",
   "execution_count": 319,
   "metadata": {},
   "outputs": [
    {
     "data": {
      "text/plain": [
       "\"test_data['predicted_label'] = predicted_labels\\ntest_data = test_data.drop(['tweet'], axis=1)\\ntest_data = test_data.rename(columns={'predicted_label': 'label'})\""
      ]
     },
     "execution_count": 319,
     "metadata": {},
     "output_type": "execute_result"
    }
   ],
   "source": [
    "test_data['predicted_label'] = predicted_labels\n",
    "test_data = test_data.drop(['tweet'], axis=1)\n",
    "test_data = test_data.rename(columns={'predicted_label': 'label'})"
   ]
  },
  {
   "cell_type": "code",
   "execution_count": null,
   "metadata": {},
   "outputs": [],
   "source": [
    "test_data"
   ]
  },
  {
   "cell_type": "code",
   "execution_count": null,
   "metadata": {},
   "outputs": [],
   "source": [
    "test_data.to_csv(\"predicted_test_labels.csv\", index=False)"
   ]
  },
  {
   "cell_type": "code",
   "execution_count": 320,
   "metadata": {},
   "outputs": [],
   "source": [
    "##"
   ]
  }
 ],
 "metadata": {
  "kernelspec": {
   "display_name": "Python 3",
   "language": "python",
   "name": "python3"
  },
  "language_info": {
   "codemirror_mode": {
    "name": "ipython",
    "version": 3
   },
   "file_extension": ".py",
   "mimetype": "text/x-python",
   "name": "python",
   "nbconvert_exporter": "python",
   "pygments_lexer": "ipython3",
   "version": "3.8.0"
  }
 },
 "nbformat": 4,
 "nbformat_minor": 2
}

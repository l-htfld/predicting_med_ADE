{
 "cells": [
  {
   "cell_type": "markdown",
   "metadata": {},
   "source": [
    "# NLP 2021 HW1"
   ]
  },
  {
   "cell_type": "markdown",
   "metadata": {},
   "source": [
    "Три датасета с твитами: \n",
    "\n",
    "- тренировочный\n",
    "- тестовый\n",
    "- валидационный\n",
    "\n",
    "Нужно определить, какие твиты могут упоминать побочный эффекты от лекарств.\n",
    "\n",
    "Пайплайн:\n",
    "- Скачать все три датасета, определить их в переменные\n",
    "- Провести предобработку данных, почистить от пропусков, дупликатов.\n",
    "- Провести исследовательский аналих данных, выявить закономерности, если таковые имеются\n",
    "- Закодировать данные. Применить лингвистические трансформаторы (W2V, BoW, TF-IDF)\n",
    "- Подобрать модели, определить бейзлайн\n",
    "- Найти лучшую модель на тренировочной выборке, протестировать на тестовой и отправить на валидационную\n",
    "В\\- Вывести метрики качества, подвести итоги"
   ]
  },
  {
   "cell_type": "markdown",
   "metadata": {},
   "source": [
    "## Загрузка данных"
   ]
  },
  {
   "cell_type": "code",
   "execution_count": 1,
   "metadata": {},
   "outputs": [
    {
     "name": "stdout",
     "output_type": "stream",
     "text": [
      "Requirement already satisfied: simplemma in c:\\users\\hp\\appdata\\local\\programs\\python\\python38\\lib\\site-packages (0.9.1)Note: you may need to restart the kernel to use updated packages.\n",
      "\n"
     ]
    },
    {
     "name": "stderr",
     "output_type": "stream",
     "text": [
      "WARNING: Ignoring invalid distribution - (c:\\users\\hp\\appdata\\roaming\\python\\python38\\site-packages)\n",
      "WARNING: Ignoring invalid distribution -rotobuf (c:\\users\\hp\\appdata\\roaming\\python\\python38\\site-packages)\n",
      "WARNING: Ignoring invalid distribution -otobuf (c:\\users\\hp\\appdata\\roaming\\python\\python38\\site-packages)\n",
      "WARNING: Ignoring invalid distribution - (c:\\users\\hp\\appdata\\roaming\\python\\python38\\site-packages)\n",
      "WARNING: Ignoring invalid distribution -rotobuf (c:\\users\\hp\\appdata\\roaming\\python\\python38\\site-packages)\n",
      "WARNING: Ignoring invalid distribution -otobuf (c:\\users\\hp\\appdata\\roaming\\python\\python38\\site-packages)\n",
      "WARNING: Ignoring invalid distribution -otobuf (c:\\users\\hp\\appdata\\local\\programs\\python\\python38\\lib\\site-packages)\n",
      "WARNING: Ignoring invalid distribution -orch (c:\\users\\hp\\appdata\\local\\programs\\python\\python38\\lib\\site-packages)\n",
      "WARNING: Ignoring invalid distribution - (c:\\users\\hp\\appdata\\roaming\\python\\python38\\site-packages)\n",
      "WARNING: Ignoring invalid distribution -rotobuf (c:\\users\\hp\\appdata\\roaming\\python\\python38\\site-packages)\n",
      "WARNING: Ignoring invalid distribution -otobuf (c:\\users\\hp\\appdata\\roaming\\python\\python38\\site-packages)\n",
      "WARNING: Ignoring invalid distribution -otobuf (c:\\users\\hp\\appdata\\local\\programs\\python\\python38\\lib\\site-packages)\n",
      "WARNING: Ignoring invalid distribution -orch (c:\\users\\hp\\appdata\\local\\programs\\python\\python38\\lib\\site-packages)\n",
      "WARNING: Ignoring invalid distribution - (c:\\users\\hp\\appdata\\roaming\\python\\python38\\site-packages)\n",
      "WARNING: Ignoring invalid distribution -rotobuf (c:\\users\\hp\\appdata\\roaming\\python\\python38\\site-packages)\n",
      "WARNING: Ignoring invalid distribution -otobuf (c:\\users\\hp\\appdata\\roaming\\python\\python38\\site-packages)\n",
      "WARNING: Ignoring invalid distribution - (c:\\users\\hp\\appdata\\roaming\\python\\python38\\site-packages)\n",
      "WARNING: Ignoring invalid distribution -rotobuf (c:\\users\\hp\\appdata\\roaming\\python\\python38\\site-packages)\n",
      "WARNING: Ignoring invalid distribution -otobuf (c:\\users\\hp\\appdata\\roaming\\python\\python38\\site-packages)\n",
      "WARNING: Ignoring invalid distribution - (c:\\users\\hp\\appdata\\roaming\\python\\python38\\site-packages)\n",
      "WARNING: Ignoring invalid distribution -rotobuf (c:\\users\\hp\\appdata\\roaming\\python\\python38\\site-packages)\n",
      "WARNING: Ignoring invalid distribution -otobuf (c:\\users\\hp\\appdata\\roaming\\python\\python38\\site-packages)\n",
      "\n",
      "[notice] A new release of pip is available: 23.2.1 -> 24.0\n",
      "[notice] To update, run: python.exe -m pip install --upgrade pip\n"
     ]
    }
   ],
   "source": [
    "pip install simplemma"
   ]
  },
  {
   "cell_type": "code",
   "execution_count": 2,
   "metadata": {},
   "outputs": [],
   "source": [
    "import pandas as pd\n",
    "import numpy as np\n",
    "import matplotlib.pyplot as plt\n",
    "\n",
    "import plotly.graph_objs as go\n",
    "from plotly.offline import init_notebook_mode, iplot\n",
    "\n",
    "import nltk\n",
    "from nltk import word_tokenize\n",
    "from nltk.stem.wordnet import WordNetLemmatizer\n",
    "from nltk.corpus import stopwords\n",
    "import string\n",
    "\n",
    "#from gensim.models import Word2Vec\n",
    "import simplemma\n",
    "\n",
    "from sklearn.model_selection import train_test_split\n",
    "from sklearn.linear_model import LogisticRegression\n",
    "from sklearn.metrics import roc_auc_score\n",
    "from sklearn.feature_extraction.text import TfidfVectorizer\n",
    "from sklearn.compose import ColumnTransformer\n",
    "from sklearn.metrics import roc_curve, auc\n",
    "from sklearn.svm import SVC\n",
    "from sklearn.model_selection import RepeatedStratifiedKFold, GridSearchCV\n",
    "from nltk import pos_tag, word_tokenize\n",
    "\n",
    "from catboost import CatBoostClassifier\n",
    "\n",
    "import lightgbm as lgb\n",
    "\n",
    "import pickle"
   ]
  },
  {
   "cell_type": "code",
   "execution_count": 3,
   "metadata": {},
   "outputs": [
    {
     "name": "stderr",
     "output_type": "stream",
     "text": [
      "[nltk_data] Downloading package punkt to\n",
      "[nltk_data]     C:\\Users\\HP\\AppData\\Roaming\\nltk_data...\n",
      "[nltk_data]   Package punkt is already up-to-date!\n",
      "[nltk_data] Downloading package averaged_perceptron_tagger to\n",
      "[nltk_data]     C:\\Users\\HP\\AppData\\Roaming\\nltk_data...\n",
      "[nltk_data]   Package averaged_perceptron_tagger is already up-to-\n",
      "[nltk_data]       date!\n",
      "[nltk_data] Downloading package wordnet to\n",
      "[nltk_data]     C:\\Users\\HP\\AppData\\Roaming\\nltk_data...\n",
      "[nltk_data]   Package wordnet is already up-to-date!\n"
     ]
    },
    {
     "data": {
      "text/plain": [
       "True"
      ]
     },
     "execution_count": 3,
     "metadata": {},
     "output_type": "execute_result"
    }
   ],
   "source": [
    "nltk.download('punkt')\n",
    "nltk.download('averaged_perceptron_tagger')\n",
    "nltk.download('wordnet')"
   ]
  },
  {
   "cell_type": "code",
   "execution_count": 4,
   "metadata": {},
   "outputs": [],
   "source": [
    "train_data = pd.read_csv('train.tsv', sep=\"\\t\")\n",
    "test_data = pd.read_csv('test.tsv', sep=\"\\t\")\n",
    "valid_data = pd.read_csv('valid.tsv', sep=\"\\t\")"
   ]
  },
  {
   "cell_type": "code",
   "execution_count": 5,
   "metadata": {},
   "outputs": [],
   "source": [
    "test_data_orig = test_data"
   ]
  },
  {
   "cell_type": "code",
   "execution_count": 6,
   "metadata": {},
   "outputs": [],
   "source": [
    "datas = [train_data, test_data, valid_data]"
   ]
  },
  {
   "cell_type": "code",
   "execution_count": 7,
   "metadata": {},
   "outputs": [
    {
     "name": "stdout",
     "output_type": "stream",
     "text": [
      "\n",
      "Датасет: Train\n",
      "Первые 5 рядов:\n"
     ]
    },
    {
     "data": {
      "text/html": [
       "<div>\n",
       "<style scoped>\n",
       "    .dataframe tbody tr th:only-of-type {\n",
       "        vertical-align: middle;\n",
       "    }\n",
       "\n",
       "    .dataframe tbody tr th {\n",
       "        vertical-align: top;\n",
       "    }\n",
       "\n",
       "    .dataframe thead th {\n",
       "        text-align: right;\n",
       "    }\n",
       "</style>\n",
       "<table border=\"1\" class=\"dataframe\">\n",
       "  <thead>\n",
       "    <tr style=\"text-align: right;\">\n",
       "      <th></th>\n",
       "      <th>tweet_id</th>\n",
       "      <th>tweet</th>\n",
       "      <th>label</th>\n",
       "    </tr>\n",
       "  </thead>\n",
       "  <tbody>\n",
       "    <tr>\n",
       "      <th>0</th>\n",
       "      <td>760402871867367424</td>\n",
       "      <td>Настало время для ингаляторов. Дружок, Сальбут...</td>\n",
       "      <td>0</td>\n",
       "    </tr>\n",
       "    <tr>\n",
       "      <th>1</th>\n",
       "      <td>1035908416869462016</td>\n",
       "      <td>15) На прошлой зимней олимпиаде большинство лы...</td>\n",
       "      <td>1</td>\n",
       "    </tr>\n",
       "    <tr>\n",
       "      <th>2</th>\n",
       "      <td>1089839736427032577</td>\n",
       "      <td>Не соглашусь с заменой ЗОК на метопролол в так...</td>\n",
       "      <td>0</td>\n",
       "    </tr>\n",
       "    <tr>\n",
       "      <th>3</th>\n",
       "      <td>779671488748224513</td>\n",
       "      <td>@di2m1 мезим Смекта Если отравление, то лоперамид</td>\n",
       "      <td>0</td>\n",
       "    </tr>\n",
       "    <tr>\n",
       "      <th>4</th>\n",
       "      <td>738309299756240897</td>\n",
       "      <td>Уберите микроволновки и имодиум  Действуют соу...</td>\n",
       "      <td>0</td>\n",
       "    </tr>\n",
       "  </tbody>\n",
       "</table>\n",
       "</div>"
      ],
      "text/plain": [
       "              tweet_id                                              tweet  \\\n",
       "0   760402871867367424  Настало время для ингаляторов. Дружок, Сальбут...   \n",
       "1  1035908416869462016  15) На прошлой зимней олимпиаде большинство лы...   \n",
       "2  1089839736427032577  Не соглашусь с заменой ЗОК на метопролол в так...   \n",
       "3   779671488748224513  @di2m1 мезим Смекта Если отравление, то лоперамид   \n",
       "4   738309299756240897  Уберите микроволновки и имодиум  Действуют соу...   \n",
       "\n",
       "   label  \n",
       "0      0  \n",
       "1      1  \n",
       "2      0  \n",
       "3      0  \n",
       "4      0  "
      ]
     },
     "metadata": {},
     "output_type": "display_data"
    },
    {
     "name": "stdout",
     "output_type": "stream",
     "text": [
      "None\n",
      "Размер: 8184 рядов x 3 колонок\n",
      "Пропущенные значения: 0\n",
      "\n",
      "Датасет: Test\n",
      "Первые 5 рядов:\n"
     ]
    },
    {
     "data": {
      "text/html": [
       "<div>\n",
       "<style scoped>\n",
       "    .dataframe tbody tr th:only-of-type {\n",
       "        vertical-align: middle;\n",
       "    }\n",
       "\n",
       "    .dataframe tbody tr th {\n",
       "        vertical-align: top;\n",
       "    }\n",
       "\n",
       "    .dataframe thead th {\n",
       "        text-align: right;\n",
       "    }\n",
       "</style>\n",
       "<table border=\"1\" class=\"dataframe\">\n",
       "  <thead>\n",
       "    <tr style=\"text-align: right;\">\n",
       "      <th></th>\n",
       "      <th>tweet_id</th>\n",
       "      <th>tweet</th>\n",
       "    </tr>\n",
       "  </thead>\n",
       "  <tbody>\n",
       "    <tr>\n",
       "      <th>0</th>\n",
       "      <td>1149390095612555266</td>\n",
       "      <td>от паксила такая дикая сонливость((</td>\n",
       "    </tr>\n",
       "    <tr>\n",
       "      <th>1</th>\n",
       "      <td>1104439603304546304</td>\n",
       "      <td>@Kyzzenish Попробуйте парацетамол. Нередко оче...</td>\n",
       "    </tr>\n",
       "    <tr>\n",
       "      <th>2</th>\n",
       "      <td>5886509017</td>\n",
       "      <td>А для фанатов арбидола могу сообщить, что спон...</td>\n",
       "    </tr>\n",
       "    <tr>\n",
       "      <th>3</th>\n",
       "      <td>1539809930</td>\n",
       "      <td>Опять болит горло, поэтому опять забил на басс...</td>\n",
       "    </tr>\n",
       "    <tr>\n",
       "      <th>4</th>\n",
       "      <td>777843779021709312</td>\n",
       "      <td>У Васи жар, аж вся кровать и одеяло мокрые 😱 д...</td>\n",
       "    </tr>\n",
       "  </tbody>\n",
       "</table>\n",
       "</div>"
      ],
      "text/plain": [
       "              tweet_id                                              tweet\n",
       "0  1149390095612555266                от паксила такая дикая сонливость((\n",
       "1  1104439603304546304  @Kyzzenish Попробуйте парацетамол. Нередко оче...\n",
       "2           5886509017  А для фанатов арбидола могу сообщить, что спон...\n",
       "3           1539809930  Опять болит горло, поэтому опять забил на басс...\n",
       "4   777843779021709312  У Васи жар, аж вся кровать и одеяло мокрые 😱 д..."
      ]
     },
     "metadata": {},
     "output_type": "display_data"
    },
    {
     "name": "stdout",
     "output_type": "stream",
     "text": [
      "None\n",
      "Размер: 9095 рядов x 2 колонок\n",
      "Пропущенные значения: 0\n",
      "\n",
      "Датасет: Valid\n",
      "Первые 5 рядов:\n"
     ]
    },
    {
     "data": {
      "text/html": [
       "<div>\n",
       "<style scoped>\n",
       "    .dataframe tbody tr th:only-of-type {\n",
       "        vertical-align: middle;\n",
       "    }\n",
       "\n",
       "    .dataframe tbody tr th {\n",
       "        vertical-align: top;\n",
       "    }\n",
       "\n",
       "    .dataframe thead th {\n",
       "        text-align: right;\n",
       "    }\n",
       "</style>\n",
       "<table border=\"1\" class=\"dataframe\">\n",
       "  <thead>\n",
       "    <tr style=\"text-align: right;\">\n",
       "      <th></th>\n",
       "      <th>tweet_id</th>\n",
       "      <th>tweet</th>\n",
       "      <th>label</th>\n",
       "    </tr>\n",
       "  </thead>\n",
       "  <tbody>\n",
       "    <tr>\n",
       "      <th>0</th>\n",
       "      <td>1118138270830026754</td>\n",
       "      <td>@muuduckk Паксил на самом деле существует скол...</td>\n",
       "      <td>0</td>\n",
       "    </tr>\n",
       "    <tr>\n",
       "      <th>1</th>\n",
       "      <td>1098586199739023361</td>\n",
       "      <td>йебучий сука кветиапин ненавижу его всем сердц...</td>\n",
       "      <td>0</td>\n",
       "    </tr>\n",
       "    <tr>\n",
       "      <th>2</th>\n",
       "      <td>1107147495497519105</td>\n",
       "      <td>Оренбург : Алпразолам в оренбурге где можно ку...</td>\n",
       "      <td>0</td>\n",
       "    </tr>\n",
       "    <tr>\n",
       "      <th>3</th>\n",
       "      <td>1197120875964841984</td>\n",
       "      <td>@TakaSmoky Я как-то раз бросил миртазапин и ве...</td>\n",
       "      <td>0</td>\n",
       "    </tr>\n",
       "    <tr>\n",
       "      <th>4</th>\n",
       "      <td>958998595390275585</td>\n",
       "      <td>Из того, что мне помогает выводить физически -...</td>\n",
       "      <td>0</td>\n",
       "    </tr>\n",
       "  </tbody>\n",
       "</table>\n",
       "</div>"
      ],
      "text/plain": [
       "              tweet_id                                              tweet  \\\n",
       "0  1118138270830026754  @muuduckk Паксил на самом деле существует скол...   \n",
       "1  1098586199739023361  йебучий сука кветиапин ненавижу его всем сердц...   \n",
       "2  1107147495497519105  Оренбург : Алпразолам в оренбурге где можно ку...   \n",
       "3  1197120875964841984  @TakaSmoky Я как-то раз бросил миртазапин и ве...   \n",
       "4   958998595390275585  Из того, что мне помогает выводить физически -...   \n",
       "\n",
       "   label  \n",
       "0      0  \n",
       "1      0  \n",
       "2      0  \n",
       "3      0  \n",
       "4      0  "
      ]
     },
     "metadata": {},
     "output_type": "display_data"
    },
    {
     "name": "stdout",
     "output_type": "stream",
     "text": [
      "None\n",
      "Размер: 3425 рядов x 3 колонок\n",
      "Пропущенные значения: 0\n"
     ]
    }
   ],
   "source": [
    "def print_dataset_info(datasets):\n",
    "    for name, data in zip(['Train', 'Test', 'Valid'], datas):\n",
    "        print(f\"\\nДатасет: {name}\")\n",
    "        print(\"Первые 5 рядов:\")\n",
    "        print(display(data.head()))\n",
    "        print(f\"Размер: {data.shape[0]} рядов x {data.shape[1]} колонок\")\n",
    "        print(f\"Пропущенные значения: {data.isnull().sum().sum()}\")\n",
    "\n",
    "datas = [train_data, test_data, valid_data]\n",
    "print_dataset_info(datas)"
   ]
  },
  {
   "cell_type": "markdown",
   "metadata": {},
   "source": [
    "Данные загружены. Пропусков нет ни в одном наборе. Нужно проверить на дупликаты."
   ]
  },
  {
   "cell_type": "markdown",
   "metadata": {},
   "source": [
    "## Предобработка данных"
   ]
  },
  {
   "cell_type": "code",
   "execution_count": 8,
   "metadata": {},
   "outputs": [
    {
     "name": "stdout",
     "output_type": "stream",
     "text": [
      "\n",
      "Датасет: Train\n",
      "Количество дупликатов 0\n",
      "\n",
      "Датасет: Test\n",
      "Количество дупликатов 0\n",
      "\n",
      "Датасет: Valid\n",
      "Количество дупликатов 0\n"
     ]
    }
   ],
   "source": [
    "for name, data in zip(['Train', 'Test', 'Valid'], datas):\n",
    "    print(f\"\\nДатасет: {name}\")\n",
    "    print(f'Количество дупликатов {data.duplicated().sum()}')"
   ]
  },
  {
   "cell_type": "markdown",
   "metadata": {},
   "source": [
    "## Исследовательский анализ данных"
   ]
  },
  {
   "cell_type": "code",
   "execution_count": 9,
   "metadata": {},
   "outputs": [
    {
     "data": {
      "image/png": "[encoded data removed]",
      "text/plain": [
       "<Figure size 1152x432 with 2 Axes>"
      ]
     },
     "metadata": {
      "needs_background": "light"
     },
     "output_type": "display_data"
    }
   ],
   "source": [
    "fig, axs = plt.subplots(1,  2, figsize=(16,  6))\n",
    "\n",
    "datasets = [train_data, valid_data]\n",
    "titles = ['Train Dataset', 'Valid Dataset']\n",
    "\n",
    "for i, data in enumerate(datasets):\n",
    "    label_counts = data['label'].value_counts()\n",
    "    ratio = label_counts[0] / label_counts[1]\n",
    "    positions = ['Label   0', 'Label   1']\n",
    "    counts = [label_counts[0], label_counts[1]]\n",
    "    bar_width =  0.35\n",
    "\n",
    "    ax = axs[i]\n",
    "    rects = ax.bar(positions, counts, width=bar_width, color=['blue', 'orange'], edgecolor='black')\n",
    "    ax.grid(axis='y', linestyle='--', alpha=0.7)\n",
    "\n",
    "    for rect in rects:\n",
    "        height = rect.get_height()\n",
    "        ax.text(rect.get_x() + rect.get_width() /  2, height, str(height), ha='center', va='bottom')\n",
    "\n",
    "    ax.set_xlabel('Label')\n",
    "    ax.set_ylabel('Count')\n",
    "    ax.set_title(f'{titles[i]}\\nСоотношение в Label   0 и Label   1: {ratio}')\n",
    "\n",
    "    plt.xticks(rotation=45)\n",
    "\n",
    "plt.tight_layout()\n",
    "plt.show()\n"
   ]
  },
  {
   "cell_type": "code",
   "execution_count": 10,
   "metadata": {},
   "outputs": [
    {
     "data": {
      "text/html": [
       "        <script type=\"text/javascript\">\n",
       "        window.PlotlyConfig = {MathJaxConfig: 'local'};\n",
       "        if (window.MathJax && window.MathJax.Hub && window.MathJax.Hub.Config) {window.MathJax.Hub.Config({SVG: {font: \"STIX-Web\"}});}\n",
       "        if (typeof require !== 'undefined') {\n",
       "        require.undef(\"plotly\");\n",
       "        requirejs.config({\n",
       "            paths: {\n",
       "                'plotly': ['https://cdn.plot.ly/plotly-2.16.1.min']\n",
       "            }\n",
       "        });\n",
       "        require(['plotly'], function(Plotly) {\n",
       "            window._Plotly = Plotly;\n",
       "        });\n",
       "        }\n",
       "        </script>\n",
       "        "
      ]
     },
     "metadata": {},
     "output_type": "display_data"
    },
    {
     "data": {
      "application/vnd.plotly.v1+json": {
       "config": {
        "linkText": "Export to plot.ly",
        "plotlyServerURL": "https://plot.ly",
        "showLink": false
       },
       "data": [
        {
         "marker": {
          "color": [
           "rgb(58,  71,  80)",
           "rgb(255,  87,  51)"
          ]
         },
         "orientation": "v",
         "text": [
          "7411",
          "773"
         ],
         "type": "bar",
         "x": [
          "Label  0",
          "Label  1"
         ],
         "y": [
          7411,
          773
         ]
        }
       ],
       "layout": {
        "template": {
         "data": {
          "bar": [
           {
            "error_x": {
             "color": "#2a3f5f"
            },
            "error_y": {
             "color": "#2a3f5f"
            },
            "marker": {
             "line": {
              "color": "#E5ECF6",
              "width": 0.5
             },
             "pattern": {
              "fillmode": "overlay",
              "size": 10,
              "solidity": 0.2
             }
            },
            "type": "bar"
           }
          ],
          "barpolar": [
           {
            "marker": {
             "line": {
              "color": "#E5ECF6",
              "width": 0.5
             },
             "pattern": {
              "fillmode": "overlay",
              "size": 10,
              "solidity": 0.2
             }
            },
            "type": "barpolar"
           }
          ],
          "carpet": [
           {
            "aaxis": {
             "endlinecolor": "#2a3f5f",
             "gridcolor": "white",
             "linecolor": "white",
             "minorgridcolor": "white",
             "startlinecolor": "#2a3f5f"
            },
            "baxis": {
             "endlinecolor": "#2a3f5f",
             "gridcolor": "white",
             "linecolor": "white",
             "minorgridcolor": "white",
             "startlinecolor": "#2a3f5f"
            },
            "type": "carpet"
           }
          ],
          "choropleth": [
           {
            "colorbar": {
             "outlinewidth": 0,
             "ticks": ""
            },
            "type": "choropleth"
           }
          ],
          "contour": [
           {
            "colorbar": {
             "outlinewidth": 0,
             "ticks": ""
            },
            "colorscale": [
             [
              0,
              "#0d0887"
             ],
             [
              0.1111111111111111,
              "#46039f"
             ],
             [
              0.2222222222222222,
              "#7201a8"
             ],
             [
              0.3333333333333333,
              "#9c179e"
             ],
             [
              0.4444444444444444,
              "#bd3786"
             ],
             [
              0.5555555555555556,
              "#d8576b"
             ],
             [
              0.6666666666666666,
              "#ed7953"
             ],
             [
              0.7777777777777778,
              "#fb9f3a"
             ],
             [
              0.8888888888888888,
              "#fdca26"
             ],
             [
              1,
              "#f0f921"
             ]
            ],
            "type": "contour"
           }
          ],
          "contourcarpet": [
           {
            "colorbar": {
             "outlinewidth": 0,
             "ticks": ""
            },
            "type": "contourcarpet"
           }
          ],
          "heatmap": [
           {
            "colorbar": {
             "outlinewidth": 0,
             "ticks": ""
            },
            "colorscale": [
             [
              0,
              "#0d0887"
             ],
             [
              0.1111111111111111,
              "#46039f"
             ],
             [
              0.2222222222222222,
              "#7201a8"
             ],
             [
              0.3333333333333333,
              "#9c179e"
             ],
             [
              0.4444444444444444,
              "#bd3786"
             ],
             [
              0.5555555555555556,
              "#d8576b"
             ],
             [
              0.6666666666666666,
              "#ed7953"
             ],
             [
              0.7777777777777778,
              "#fb9f3a"
             ],
             [
              0.8888888888888888,
              "#fdca26"
             ],
             [
              1,
              "#f0f921"
             ]
            ],
            "type": "heatmap"
           }
          ],
          "heatmapgl": [
           {
            "colorbar": {
             "outlinewidth": 0,
             "ticks": ""
            },
            "colorscale": [
             [
              0,
              "#0d0887"
             ],
             [
              0.1111111111111111,
              "#46039f"
             ],
             [
              0.2222222222222222,
              "#7201a8"
             ],
             [
              0.3333333333333333,
              "#9c179e"
             ],
             [
              0.4444444444444444,
              "#bd3786"
             ],
             [
              0.5555555555555556,
              "#d8576b"
             ],
             [
              0.6666666666666666,
              "#ed7953"
             ],
             [
              0.7777777777777778,
              "#fb9f3a"
             ],
             [
              0.8888888888888888,
              "#fdca26"
             ],
             [
              1,
              "#f0f921"
             ]
            ],
            "type": "heatmapgl"
           }
          ],
          "histogram": [
           {
            "marker": {
             "pattern": {
              "fillmode": "overlay",
              "size": 10,
              "solidity": 0.2
             }
            },
            "type": "histogram"
           }
          ],
          "histogram2d": [
           {
            "colorbar": {
             "outlinewidth": 0,
             "ticks": ""
            },
            "colorscale": [
             [
              0,
              "#0d0887"
             ],
             [
              0.1111111111111111,
              "#46039f"
             ],
             [
              0.2222222222222222,
              "#7201a8"
             ],
             [
              0.3333333333333333,
              "#9c179e"
             ],
             [
              0.4444444444444444,
              "#bd3786"
             ],
             [
              0.5555555555555556,
              "#d8576b"
             ],
             [
              0.6666666666666666,
              "#ed7953"
             ],
             [
              0.7777777777777778,
              "#fb9f3a"
             ],
             [
              0.8888888888888888,
              "#fdca26"
             ],
             [
              1,
              "#f0f921"
             ]
            ],
            "type": "histogram2d"
           }
          ],
          "histogram2dcontour": [
           {
            "colorbar": {
             "outlinewidth": 0,
             "ticks": ""
            },
            "colorscale": [
             [
              0,
              "#0d0887"
             ],
             [
              0.1111111111111111,
              "#46039f"
             ],
             [
              0.2222222222222222,
              "#7201a8"
             ],
             [
              0.3333333333333333,
              "#9c179e"
             ],
             [
              0.4444444444444444,
              "#bd3786"
             ],
             [
              0.5555555555555556,
              "#d8576b"
             ],
             [
              0.6666666666666666,
              "#ed7953"
             ],
             [
              0.7777777777777778,
              "#fb9f3a"
             ],
             [
              0.8888888888888888,
              "#fdca26"
             ],
             [
              1,
              "#f0f921"
             ]
            ],
            "type": "histogram2dcontour"
           }
          ],
          "mesh3d": [
           {
            "colorbar": {
             "outlinewidth": 0,
             "ticks": ""
            },
            "type": "mesh3d"
           }
          ],
          "parcoords": [
           {
            "line": {
             "colorbar": {
              "outlinewidth": 0,
              "ticks": ""
             }
            },
            "type": "parcoords"
           }
          ],
          "pie": [
           {
            "automargin": true,
            "type": "pie"
           }
          ],
          "scatter": [
           {
            "fillpattern": {
             "fillmode": "overlay",
             "size": 10,
             "solidity": 0.2
            },
            "type": "scatter"
           }
          ],
          "scatter3d": [
           {
            "line": {
             "colorbar": {
              "outlinewidth": 0,
              "ticks": ""
             }
            },
            "marker": {
             "colorbar": {
              "outlinewidth": 0,
              "ticks": ""
             }
            },
            "type": "scatter3d"
           }
          ],
          "scattercarpet": [
           {
            "marker": {
             "colorbar": {
              "outlinewidth": 0,
              "ticks": ""
             }
            },
            "type": "scattercarpet"
           }
          ],
          "scattergeo": [
           {
            "marker": {
             "colorbar": {
              "outlinewidth": 0,
              "ticks": ""
             }
            },
            "type": "scattergeo"
           }
          ],
          "scattergl": [
           {
            "marker": {
             "colorbar": {
              "outlinewidth": 0,
              "ticks": ""
             }
            },
            "type": "scattergl"
           }
          ],
          "scattermapbox": [
           {
            "marker": {
             "colorbar": {
              "outlinewidth": 0,
              "ticks": ""
             }
            },
            "type": "scattermapbox"
           }
          ],
          "scatterpolar": [
           {
            "marker": {
             "colorbar": {
              "outlinewidth": 0,
              "ticks": ""
             }
            },
            "type": "scatterpolar"
           }
          ],
          "scatterpolargl": [
           {
            "marker": {
             "colorbar": {
              "outlinewidth": 0,
              "ticks": ""
             }
            },
            "type": "scatterpolargl"
           }
          ],
          "scatterternary": [
           {
            "marker": {
             "colorbar": {
              "outlinewidth": 0,
              "ticks": ""
             }
            },
            "type": "scatterternary"
           }
          ],
          "surface": [
           {
            "colorbar": {
             "outlinewidth": 0,
             "ticks": ""
            },
            "colorscale": [
             [
              0,
              "#0d0887"
             ],
             [
              0.1111111111111111,
              "#46039f"
             ],
             [
              0.2222222222222222,
              "#7201a8"
             ],
             [
              0.3333333333333333,
              "#9c179e"
             ],
             [
              0.4444444444444444,
              "#bd3786"
             ],
             [
              0.5555555555555556,
              "#d8576b"
             ],
             [
              0.6666666666666666,
              "#ed7953"
             ],
             [
              0.7777777777777778,
              "#fb9f3a"
             ],
             [
              0.8888888888888888,
              "#fdca26"
             ],
             [
              1,
              "#f0f921"
             ]
            ],
            "type": "surface"
           }
          ],
          "table": [
           {
            "cells": {
             "fill": {
              "color": "#EBF0F8"
             },
             "line": {
              "color": "white"
             }
            },
            "header": {
             "fill": {
              "color": "#C8D4E3"
             },
             "line": {
              "color": "white"
             }
            },
            "type": "table"
           }
          ]
         },
         "layout": {
          "annotationdefaults": {
           "arrowcolor": "#2a3f5f",
           "arrowhead": 0,
           "arrowwidth": 1
          },
          "autotypenumbers": "strict",
          "coloraxis": {
           "colorbar": {
            "outlinewidth": 0,
            "ticks": ""
           }
          },
          "colorscale": {
           "diverging": [
            [
             0,
             "#8e0152"
            ],
            [
             0.1,
             "#c51b7d"
            ],
            [
             0.2,
             "#de77ae"
            ],
            [
             0.3,
             "#f1b6da"
            ],
            [
             0.4,
             "#fde0ef"
            ],
            [
             0.5,
             "#f7f7f7"
            ],
            [
             0.6,
             "#e6f5d0"
            ],
            [
             0.7,
             "#b8e186"
            ],
            [
             0.8,
             "#7fbc41"
            ],
            [
             0.9,
             "#4d9221"
            ],
            [
             1,
             "#276419"
            ]
           ],
           "sequential": [
            [
             0,
             "#0d0887"
            ],
            [
             0.1111111111111111,
             "#46039f"
            ],
            [
             0.2222222222222222,
             "#7201a8"
            ],
            [
             0.3333333333333333,
             "#9c179e"
            ],
            [
             0.4444444444444444,
             "#bd3786"
            ],
            [
             0.5555555555555556,
             "#d8576b"
            ],
            [
             0.6666666666666666,
             "#ed7953"
            ],
            [
             0.7777777777777778,
             "#fb9f3a"
            ],
            [
             0.8888888888888888,
             "#fdca26"
            ],
            [
             1,
             "#f0f921"
            ]
           ],
           "sequentialminus": [
            [
             0,
             "#0d0887"
            ],
            [
             0.1111111111111111,
             "#46039f"
            ],
            [
             0.2222222222222222,
             "#7201a8"
            ],
            [
             0.3333333333333333,
             "#9c179e"
            ],
            [
             0.4444444444444444,
             "#bd3786"
            ],
            [
             0.5555555555555556,
             "#d8576b"
            ],
            [
             0.6666666666666666,
             "#ed7953"
            ],
            [
             0.7777777777777778,
             "#fb9f3a"
            ],
            [
             0.8888888888888888,
             "#fdca26"
            ],
            [
             1,
             "#f0f921"
            ]
           ]
          },
          "colorway": [
           "#636efa",
           "#EF553B",
           "#00cc96",
           "#ab63fa",
           "#FFA15A",
           "#19d3f3",
           "#FF6692",
           "#B6E880",
           "#FF97FF",
           "#FECB52"
          ],
          "font": {
           "color": "#2a3f5f"
          },
          "geo": {
           "bgcolor": "white",
           "lakecolor": "white",
           "landcolor": "#E5ECF6",
           "showlakes": true,
           "showland": true,
           "subunitcolor": "white"
          },
          "hoverlabel": {
           "align": "left"
          },
          "hovermode": "closest",
          "mapbox": {
           "style": "light"
          },
          "paper_bgcolor": "white",
          "plot_bgcolor": "#E5ECF6",
          "polar": {
           "angularaxis": {
            "gridcolor": "white",
            "linecolor": "white",
            "ticks": ""
           },
           "bgcolor": "#E5ECF6",
           "radialaxis": {
            "gridcolor": "white",
            "linecolor": "white",
            "ticks": ""
           }
          },
          "scene": {
           "xaxis": {
            "backgroundcolor": "#E5ECF6",
            "gridcolor": "white",
            "gridwidth": 2,
            "linecolor": "white",
            "showbackground": true,
            "ticks": "",
            "zerolinecolor": "white"
           },
           "yaxis": {
            "backgroundcolor": "#E5ECF6",
            "gridcolor": "white",
            "gridwidth": 2,
            "linecolor": "white",
            "showbackground": true,
            "ticks": "",
            "zerolinecolor": "white"
           },
           "zaxis": {
            "backgroundcolor": "#E5ECF6",
            "gridcolor": "white",
            "gridwidth": 2,
            "linecolor": "white",
            "showbackground": true,
            "ticks": "",
            "zerolinecolor": "white"
           }
          },
          "shapedefaults": {
           "line": {
            "color": "#2a3f5f"
           }
          },
          "ternary": {
           "aaxis": {
            "gridcolor": "white",
            "linecolor": "white",
            "ticks": ""
           },
           "baxis": {
            "gridcolor": "white",
            "linecolor": "white",
            "ticks": ""
           },
           "bgcolor": "#E5ECF6",
           "caxis": {
            "gridcolor": "white",
            "linecolor": "white",
            "ticks": ""
           }
          },
          "title": {
           "x": 0.05
          },
          "xaxis": {
           "automargin": true,
           "gridcolor": "white",
           "linecolor": "white",
           "ticks": "",
           "title": {
            "standoff": 15
           },
           "zerolinecolor": "white",
           "zerolinewidth": 2
          },
          "yaxis": {
           "automargin": true,
           "gridcolor": "white",
           "linecolor": "white",
           "ticks": "",
           "title": {
            "standoff": 15
           },
           "zerolinecolor": "white",
           "zerolinewidth": 2
          }
         }
        },
        "title": {
         "text": "Distribution of Labels"
        },
        "xaxis": {
         "title": {
          "text": "Label"
         }
        },
        "yaxis": {
         "title": {
          "text": "Count"
         }
        }
       }
      },
      "text/html": [
       "<div>                            <div id=\"57bef0e3-e410-4fc7-a463-37286cf83082\" class=\"plotly-graph-div\" style=\"height:525px; width:100%;\"></div>            <script type=\"text/javascript\">                require([\"plotly\"], function(Plotly) {                    window.PLOTLYENV=window.PLOTLYENV || {};                                    if (document.getElementById(\"57bef0e3-e410-4fc7-a463-37286cf83082\")) {                    Plotly.newPlot(                        \"57bef0e3-e410-4fc7-a463-37286cf83082\",                        [{\"marker\":{\"color\":[\"rgb(58,  71,  80)\",\"rgb(255,  87,  51)\"]},\"orientation\":\"v\",\"text\":[\"7411\",\"773\"],\"x\":[\"Label  0\",\"Label  1\"],\"y\":[7411,773],\"type\":\"bar\"}],                        {\"template\":{\"data\":{\"barpolar\":[{\"marker\":{\"line\":{\"color\":\"#E5ECF6\",\"width\":0.5},\"pattern\":{\"fillmode\":\"overlay\",\"size\":10,\"solidity\":0.2}},\"type\":\"barpolar\"}],\"bar\":[{\"error_x\":{\"color\":\"#2a3f5f\"},\"error_y\":{\"color\":\"#2a3f5f\"},\"marker\":{\"line\":{\"color\":\"#E5ECF6\",\"width\":0.5},\"pattern\":{\"fillmode\":\"overlay\",\"size\":10,\"solidity\":0.2}},\"type\":\"bar\"}],\"carpet\":[{\"aaxis\":{\"endlinecolor\":\"#2a3f5f\",\"gridcolor\":\"white\",\"linecolor\":\"white\",\"minorgridcolor\":\"white\",\"startlinecolor\":\"#2a3f5f\"},\"baxis\":{\"endlinecolor\":\"#2a3f5f\",\"gridcolor\":\"white\",\"linecolor\":\"white\",\"minorgridcolor\":\"white\",\"startlinecolor\":\"#2a3f5f\"},\"type\":\"carpet\"}],\"choropleth\":[{\"colorbar\":{\"outlinewidth\":0,\"ticks\":\"\"},\"type\":\"choropleth\"}],\"contourcarpet\":[{\"colorbar\":{\"outlinewidth\":0,\"ticks\":\"\"},\"type\":\"contourcarpet\"}],\"contour\":[{\"colorbar\":{\"outlinewidth\":0,\"ticks\":\"\"},\"colorscale\":[[0.0,\"#0d0887\"],[0.1111111111111111,\"#46039f\"],[0.2222222222222222,\"#7201a8\"],[0.3333333333333333,\"#9c179e\"],[0.4444444444444444,\"#bd3786\"],[0.5555555555555556,\"#d8576b\"],[0.6666666666666666,\"#ed7953\"],[0.7777777777777778,\"#fb9f3a\"],[0.8888888888888888,\"#fdca26\"],[1.0,\"#f0f921\"]],\"type\":\"contour\"}],\"heatmapgl\":[{\"colorbar\":{\"outlinewidth\":0,\"ticks\":\"\"},\"colorscale\":[[0.0,\"#0d0887\"],[0.1111111111111111,\"#46039f\"],[0.2222222222222222,\"#7201a8\"],[0.3333333333333333,\"#9c179e\"],[0.4444444444444444,\"#bd3786\"],[0.5555555555555556,\"#d8576b\"],[0.6666666666666666,\"#ed7953\"],[0.7777777777777778,\"#fb9f3a\"],[0.8888888888888888,\"#fdca26\"],[1.0,\"#f0f921\"]],\"type\":\"heatmapgl\"}],\"heatmap\":[{\"colorbar\":{\"outlinewidth\":0,\"ticks\":\"\"},\"colorscale\":[[0.0,\"#0d0887\"],[0.1111111111111111,\"#46039f\"],[0.2222222222222222,\"#7201a8\"],[0.3333333333333333,\"#9c179e\"],[0.4444444444444444,\"#bd3786\"],[0.5555555555555556,\"#d8576b\"],[0.6666666666666666,\"#ed7953\"],[0.7777777777777778,\"#fb9f3a\"],[0.8888888888888888,\"#fdca26\"],[1.0,\"#f0f921\"]],\"type\":\"heatmap\"}],\"histogram2dcontour\":[{\"colorbar\":{\"outlinewidth\":0,\"ticks\":\"\"},\"colorscale\":[[0.0,\"#0d0887\"],[0.1111111111111111,\"#46039f\"],[0.2222222222222222,\"#7201a8\"],[0.3333333333333333,\"#9c179e\"],[0.4444444444444444,\"#bd3786\"],[0.5555555555555556,\"#d8576b\"],[0.6666666666666666,\"#ed7953\"],[0.7777777777777778,\"#fb9f3a\"],[0.8888888888888888,\"#fdca26\"],[1.0,\"#f0f921\"]],\"type\":\"histogram2dcontour\"}],\"histogram2d\":[{\"colorbar\":{\"outlinewidth\":0,\"ticks\":\"\"},\"colorscale\":[[0.0,\"#0d0887\"],[0.1111111111111111,\"#46039f\"],[0.2222222222222222,\"#7201a8\"],[0.3333333333333333,\"#9c179e\"],[0.4444444444444444,\"#bd3786\"],[0.5555555555555556,\"#d8576b\"],[0.6666666666666666,\"#ed7953\"],[0.7777777777777778,\"#fb9f3a\"],[0.8888888888888888,\"#fdca26\"],[1.0,\"#f0f921\"]],\"type\":\"histogram2d\"}],\"histogram\":[{\"marker\":{\"pattern\":{\"fillmode\":\"overlay\",\"size\":10,\"solidity\":0.2}},\"type\":\"histogram\"}],\"mesh3d\":[{\"colorbar\":{\"outlinewidth\":0,\"ticks\":\"\"},\"type\":\"mesh3d\"}],\"parcoords\":[{\"line\":{\"colorbar\":{\"outlinewidth\":0,\"ticks\":\"\"}},\"type\":\"parcoords\"}],\"pie\":[{\"automargin\":true,\"type\":\"pie\"}],\"scatter3d\":[{\"line\":{\"colorbar\":{\"outlinewidth\":0,\"ticks\":\"\"}},\"marker\":{\"colorbar\":{\"outlinewidth\":0,\"ticks\":\"\"}},\"type\":\"scatter3d\"}],\"scattercarpet\":[{\"marker\":{\"colorbar\":{\"outlinewidth\":0,\"ticks\":\"\"}},\"type\":\"scattercarpet\"}],\"scattergeo\":[{\"marker\":{\"colorbar\":{\"outlinewidth\":0,\"ticks\":\"\"}},\"type\":\"scattergeo\"}],\"scattergl\":[{\"marker\":{\"colorbar\":{\"outlinewidth\":0,\"ticks\":\"\"}},\"type\":\"scattergl\"}],\"scattermapbox\":[{\"marker\":{\"colorbar\":{\"outlinewidth\":0,\"ticks\":\"\"}},\"type\":\"scattermapbox\"}],\"scatterpolargl\":[{\"marker\":{\"colorbar\":{\"outlinewidth\":0,\"ticks\":\"\"}},\"type\":\"scatterpolargl\"}],\"scatterpolar\":[{\"marker\":{\"colorbar\":{\"outlinewidth\":0,\"ticks\":\"\"}},\"type\":\"scatterpolar\"}],\"scatter\":[{\"fillpattern\":{\"fillmode\":\"overlay\",\"size\":10,\"solidity\":0.2},\"type\":\"scatter\"}],\"scatterternary\":[{\"marker\":{\"colorbar\":{\"outlinewidth\":0,\"ticks\":\"\"}},\"type\":\"scatterternary\"}],\"surface\":[{\"colorbar\":{\"outlinewidth\":0,\"ticks\":\"\"},\"colorscale\":[[0.0,\"#0d0887\"],[0.1111111111111111,\"#46039f\"],[0.2222222222222222,\"#7201a8\"],[0.3333333333333333,\"#9c179e\"],[0.4444444444444444,\"#bd3786\"],[0.5555555555555556,\"#d8576b\"],[0.6666666666666666,\"#ed7953\"],[0.7777777777777778,\"#fb9f3a\"],[0.8888888888888888,\"#fdca26\"],[1.0,\"#f0f921\"]],\"type\":\"surface\"}],\"table\":[{\"cells\":{\"fill\":{\"color\":\"#EBF0F8\"},\"line\":{\"color\":\"white\"}},\"header\":{\"fill\":{\"color\":\"#C8D4E3\"},\"line\":{\"color\":\"white\"}},\"type\":\"table\"}]},\"layout\":{\"annotationdefaults\":{\"arrowcolor\":\"#2a3f5f\",\"arrowhead\":0,\"arrowwidth\":1},\"autotypenumbers\":\"strict\",\"coloraxis\":{\"colorbar\":{\"outlinewidth\":0,\"ticks\":\"\"}},\"colorscale\":{\"diverging\":[[0,\"#8e0152\"],[0.1,\"#c51b7d\"],[0.2,\"#de77ae\"],[0.3,\"#f1b6da\"],[0.4,\"#fde0ef\"],[0.5,\"#f7f7f7\"],[0.6,\"#e6f5d0\"],[0.7,\"#b8e186\"],[0.8,\"#7fbc41\"],[0.9,\"#4d9221\"],[1,\"#276419\"]],\"sequential\":[[0.0,\"#0d0887\"],[0.1111111111111111,\"#46039f\"],[0.2222222222222222,\"#7201a8\"],[0.3333333333333333,\"#9c179e\"],[0.4444444444444444,\"#bd3786\"],[0.5555555555555556,\"#d8576b\"],[0.6666666666666666,\"#ed7953\"],[0.7777777777777778,\"#fb9f3a\"],[0.8888888888888888,\"#fdca26\"],[1.0,\"#f0f921\"]],\"sequentialminus\":[[0.0,\"#0d0887\"],[0.1111111111111111,\"#46039f\"],[0.2222222222222222,\"#7201a8\"],[0.3333333333333333,\"#9c179e\"],[0.4444444444444444,\"#bd3786\"],[0.5555555555555556,\"#d8576b\"],[0.6666666666666666,\"#ed7953\"],[0.7777777777777778,\"#fb9f3a\"],[0.8888888888888888,\"#fdca26\"],[1.0,\"#f0f921\"]]},\"colorway\":[\"#636efa\",\"#EF553B\",\"#00cc96\",\"#ab63fa\",\"#FFA15A\",\"#19d3f3\",\"#FF6692\",\"#B6E880\",\"#FF97FF\",\"#FECB52\"],\"font\":{\"color\":\"#2a3f5f\"},\"geo\":{\"bgcolor\":\"white\",\"lakecolor\":\"white\",\"landcolor\":\"#E5ECF6\",\"showlakes\":true,\"showland\":true,\"subunitcolor\":\"white\"},\"hoverlabel\":{\"align\":\"left\"},\"hovermode\":\"closest\",\"mapbox\":{\"style\":\"light\"},\"paper_bgcolor\":\"white\",\"plot_bgcolor\":\"#E5ECF6\",\"polar\":{\"angularaxis\":{\"gridcolor\":\"white\",\"linecolor\":\"white\",\"ticks\":\"\"},\"bgcolor\":\"#E5ECF6\",\"radialaxis\":{\"gridcolor\":\"white\",\"linecolor\":\"white\",\"ticks\":\"\"}},\"scene\":{\"xaxis\":{\"backgroundcolor\":\"#E5ECF6\",\"gridcolor\":\"white\",\"gridwidth\":2,\"linecolor\":\"white\",\"showbackground\":true,\"ticks\":\"\",\"zerolinecolor\":\"white\"},\"yaxis\":{\"backgroundcolor\":\"#E5ECF6\",\"gridcolor\":\"white\",\"gridwidth\":2,\"linecolor\":\"white\",\"showbackground\":true,\"ticks\":\"\",\"zerolinecolor\":\"white\"},\"zaxis\":{\"backgroundcolor\":\"#E5ECF6\",\"gridcolor\":\"white\",\"gridwidth\":2,\"linecolor\":\"white\",\"showbackground\":true,\"ticks\":\"\",\"zerolinecolor\":\"white\"}},\"shapedefaults\":{\"line\":{\"color\":\"#2a3f5f\"}},\"ternary\":{\"aaxis\":{\"gridcolor\":\"white\",\"linecolor\":\"white\",\"ticks\":\"\"},\"baxis\":{\"gridcolor\":\"white\",\"linecolor\":\"white\",\"ticks\":\"\"},\"bgcolor\":\"#E5ECF6\",\"caxis\":{\"gridcolor\":\"white\",\"linecolor\":\"white\",\"ticks\":\"\"}},\"title\":{\"x\":0.05},\"xaxis\":{\"automargin\":true,\"gridcolor\":\"white\",\"linecolor\":\"white\",\"ticks\":\"\",\"title\":{\"standoff\":15},\"zerolinecolor\":\"white\",\"zerolinewidth\":2},\"yaxis\":{\"automargin\":true,\"gridcolor\":\"white\",\"linecolor\":\"white\",\"ticks\":\"\",\"title\":{\"standoff\":15},\"zerolinecolor\":\"white\",\"zerolinewidth\":2}}},\"title\":{\"text\":\"Distribution of Labels\"},\"xaxis\":{\"title\":{\"text\":\"Label\"}},\"yaxis\":{\"title\":{\"text\":\"Count\"}}},                        {\"responsive\": true}                    ).then(function(){\n",
       "                            \n",
       "var gd = document.getElementById('57bef0e3-e410-4fc7-a463-37286cf83082');\n",
       "var x = new MutationObserver(function (mutations, observer) {{\n",
       "        var display = window.getComputedStyle(gd).display;\n",
       "        if (!display || display === 'none') {{\n",
       "            console.log([gd, 'removed!']);\n",
       "            Plotly.purge(gd);\n",
       "            observer.disconnect();\n",
       "        }}\n",
       "}});\n",
       "\n",
       "// Listen for the removal of the full notebook cells\n",
       "var notebookContainer = gd.closest('#notebook-container');\n",
       "if (notebookContainer) {{\n",
       "    x.observe(notebookContainer, {childList: true});\n",
       "}}\n",
       "\n",
       "// Listen for the clearing of the current output cell\n",
       "var outputEl = gd.closest('.output');\n",
       "if (outputEl) {{\n",
       "    x.observe(outputEl, {childList: true});\n",
       "}}\n",
       "\n",
       "                        })                };                });            </script>        </div>"
      ]
     },
     "metadata": {},
     "output_type": "display_data"
    }
   ],
   "source": [
    "label_counts = train_data['label'].value_counts()\n",
    "\n",
    "trace = go.Bar(\n",
    "    x=['Label  0', 'Label  1'],\n",
    "    y=[label_counts[0], label_counts[1]],\n",
    "    text=[label_counts[0], label_counts[1]],\n",
    "    marker=dict(\n",
    "        color=['rgb(58,  71,  80)', 'rgb(255,  87,  51)']\n",
    "    ),\n",
    "    orientation='v'\n",
    ")\n",
    "\n",
    "layout = go.Layout(\n",
    "    title='Distribution of Labels',\n",
    "    xaxis=dict(\n",
    "        title='Label'\n",
    "    ),\n",
    "    yaxis=dict(\n",
    "        title='Count'\n",
    "    )\n",
    ")\n",
    "\n",
    "data = [trace]\n",
    "\n",
    "init_notebook_mode(connected=True)\n",
    "iplot({'data': data, 'layout': layout})\n"
   ]
  },
  {
   "cell_type": "markdown",
   "metadata": {},
   "source": [
    "## Токенизация, лемматизация, накидывание признаков"
   ]
  },
  {
   "cell_type": "code",
   "execution_count": 11,
   "metadata": {},
   "outputs": [],
   "source": [
    "train_data = train_data.drop('tweet_id', axis=1)\n",
    "test_data = test_data.drop('tweet_id', axis=1)\n",
    "valid_data = valid_data.drop('tweet_id', axis=1)"
   ]
  },
  {
   "cell_type": "code",
   "execution_count": 12,
   "metadata": {},
   "outputs": [
    {
     "data": {
      "text/html": [
       "<div>\n",
       "<style scoped>\n",
       "    .dataframe tbody tr th:only-of-type {\n",
       "        vertical-align: middle;\n",
       "    }\n",
       "\n",
       "    .dataframe tbody tr th {\n",
       "        vertical-align: top;\n",
       "    }\n",
       "\n",
       "    .dataframe thead th {\n",
       "        text-align: right;\n",
       "    }\n",
       "</style>\n",
       "<table border=\"1\" class=\"dataframe\">\n",
       "  <thead>\n",
       "    <tr style=\"text-align: right;\">\n",
       "      <th></th>\n",
       "      <th>tweet</th>\n",
       "      <th>label</th>\n",
       "    </tr>\n",
       "  </thead>\n",
       "  <tbody>\n",
       "    <tr>\n",
       "      <th>0</th>\n",
       "      <td>Настало время для ингаляторов. Дружок, Сальбут...</td>\n",
       "      <td>0</td>\n",
       "    </tr>\n",
       "    <tr>\n",
       "      <th>1</th>\n",
       "      <td>15) На прошлой зимней олимпиаде большинство лы...</td>\n",
       "      <td>1</td>\n",
       "    </tr>\n",
       "    <tr>\n",
       "      <th>2</th>\n",
       "      <td>Не соглашусь с заменой ЗОК на метопролол в так...</td>\n",
       "      <td>0</td>\n",
       "    </tr>\n",
       "    <tr>\n",
       "      <th>3</th>\n",
       "      <td>@di2m1 мезим Смекта Если отравление, то лоперамид</td>\n",
       "      <td>0</td>\n",
       "    </tr>\n",
       "    <tr>\n",
       "      <th>4</th>\n",
       "      <td>Уберите микроволновки и имодиум  Действуют соу...</td>\n",
       "      <td>0</td>\n",
       "    </tr>\n",
       "    <tr>\n",
       "      <th>...</th>\n",
       "      <td>...</td>\n",
       "      <td>...</td>\n",
       "    </tr>\n",
       "    <tr>\n",
       "      <th>8179</th>\n",
       "      <td>Ну, это всё же имеет временные рамки, а я всю ...</td>\n",
       "      <td>0</td>\n",
       "    </tr>\n",
       "    <tr>\n",
       "      <th>8180</th>\n",
       "      <td>Не помогает:( Ни Де-нол, ни Нексиум. Длительно...</td>\n",
       "      <td>0</td>\n",
       "    </tr>\n",
       "    <tr>\n",
       "      <th>8181</th>\n",
       "      <td>@ilyaliya озельтамивир купи в аптеке. А дальше...</td>\n",
       "      <td>0</td>\n",
       "    </tr>\n",
       "    <tr>\n",
       "      <th>8182</th>\n",
       "      <td>я ща угандошусь сальбутамолом, потому что меня...</td>\n",
       "      <td>0</td>\n",
       "    </tr>\n",
       "    <tr>\n",
       "      <th>8183</th>\n",
       "      <td>Таки уменьшение Фенибута оказалось не очень хо...</td>\n",
       "      <td>0</td>\n",
       "    </tr>\n",
       "  </tbody>\n",
       "</table>\n",
       "<p>8184 rows × 2 columns</p>\n",
       "</div>"
      ],
      "text/plain": [
       "                                                  tweet  label\n",
       "0     Настало время для ингаляторов. Дружок, Сальбут...      0\n",
       "1     15) На прошлой зимней олимпиаде большинство лы...      1\n",
       "2     Не соглашусь с заменой ЗОК на метопролол в так...      0\n",
       "3     @di2m1 мезим Смекта Если отравление, то лоперамид      0\n",
       "4     Уберите микроволновки и имодиум  Действуют соу...      0\n",
       "...                                                 ...    ...\n",
       "8179  Ну, это всё же имеет временные рамки, а я всю ...      0\n",
       "8180  Не помогает:( Ни Де-нол, ни Нексиум. Длительно...      0\n",
       "8181  @ilyaliya озельтамивир купи в аптеке. А дальше...      0\n",
       "8182  я ща угандошусь сальбутамолом, потому что меня...      0\n",
       "8183  Таки уменьшение Фенибута оказалось не очень хо...      0\n",
       "\n",
       "[8184 rows x 2 columns]"
      ]
     },
     "execution_count": 12,
     "metadata": {},
     "output_type": "execute_result"
    }
   ],
   "source": [
    "train_data"
   ]
  },
  {
   "cell_type": "code",
   "execution_count": 13,
   "metadata": {},
   "outputs": [],
   "source": [
    "def clean_lemmatize_token(tweet):\n",
    "\n",
    "    cleaned = tweet.translate(str.maketrans('', '', string.punctuation)).lower()\n",
    "\n",
    "    tokenized = word_tokenize(cleaned)\n",
    "\n",
    "    lemmatizer = WordNetLemmatizer()\n",
    "    lemmatized = [lemmatizer.lemmatize(word) for word in tokenized]\n",
    "\n",
    "    lemmatized_text = ' '.join(lemmatized)\n",
    "    return lemmatized_text\n",
    "\n",
    "train_data['tweet'] = train_data['tweet'].apply(clean_lemmatize_token)\n",
    "test_data['tweet'] = test_data['tweet'].apply(clean_lemmatize_token)\n",
    "valid_data['tweet'] = valid_data['tweet'].apply(clean_lemmatize_token)"
   ]
  },
  {
   "cell_type": "code",
   "execution_count": 14,
   "metadata": {},
   "outputs": [],
   "source": [
    "def lemmatize_tweet(tweet):\n",
    "    tokens = tweet.split()\n",
    "\n",
    "    lemmatized_tokens = [simplemma.lemmatize(token, 'ru') for token in tokens]\n",
    "\n",
    "    lemmatized_text = ' '.join(lemmatized_tokens)\n",
    "    return lemmatized_text\n",
    "\n",
    "train_data['lemmatized'] = train_data['tweet'].apply(lemmatize_tweet)\n",
    "test_data['lemmatized'] = test_data['tweet'].apply(lemmatize_tweet)\n",
    "valid_data['lemmatized'] = valid_data['tweet'].apply(lemmatize_tweet)\n"
   ]
  },
  {
   "cell_type": "code",
   "execution_count": 15,
   "metadata": {},
   "outputs": [
    {
     "data": {
      "text/html": [
       "<div>\n",
       "<style scoped>\n",
       "    .dataframe tbody tr th:only-of-type {\n",
       "        vertical-align: middle;\n",
       "    }\n",
       "\n",
       "    .dataframe tbody tr th {\n",
       "        vertical-align: top;\n",
       "    }\n",
       "\n",
       "    .dataframe thead th {\n",
       "        text-align: right;\n",
       "    }\n",
       "</style>\n",
       "<table border=\"1\" class=\"dataframe\">\n",
       "  <thead>\n",
       "    <tr style=\"text-align: right;\">\n",
       "      <th></th>\n",
       "      <th>tweet</th>\n",
       "      <th>label</th>\n",
       "      <th>lemmatized</th>\n",
       "    </tr>\n",
       "  </thead>\n",
       "  <tbody>\n",
       "    <tr>\n",
       "      <th>0</th>\n",
       "      <td>настало время для ингаляторов дружок сальбутам...</td>\n",
       "      <td>0</td>\n",
       "      <td>настать года для ингалятор дружок сальбутамол ...</td>\n",
       "    </tr>\n",
       "    <tr>\n",
       "      <th>1</th>\n",
       "      <td>15 на прошлой зимней олимпиаде большинство лыж...</td>\n",
       "      <td>1</td>\n",
       "      <td>15 на прошлый зимний олимпиада большинство лыж...</td>\n",
       "    </tr>\n",
       "    <tr>\n",
       "      <th>2</th>\n",
       "      <td>не соглашусь с заменой зок на метопролол в так...</td>\n",
       "      <td>0</td>\n",
       "      <td>не согласиться с замена зок на метопролол в та...</td>\n",
       "    </tr>\n",
       "    <tr>\n",
       "      <th>3</th>\n",
       "      <td>di2m1 мезим смекта если отравление то лоперамид</td>\n",
       "      <td>0</td>\n",
       "      <td>di2m1 мезим смекта если отравление тот лоперамид</td>\n",
       "    </tr>\n",
       "    <tr>\n",
       "      <th>4</th>\n",
       "      <td>уберите микроволновки и имодиум действуют соул...</td>\n",
       "      <td>0</td>\n",
       "      <td>убрать микроволновка и имодиум действовать соу...</td>\n",
       "    </tr>\n",
       "    <tr>\n",
       "      <th>...</th>\n",
       "      <td>...</td>\n",
       "      <td>...</td>\n",
       "      <td>...</td>\n",
       "    </tr>\n",
       "    <tr>\n",
       "      <th>8179</th>\n",
       "      <td>ну это всё же имеет временные рамки а я всю жи...</td>\n",
       "      <td>0</td>\n",
       "      <td>ну этот весь же иметь временный рамка а я весь...</td>\n",
       "    </tr>\n",
       "    <tr>\n",
       "      <th>8180</th>\n",
       "      <td>не помогает ни денол ни нексиум длительно hp р...</td>\n",
       "      <td>0</td>\n",
       "      <td>не помогать ни денол ни нексиум длительный hp ...</td>\n",
       "    </tr>\n",
       "    <tr>\n",
       "      <th>8181</th>\n",
       "      <td>ilyaliya озельтамивир купи в аптеке а дальше с...</td>\n",
       "      <td>0</td>\n",
       "      <td>ilyaliya озельтамивир купить в аптека а дальни...</td>\n",
       "    </tr>\n",
       "    <tr>\n",
       "      <th>8182</th>\n",
       "      <td>я ща угандошусь сальбутамолом потому что меня ...</td>\n",
       "      <td>0</td>\n",
       "      <td>я ща угандошусь сальбутамол потому что меня эт...</td>\n",
       "    </tr>\n",
       "    <tr>\n",
       "      <th>8183</th>\n",
       "      <td>таки уменьшение фенибута оказалось не очень хо...</td>\n",
       "      <td>0</td>\n",
       "      <td>така уменьшение фенибута оказаться не очень хо...</td>\n",
       "    </tr>\n",
       "  </tbody>\n",
       "</table>\n",
       "<p>8184 rows × 3 columns</p>\n",
       "</div>"
      ],
      "text/plain": [
       "                                                  tweet  label  \\\n",
       "0     настало время для ингаляторов дружок сальбутам...      0   \n",
       "1     15 на прошлой зимней олимпиаде большинство лыж...      1   \n",
       "2     не соглашусь с заменой зок на метопролол в так...      0   \n",
       "3       di2m1 мезим смекта если отравление то лоперамид      0   \n",
       "4     уберите микроволновки и имодиум действуют соул...      0   \n",
       "...                                                 ...    ...   \n",
       "8179  ну это всё же имеет временные рамки а я всю жи...      0   \n",
       "8180  не помогает ни денол ни нексиум длительно hp р...      0   \n",
       "8181  ilyaliya озельтамивир купи в аптеке а дальше с...      0   \n",
       "8182  я ща угандошусь сальбутамолом потому что меня ...      0   \n",
       "8183  таки уменьшение фенибута оказалось не очень хо...      0   \n",
       "\n",
       "                                             lemmatized  \n",
       "0     настать года для ингалятор дружок сальбутамол ...  \n",
       "1     15 на прошлый зимний олимпиада большинство лыж...  \n",
       "2     не согласиться с замена зок на метопролол в та...  \n",
       "3      di2m1 мезим смекта если отравление тот лоперамид  \n",
       "4     убрать микроволновка и имодиум действовать соу...  \n",
       "...                                                 ...  \n",
       "8179  ну этот весь же иметь временный рамка а я весь...  \n",
       "8180  не помогать ни денол ни нексиум длительный hp ...  \n",
       "8181  ilyaliya озельтамивир купить в аптека а дальни...  \n",
       "8182  я ща угандошусь сальбутамол потому что меня эт...  \n",
       "8183  така уменьшение фенибута оказаться не очень хо...  \n",
       "\n",
       "[8184 rows x 3 columns]"
      ]
     },
     "execution_count": 15,
     "metadata": {},
     "output_type": "execute_result"
    }
   ],
   "source": [
    "train_data"
   ]
  },
  {
   "cell_type": "code",
   "execution_count": 16,
   "metadata": {},
   "outputs": [],
   "source": [
    "train_data = train_data.drop('tweet', axis=1)\n",
    "test_data = test_data.drop('tweet', axis=1)\n",
    "valid_data = valid_data.drop('tweet', axis=1)\n",
    "train_data = train_data.reset_index(drop=True)\n",
    "test_data = test_data.reset_index(drop=True)\n",
    "valid_data = valid_data.reset_index(drop=True)"
   ]
  },
  {
   "cell_type": "code",
   "execution_count": 17,
   "metadata": {},
   "outputs": [],
   "source": [
    "lemmatized_tweets = train_data['lemmatized'].apply(lambda x: x.split())"
   ]
  },
  {
   "cell_type": "code",
   "execution_count": 18,
   "metadata": {},
   "outputs": [],
   "source": [
    "def count_lemmas(lemmatized_text):\n",
    "    words = lemmatized_text.split()\n",
    "    return len(words)\n",
    "\n",
    "def count_pos_tags(lemmatized_text, pos_tags):\n",
    "    tagged_words = pos_tag(word_tokenize(lemmatized_text))\n",
    "    return sum(1 for word, tag in tagged_words if tag in pos_tags)\n",
    "\n",
    "noun_pos_tags = ['NN', 'NNS', 'NNP', 'NNPS']\n",
    "verb_pos_tags = ['VB', 'VBD', 'VBG', 'VBN', 'VBP', 'VBZ']\n",
    "adjective_pos_tags = ['JJ', 'JJR', 'JJS']"
   ]
  },
  {
   "cell_type": "code",
   "execution_count": 19,
   "metadata": {},
   "outputs": [],
   "source": [
    "train_data['num_lemmas'] = train_data['lemmatized'].apply(count_lemmas)\n",
    "test_data['num_lemmas'] = test_data['lemmatized'].apply(count_lemmas)"
   ]
  },
  {
   "cell_type": "code",
   "execution_count": 20,
   "metadata": {},
   "outputs": [],
   "source": [
    "train_data['num_nouns'] = train_data['lemmatized'].apply(lambda x: count_pos_tags(x, noun_pos_tags))\n",
    "train_data['num_verbs'] = train_data['lemmatized'].apply(lambda x: count_pos_tags(x, verb_pos_tags))\n",
    "train_data['num_adjectives'] = train_data['lemmatized'].apply(lambda x: count_pos_tags(x, adjective_pos_tags))\n",
    "\n",
    "test_data['num_nouns'] = test_data['lemmatized'].apply(lambda x: count_pos_tags(x, noun_pos_tags))\n",
    "test_data['num_verbs'] = test_data['lemmatized'].apply(lambda x: count_pos_tags(x, verb_pos_tags))\n",
    "test_data['num_adjectives'] = test_data['lemmatized'].apply(lambda x: count_pos_tags(x, adjective_pos_tags))"
   ]
  },
  {
   "cell_type": "code",
   "execution_count": 21,
   "metadata": {},
   "outputs": [],
   "source": [
    "valid_data['num_lemmas'] = valid_data['lemmatized'].apply(count_lemmas)\n",
    "\n",
    "valid_data['num_nouns'] = valid_data['lemmatized'].apply(lambda x: count_pos_tags(x, noun_pos_tags))\n",
    "valid_data['num_verbs'] = valid_data['lemmatized'].apply(lambda x: count_pos_tags(x, verb_pos_tags))\n",
    "valid_data['num_adjectives'] = valid_data['lemmatized'].apply(lambda x: count_pos_tags(x, adjective_pos_tags))\n"
   ]
  },
  {
   "cell_type": "code",
   "execution_count": 22,
   "metadata": {},
   "outputs": [
    {
     "data": {
      "text/html": [
       "<div>\n",
       "<style scoped>\n",
       "    .dataframe tbody tr th:only-of-type {\n",
       "        vertical-align: middle;\n",
       "    }\n",
       "\n",
       "    .dataframe tbody tr th {\n",
       "        vertical-align: top;\n",
       "    }\n",
       "\n",
       "    .dataframe thead th {\n",
       "        text-align: right;\n",
       "    }\n",
       "</style>\n",
       "<table border=\"1\" class=\"dataframe\">\n",
       "  <thead>\n",
       "    <tr style=\"text-align: right;\">\n",
       "      <th></th>\n",
       "      <th>label</th>\n",
       "      <th>lemmatized</th>\n",
       "      <th>num_lemmas</th>\n",
       "      <th>num_nouns</th>\n",
       "      <th>num_verbs</th>\n",
       "      <th>num_adjectives</th>\n",
       "    </tr>\n",
       "  </thead>\n",
       "  <tbody>\n",
       "    <tr>\n",
       "      <th>0</th>\n",
       "      <td>0</td>\n",
       "      <td>настать года для ингалятор дружок сальбутамол ...</td>\n",
       "      <td>8</td>\n",
       "      <td>7</td>\n",
       "      <td>0</td>\n",
       "      <td>1</td>\n",
       "    </tr>\n",
       "    <tr>\n",
       "      <th>1</th>\n",
       "      <td>1</td>\n",
       "      <td>15 на прошлый зимний олимпиада большинство лыж...</td>\n",
       "      <td>44</td>\n",
       "      <td>42</td>\n",
       "      <td>0</td>\n",
       "      <td>1</td>\n",
       "    </tr>\n",
       "    <tr>\n",
       "      <th>2</th>\n",
       "      <td>0</td>\n",
       "      <td>не согласиться с замена зок на метопролол в та...</td>\n",
       "      <td>30</td>\n",
       "      <td>27</td>\n",
       "      <td>1</td>\n",
       "      <td>1</td>\n",
       "    </tr>\n",
       "    <tr>\n",
       "      <th>3</th>\n",
       "      <td>0</td>\n",
       "      <td>di2m1 мезим смекта если отравление тот лоперамид</td>\n",
       "      <td>7</td>\n",
       "      <td>7</td>\n",
       "      <td>0</td>\n",
       "      <td>0</td>\n",
       "    </tr>\n",
       "    <tr>\n",
       "      <th>4</th>\n",
       "      <td>0</td>\n",
       "      <td>убрать микроволновка и имодиум действовать соу...</td>\n",
       "      <td>6</td>\n",
       "      <td>5</td>\n",
       "      <td>0</td>\n",
       "      <td>1</td>\n",
       "    </tr>\n",
       "    <tr>\n",
       "      <th>...</th>\n",
       "      <td>...</td>\n",
       "      <td>...</td>\n",
       "      <td>...</td>\n",
       "      <td>...</td>\n",
       "      <td>...</td>\n",
       "      <td>...</td>\n",
       "    </tr>\n",
       "    <tr>\n",
       "      <th>8179</th>\n",
       "      <td>0</td>\n",
       "      <td>ну этот весь же иметь временный рамка а я весь...</td>\n",
       "      <td>15</td>\n",
       "      <td>14</td>\n",
       "      <td>0</td>\n",
       "      <td>1</td>\n",
       "    </tr>\n",
       "    <tr>\n",
       "      <th>8180</th>\n",
       "      <td>0</td>\n",
       "      <td>не помогать ни денол ни нексиум длительный hp ...</td>\n",
       "      <td>18</td>\n",
       "      <td>17</td>\n",
       "      <td>0</td>\n",
       "      <td>1</td>\n",
       "    </tr>\n",
       "    <tr>\n",
       "      <th>8181</th>\n",
       "      <td>0</td>\n",
       "      <td>ilyaliya озельтамивир купить в аптека а дальни...</td>\n",
       "      <td>18</td>\n",
       "      <td>18</td>\n",
       "      <td>0</td>\n",
       "      <td>0</td>\n",
       "    </tr>\n",
       "    <tr>\n",
       "      <th>8182</th>\n",
       "      <td>0</td>\n",
       "      <td>я ща угандошусь сальбутамол потому что меня эт...</td>\n",
       "      <td>9</td>\n",
       "      <td>8</td>\n",
       "      <td>0</td>\n",
       "      <td>1</td>\n",
       "    </tr>\n",
       "    <tr>\n",
       "      <th>8183</th>\n",
       "      <td>0</td>\n",
       "      <td>така уменьшение фенибута оказаться не очень хо...</td>\n",
       "      <td>19</td>\n",
       "      <td>18</td>\n",
       "      <td>0</td>\n",
       "      <td>1</td>\n",
       "    </tr>\n",
       "  </tbody>\n",
       "</table>\n",
       "<p>8184 rows × 6 columns</p>\n",
       "</div>"
      ],
      "text/plain": [
       "      label                                         lemmatized  num_lemmas  \\\n",
       "0         0  настать года для ингалятор дружок сальбутамол ...           8   \n",
       "1         1  15 на прошлый зимний олимпиада большинство лыж...          44   \n",
       "2         0  не согласиться с замена зок на метопролол в та...          30   \n",
       "3         0   di2m1 мезим смекта если отравление тот лоперамид           7   \n",
       "4         0  убрать микроволновка и имодиум действовать соу...           6   \n",
       "...     ...                                                ...         ...   \n",
       "8179      0  ну этот весь же иметь временный рамка а я весь...          15   \n",
       "8180      0  не помогать ни денол ни нексиум длительный hp ...          18   \n",
       "8181      0  ilyaliya озельтамивир купить в аптека а дальни...          18   \n",
       "8182      0  я ща угандошусь сальбутамол потому что меня эт...           9   \n",
       "8183      0  така уменьшение фенибута оказаться не очень хо...          19   \n",
       "\n",
       "      num_nouns  num_verbs  num_adjectives  \n",
       "0             7          0               1  \n",
       "1            42          0               1  \n",
       "2            27          1               1  \n",
       "3             7          0               0  \n",
       "4             5          0               1  \n",
       "...         ...        ...             ...  \n",
       "8179         14          0               1  \n",
       "8180         17          0               1  \n",
       "8181         18          0               0  \n",
       "8182          8          0               1  \n",
       "8183         18          0               1  \n",
       "\n",
       "[8184 rows x 6 columns]"
      ]
     },
     "execution_count": 22,
     "metadata": {},
     "output_type": "execute_result"
    }
   ],
   "source": [
    "train_data"
   ]
  },
  {
   "cell_type": "code",
   "execution_count": 23,
   "metadata": {},
   "outputs": [
    {
     "data": {
      "text/html": [
       "<div>\n",
       "<style scoped>\n",
       "    .dataframe tbody tr th:only-of-type {\n",
       "        vertical-align: middle;\n",
       "    }\n",
       "\n",
       "    .dataframe tbody tr th {\n",
       "        vertical-align: top;\n",
       "    }\n",
       "\n",
       "    .dataframe thead th {\n",
       "        text-align: right;\n",
       "    }\n",
       "</style>\n",
       "<table border=\"1\" class=\"dataframe\">\n",
       "  <thead>\n",
       "    <tr style=\"text-align: right;\">\n",
       "      <th></th>\n",
       "      <th>lemmatized</th>\n",
       "      <th>num_lemmas</th>\n",
       "      <th>num_nouns</th>\n",
       "      <th>num_verbs</th>\n",
       "      <th>num_adjectives</th>\n",
       "    </tr>\n",
       "  </thead>\n",
       "  <tbody>\n",
       "    <tr>\n",
       "      <th>0</th>\n",
       "      <td>от паксила такой дикий сонливость</td>\n",
       "      <td>5</td>\n",
       "      <td>4</td>\n",
       "      <td>0</td>\n",
       "      <td>1</td>\n",
       "    </tr>\n",
       "    <tr>\n",
       "      <th>1</th>\n",
       "      <td>kyzzenish попробовать парацетамол нередкий оче...</td>\n",
       "      <td>10</td>\n",
       "      <td>9</td>\n",
       "      <td>0</td>\n",
       "      <td>1</td>\n",
       "    </tr>\n",
       "    <tr>\n",
       "      <th>2</th>\n",
       "      <td>а для фанат арбидола мочь сообщить что спонсор...</td>\n",
       "      <td>20</td>\n",
       "      <td>19</td>\n",
       "      <td>0</td>\n",
       "      <td>1</td>\n",
       "    </tr>\n",
       "    <tr>\n",
       "      <th>3</th>\n",
       "      <td>опять болеть горло поэтому опять забить на бас...</td>\n",
       "      <td>14</td>\n",
       "      <td>13</td>\n",
       "      <td>0</td>\n",
       "      <td>1</td>\n",
       "    </tr>\n",
       "    <tr>\n",
       "      <th>4</th>\n",
       "      <td>у васи жар аж весь кровать и одеяло мокрый 😱 д...</td>\n",
       "      <td>22</td>\n",
       "      <td>21</td>\n",
       "      <td>0</td>\n",
       "      <td>1</td>\n",
       "    </tr>\n",
       "    <tr>\n",
       "      <th>...</th>\n",
       "      <td>...</td>\n",
       "      <td>...</td>\n",
       "      <td>...</td>\n",
       "      <td>...</td>\n",
       "      <td>...</td>\n",
       "    </tr>\n",
       "    <tr>\n",
       "      <th>9090</th>\n",
       "      <td>23 февраль парацетамол успешный защищать меня ...</td>\n",
       "      <td>9</td>\n",
       "      <td>7</td>\n",
       "      <td>0</td>\n",
       "      <td>1</td>\n",
       "    </tr>\n",
       "    <tr>\n",
       "      <th>9091</th>\n",
       "      <td>темп быть 389 выпить парацетамол и аспирин ста...</td>\n",
       "      <td>9</td>\n",
       "      <td>4</td>\n",
       "      <td>1</td>\n",
       "      <td>1</td>\n",
       "    </tr>\n",
       "    <tr>\n",
       "      <th>9092</th>\n",
       "      <td>врач идиот набрать по объявление температура 3...</td>\n",
       "      <td>16</td>\n",
       "      <td>13</td>\n",
       "      <td>1</td>\n",
       "      <td>1</td>\n",
       "    </tr>\n",
       "    <tr>\n",
       "      <th>9093</th>\n",
       "      <td>амоксициллин можно вывести способ гемодиализа</td>\n",
       "      <td>5</td>\n",
       "      <td>4</td>\n",
       "      <td>0</td>\n",
       "      <td>1</td>\n",
       "    </tr>\n",
       "    <tr>\n",
       "      <th>9094</th>\n",
       "      <td>prevedmedved1 pofeoz парацетамол сильный весь ...</td>\n",
       "      <td>7</td>\n",
       "      <td>7</td>\n",
       "      <td>0</td>\n",
       "      <td>0</td>\n",
       "    </tr>\n",
       "  </tbody>\n",
       "</table>\n",
       "<p>9095 rows × 5 columns</p>\n",
       "</div>"
      ],
      "text/plain": [
       "                                             lemmatized  num_lemmas  \\\n",
       "0                     от паксила такой дикий сонливость           5   \n",
       "1     kyzzenish попробовать парацетамол нередкий оче...          10   \n",
       "2     а для фанат арбидола мочь сообщить что спонсор...          20   \n",
       "3     опять болеть горло поэтому опять забить на бас...          14   \n",
       "4     у васи жар аж весь кровать и одеяло мокрый 😱 д...          22   \n",
       "...                                                 ...         ...   \n",
       "9090  23 февраль парацетамол успешный защищать меня ...           9   \n",
       "9091  темп быть 389 выпить парацетамол и аспирин ста...           9   \n",
       "9092  врач идиот набрать по объявление температура 3...          16   \n",
       "9093      амоксициллин можно вывести способ гемодиализа           5   \n",
       "9094  prevedmedved1 pofeoz парацетамол сильный весь ...           7   \n",
       "\n",
       "      num_nouns  num_verbs  num_adjectives  \n",
       "0             4          0               1  \n",
       "1             9          0               1  \n",
       "2            19          0               1  \n",
       "3            13          0               1  \n",
       "4            21          0               1  \n",
       "...         ...        ...             ...  \n",
       "9090          7          0               1  \n",
       "9091          4          1               1  \n",
       "9092         13          1               1  \n",
       "9093          4          0               1  \n",
       "9094          7          0               0  \n",
       "\n",
       "[9095 rows x 5 columns]"
      ]
     },
     "execution_count": 23,
     "metadata": {},
     "output_type": "execute_result"
    }
   ],
   "source": [
    "test_data"
   ]
  },
  {
   "cell_type": "markdown",
   "metadata": {},
   "source": [
    "# Обучение"
   ]
  },
  {
   "cell_type": "code",
   "execution_count": 24,
   "metadata": {},
   "outputs": [],
   "source": [
    "X = train_data.drop('label', axis=1)\n",
    "y = train_data['label']\n",
    "X_train, X_test, y_train, y_test = train_test_split(X, y, test_size=0.2, random_state=42)"
   ]
  },
  {
   "cell_type": "code",
   "execution_count": 25,
   "metadata": {},
   "outputs": [
    {
     "name": "stdout",
     "output_type": "stream",
     "text": [
      "(6547, 5)\n",
      "(1637, 5)\n",
      "(6547,)\n",
      "(1637,)\n"
     ]
    }
   ],
   "source": [
    "print(X_train.shape)\n",
    "print(X_test.shape)\n",
    "print(y_train.shape)\n",
    "print(y_test.shape)"
   ]
  },
  {
   "cell_type": "code",
   "execution_count": 26,
   "metadata": {},
   "outputs": [
    {
     "data": {
      "text/html": [
       "<div>\n",
       "<style scoped>\n",
       "    .dataframe tbody tr th:only-of-type {\n",
       "        vertical-align: middle;\n",
       "    }\n",
       "\n",
       "    .dataframe tbody tr th {\n",
       "        vertical-align: top;\n",
       "    }\n",
       "\n",
       "    .dataframe thead th {\n",
       "        text-align: right;\n",
       "    }\n",
       "</style>\n",
       "<table border=\"1\" class=\"dataframe\">\n",
       "  <thead>\n",
       "    <tr style=\"text-align: right;\">\n",
       "      <th></th>\n",
       "      <th>lemmatized</th>\n",
       "      <th>num_lemmas</th>\n",
       "      <th>num_nouns</th>\n",
       "      <th>num_verbs</th>\n",
       "      <th>num_adjectives</th>\n",
       "    </tr>\n",
       "  </thead>\n",
       "  <tbody>\n",
       "    <tr>\n",
       "      <th>2926</th>\n",
       "      <td>заорать кома нахуй этот тред нужный я вот ксан...</td>\n",
       "      <td>14</td>\n",
       "      <td>11</td>\n",
       "      <td>1</td>\n",
       "      <td>1</td>\n",
       "    </tr>\n",
       "    <tr>\n",
       "      <th>3781</th>\n",
       "      <td>ее за одно тамифлю надо к стенка ставить</td>\n",
       "      <td>8</td>\n",
       "      <td>7</td>\n",
       "      <td>0</td>\n",
       "      <td>1</td>\n",
       "    </tr>\n",
       "    <tr>\n",
       "      <th>4498</th>\n",
       "      <td>быть неплохой штука флуоксетин хд но этот уж к...</td>\n",
       "      <td>12</td>\n",
       "      <td>11</td>\n",
       "      <td>0</td>\n",
       "      <td>1</td>\n",
       "    </tr>\n",
       "    <tr>\n",
       "      <th>4141</th>\n",
       "      <td>nightbvrd лоперамидиммодиумлопедиум для завязы...</td>\n",
       "      <td>44</td>\n",
       "      <td>43</td>\n",
       "      <td>0</td>\n",
       "      <td>1</td>\n",
       "    </tr>\n",
       "    <tr>\n",
       "      <th>5244</th>\n",
       "      <td>кто пользоваться бисаком флуоксетиной и фуросе...</td>\n",
       "      <td>12</td>\n",
       "      <td>11</td>\n",
       "      <td>0</td>\n",
       "      <td>1</td>\n",
       "    </tr>\n",
       "    <tr>\n",
       "      <th>...</th>\n",
       "      <td>...</td>\n",
       "      <td>...</td>\n",
       "      <td>...</td>\n",
       "      <td>...</td>\n",
       "      <td>...</td>\n",
       "    </tr>\n",
       "    <tr>\n",
       "      <th>5226</th>\n",
       "      <td>выпить утро кветиапин спать весить класс деть</td>\n",
       "      <td>7</td>\n",
       "      <td>6</td>\n",
       "      <td>0</td>\n",
       "      <td>1</td>\n",
       "    </tr>\n",
       "    <tr>\n",
       "      <th>5390</th>\n",
       "      <td>у меня для этот сиозам и прозак но не отказать...</td>\n",
       "      <td>13</td>\n",
       "      <td>12</td>\n",
       "      <td>0</td>\n",
       "      <td>1</td>\n",
       "    </tr>\n",
       "    <tr>\n",
       "      <th>860</th>\n",
       "      <td>дозировка оланзапина и вальдоксан на ночь амин...</td>\n",
       "      <td>13</td>\n",
       "      <td>12</td>\n",
       "      <td>0</td>\n",
       "      <td>1</td>\n",
       "    </tr>\n",
       "    <tr>\n",
       "      <th>7603</th>\n",
       "      <td>а ведь он мочь бы простой 50 мг силденафила пр...</td>\n",
       "      <td>12</td>\n",
       "      <td>9</td>\n",
       "      <td>1</td>\n",
       "      <td>1</td>\n",
       "    </tr>\n",
       "    <tr>\n",
       "      <th>7270</th>\n",
       "      <td>5 вещий который меня успокаивать в порядок убы...</td>\n",
       "      <td>26</td>\n",
       "      <td>20</td>\n",
       "      <td>2</td>\n",
       "      <td>1</td>\n",
       "    </tr>\n",
       "  </tbody>\n",
       "</table>\n",
       "<p>6547 rows × 5 columns</p>\n",
       "</div>"
      ],
      "text/plain": [
       "                                             lemmatized  num_lemmas  \\\n",
       "2926  заорать кома нахуй этот тред нужный я вот ксан...          14   \n",
       "3781           ее за одно тамифлю надо к стенка ставить           8   \n",
       "4498  быть неплохой штука флуоксетин хд но этот уж к...          12   \n",
       "4141  nightbvrd лоперамидиммодиумлопедиум для завязы...          44   \n",
       "5244  кто пользоваться бисаком флуоксетиной и фуросе...          12   \n",
       "...                                                 ...         ...   \n",
       "5226      выпить утро кветиапин спать весить класс деть           7   \n",
       "5390  у меня для этот сиозам и прозак но не отказать...          13   \n",
       "860   дозировка оланзапина и вальдоксан на ночь амин...          13   \n",
       "7603  а ведь он мочь бы простой 50 мг силденафила пр...          12   \n",
       "7270  5 вещий который меня успокаивать в порядок убы...          26   \n",
       "\n",
       "      num_nouns  num_verbs  num_adjectives  \n",
       "2926         11          1               1  \n",
       "3781          7          0               1  \n",
       "4498         11          0               1  \n",
       "4141         43          0               1  \n",
       "5244         11          0               1  \n",
       "...         ...        ...             ...  \n",
       "5226          6          0               1  \n",
       "5390         12          0               1  \n",
       "860          12          0               1  \n",
       "7603          9          1               1  \n",
       "7270         20          2               1  \n",
       "\n",
       "[6547 rows x 5 columns]"
      ]
     },
     "execution_count": 26,
     "metadata": {},
     "output_type": "execute_result"
    }
   ],
   "source": [
    "X_train"
   ]
  },
  {
   "cell_type": "code",
   "execution_count": 27,
   "metadata": {},
   "outputs": [
    {
     "data": {
      "text/plain": [
       "2926    0\n",
       "3781    0\n",
       "4498    0\n",
       "4141    0\n",
       "5244    0\n",
       "       ..\n",
       "5226    1\n",
       "5390    0\n",
       "860     0\n",
       "7603    0\n",
       "7270    0\n",
       "Name: label, Length: 6547, dtype: int64"
      ]
     },
     "execution_count": 27,
     "metadata": {},
     "output_type": "execute_result"
    }
   ],
   "source": [
    "y_train"
   ]
  },
  {
   "cell_type": "code",
   "execution_count": 28,
   "metadata": {},
   "outputs": [],
   "source": [
    "transformer = ColumnTransformer(\n",
    "    transformers=[\n",
    "        ('lemmatized_tfidf', TfidfVectorizer(max_features=1000), 'lemmatized')\n",
    "    ],\n",
    "    remainder='passthrough' \n",
    ")"
   ]
  },
  {
   "cell_type": "code",
   "execution_count": 29,
   "metadata": {},
   "outputs": [],
   "source": [
    "X_train_encoded = transformer.fit_transform(X_train)\n",
    "X_test_encoded = transformer.transform(X_test)"
   ]
  },
  {
   "cell_type": "code",
   "execution_count": 30,
   "metadata": {},
   "outputs": [
    {
     "name": "stdout",
     "output_type": "stream",
     "text": [
      "(6547, 1004)\n",
      "(1637, 1004)\n",
      "(6547,)\n",
      "(1637,)\n"
     ]
    }
   ],
   "source": [
    "print(X_train_encoded.shape)\n",
    "print(X_test_encoded.shape)\n",
    "print(y_train.shape)\n",
    "print(y_test.shape)"
   ]
  },
  {
   "cell_type": "markdown",
   "metadata": {},
   "source": [
    "## Бейзлайн"
   ]
  },
  {
   "cell_type": "code",
   "execution_count": 31,
   "metadata": {},
   "outputs": [
    {
     "name": "stdout",
     "output_type": "stream",
     "text": [
      "ROC-AUC Score: 0.8552126538465258\n"
     ]
    },
    {
     "name": "stderr",
     "output_type": "stream",
     "text": [
      "c:\\Users\\HP\\AppData\\Local\\Programs\\Python\\Python38\\lib\\site-packages\\sklearn\\linear_model\\_logistic.py:444: ConvergenceWarning:\n",
      "\n",
      "lbfgs failed to converge (status=1):\n",
      "STOP: TOTAL NO. of ITERATIONS REACHED LIMIT.\n",
      "\n",
      "Increase the number of iterations (max_iter) or scale the data as shown in:\n",
      "    https://scikit-learn.org/stable/modules/preprocessing.html\n",
      "Please also refer to the documentation for alternative solver options:\n",
      "    https://scikit-learn.org/stable/modules/linear_model.html#logistic-regression\n",
      "\n"
     ]
    }
   ],
   "source": [
    "model = LogisticRegression()\n",
    "model.fit(X_train_encoded, y_train)\n",
    "y_pred = model.predict_proba(X_test_encoded)[:,  1]\n",
    "\n",
    "roc_auc = roc_auc_score(y_test, y_pred)\n",
    "print('ROC-AUC Score:', roc_auc)"
   ]
  },
  {
   "cell_type": "code",
   "execution_count": 32,
   "metadata": {},
   "outputs": [
    {
     "data": {
      "image/png": "[encoded data removed]",
      "text/plain": [
       "<Figure size 432x288 with 1 Axes>"
      ]
     },
     "metadata": {
      "needs_background": "light"
     },
     "output_type": "display_data"
    }
   ],
   "source": [
    "fpr, tpr, _ = roc_curve(y_test, y_pred)\n",
    "\n",
    "roc_auc = auc(fpr, tpr)\n",
    "\n",
    "plt.figure()\n",
    "plt.plot(fpr, tpr, color='darkorange', lw=2, label='ROC curve (area = %0.2f)' % roc_auc)\n",
    "plt.plot([0,  1], [0,  1], color='navy', lw=2, linestyle='--')\n",
    "plt.xlim([0.0,  1.0])\n",
    "plt.ylim([0.0,  1.05])\n",
    "plt.xlabel('False Positive Rate')\n",
    "plt.ylabel('True Positive Rate')\n",
    "plt.title('Receiver Operating Characteristic')\n",
    "plt.legend(loc=\"lower right\")\n",
    "plt.show()"
   ]
  },
  {
   "cell_type": "markdown",
   "metadata": {},
   "source": [
    "## Выбираем модель"
   ]
  },
  {
   "cell_type": "markdown",
   "metadata": {},
   "source": [
    "### Метод опорных векторов"
   ]
  },
  {
   "cell_type": "code",
   "execution_count": 33,
   "metadata": {},
   "outputs": [
    {
     "name": "stdout",
     "output_type": "stream",
     "text": [
      "Fitting 2 folds for each of 16 candidates, totalling 32 fits\n"
     ]
    }
   ],
   "source": [
    "param_grid = {\n",
    "    'C': [0.1,  1,  10,  100],\n",
    "    'gamma': ['scale', 'auto'],\n",
    "    'kernel': ['rbf', 'poly']\n",
    "}\n",
    "\n",
    "cv = RepeatedStratifiedKFold(n_splits=10, n_repeats=3, random_state=1)\n",
    "\n",
    "model = SVC()\n",
    "\n",
    "grid_search = GridSearchCV(estimator=model, param_grid=param_grid, scoring='roc_auc', cv=2, n_jobs=-1, verbose=1)\n",
    "grid_result_svm = grid_search.fit(X_train_encoded, y_train)"
   ]
  },
  {
   "cell_type": "code",
   "execution_count": 34,
   "metadata": {},
   "outputs": [
    {
     "name": "stdout",
     "output_type": "stream",
     "text": [
      "Best: 0.780656 using {'C': 100, 'gamma': 'auto', 'kernel': 'rbf'}\n",
      "0.720 (+/-0.052) with: {'C': 0.1, 'gamma': 'scale', 'kernel': 'rbf'}\n",
      "0.750 (+/-0.009) with: {'C': 0.1, 'gamma': 'scale', 'kernel': 'poly'}\n",
      "0.676 (+/-0.093) with: {'C': 0.1, 'gamma': 'auto', 'kernel': 'rbf'}\n",
      "0.749 (+/-0.002) with: {'C': 0.1, 'gamma': 'auto', 'kernel': 'poly'}\n",
      "0.775 (+/-0.024) with: {'C': 1, 'gamma': 'scale', 'kernel': 'rbf'}\n",
      "0.733 (+/-0.028) with: {'C': 1, 'gamma': 'scale', 'kernel': 'poly'}\n",
      "0.779 (+/-0.024) with: {'C': 1, 'gamma': 'auto', 'kernel': 'rbf'}\n",
      "0.734 (+/-0.027) with: {'C': 1, 'gamma': 'auto', 'kernel': 'poly'}\n",
      "0.778 (+/-0.015) with: {'C': 10, 'gamma': 'scale', 'kernel': 'rbf'}\n",
      "0.731 (+/-0.029) with: {'C': 10, 'gamma': 'scale', 'kernel': 'poly'}\n",
      "0.781 (+/-0.009) with: {'C': 10, 'gamma': 'auto', 'kernel': 'rbf'}\n",
      "0.731 (+/-0.029) with: {'C': 10, 'gamma': 'auto', 'kernel': 'poly'}\n",
      "0.777 (+/-0.013) with: {'C': 100, 'gamma': 'scale', 'kernel': 'rbf'}\n",
      "0.719 (+/-0.027) with: {'C': 100, 'gamma': 'scale', 'kernel': 'poly'}\n",
      "0.781 (+/-0.010) with: {'C': 100, 'gamma': 'auto', 'kernel': 'rbf'}\n",
      "0.724 (+/-0.025) with: {'C': 100, 'gamma': 'auto', 'kernel': 'poly'}\n"
     ]
    }
   ],
   "source": [
    "print(\"Best: %f using %s\" % (grid_result_svm.best_score_, grid_result_svm.best_params_))\n",
    "\n",
    "means = grid_result_svm.cv_results_['mean_test_score']\n",
    "stds = grid_result_svm.cv_results_['std_test_score']\n",
    "params = grid_result_svm.cv_results_['params']\n",
    "\n",
    "for mean, std, param in zip(means, stds, params):\n",
    "    print(\"%0.3f (+/-%0.03f) with: %r\" % (mean, std *  2, param))"
   ]
  },
  {
   "cell_type": "code",
   "execution_count": 35,
   "metadata": {},
   "outputs": [
    {
     "name": "stdout",
     "output_type": "stream",
     "text": [
      "Test ROC-AUC Score:  0.9156994502138057\n"
     ]
    }
   ],
   "source": [
    "best_model_svm = grid_result_svm.best_estimator_\n",
    "best_model_svm.fit(X_train_encoded, y_train)\n",
    "\n",
    "test_score = best_model_svm.score(X_test_encoded, y_test)\n",
    "\n",
    "print(\"Test ROC-AUC Score: \", test_score)\n"
   ]
  },
  {
   "cell_type": "markdown",
   "metadata": {},
   "source": [
    "## CatBoost"
   ]
  },
  {
   "cell_type": "code",
   "execution_count": 36,
   "metadata": {},
   "outputs": [
    {
     "name": "stdout",
     "output_type": "stream",
     "text": [
      "Fitting 30 folds for each of 45 candidates, totalling 1350 fits\n",
      "0:\tlearn: 0.6093541\ttotal: 183ms\tremaining: 36.5s\n",
      "1:\tlearn: 0.5425541\ttotal: 227ms\tremaining: 22.4s\n",
      "2:\tlearn: 0.4922210\ttotal: 268ms\tremaining: 17.6s\n",
      "3:\tlearn: 0.4497424\ttotal: 309ms\tremaining: 15.1s\n",
      "4:\tlearn: 0.4178922\ttotal: 351ms\tremaining: 13.7s\n",
      "5:\tlearn: 0.3949536\ttotal: 393ms\tremaining: 12.7s\n",
      "6:\tlearn: 0.3771758\ttotal: 438ms\tremaining: 12.1s\n",
      "7:\tlearn: 0.3624829\ttotal: 477ms\tremaining: 11.5s\n",
      "8:\tlearn: 0.3500108\ttotal: 516ms\tremaining: 11s\n",
      "9:\tlearn: 0.3382719\ttotal: 558ms\tremaining: 10.6s\n",
      "10:\tlearn: 0.3293861\ttotal: 598ms\tremaining: 10.3s\n",
      "11:\tlearn: 0.3220736\ttotal: 641ms\tremaining: 10s\n",
      "12:\tlearn: 0.3167505\ttotal: 680ms\tremaining: 9.79s\n",
      "13:\tlearn: 0.3095538\ttotal: 718ms\tremaining: 9.54s\n",
      "14:\tlearn: 0.3051547\ttotal: 761ms\tremaining: 9.38s\n",
      "15:\tlearn: 0.3012701\ttotal: 799ms\tremaining: 9.18s\n",
      "16:\tlearn: 0.2980408\ttotal: 839ms\tremaining: 9.03s\n",
      "17:\tlearn: 0.2950969\ttotal: 878ms\tremaining: 8.88s\n",
      "18:\tlearn: 0.2912665\ttotal: 918ms\tremaining: 8.75s\n",
      "19:\tlearn: 0.2894426\ttotal: 957ms\tremaining: 8.61s\n",
      "20:\tlearn: 0.2866234\ttotal: 997ms\tremaining: 8.5s\n",
      "21:\tlearn: 0.2847459\ttotal: 1.04s\tremaining: 8.39s\n",
      "22:\tlearn: 0.2830946\ttotal: 1.1s\tremaining: 8.44s\n",
      "23:\tlearn: 0.2808857\ttotal: 1.14s\tremaining: 8.34s\n",
      "24:\tlearn: 0.2794437\ttotal: 1.18s\tremaining: 8.24s\n",
      "25:\tlearn: 0.2778601\ttotal: 1.22s\tremaining: 8.15s\n",
      "26:\tlearn: 0.2761565\ttotal: 1.26s\tremaining: 8.09s\n",
      "27:\tlearn: 0.2752023\ttotal: 1.3s\tremaining: 8.01s\n",
      "28:\tlearn: 0.2741455\ttotal: 1.35s\tremaining: 7.94s\n",
      "29:\tlearn: 0.2728371\ttotal: 1.39s\tremaining: 7.86s\n",
      "30:\tlearn: 0.2717516\ttotal: 1.43s\tremaining: 7.78s\n",
      "31:\tlearn: 0.2706954\ttotal: 1.47s\tremaining: 7.71s\n",
      "32:\tlearn: 0.2695372\ttotal: 1.51s\tremaining: 7.63s\n",
      "33:\tlearn: 0.2686295\ttotal: 1.55s\tremaining: 7.56s\n",
      "34:\tlearn: 0.2675891\ttotal: 1.59s\tremaining: 7.49s\n",
      "35:\tlearn: 0.2665420\ttotal: 1.63s\tremaining: 7.42s\n",
      "36:\tlearn: 0.2655878\ttotal: 1.67s\tremaining: 7.36s\n",
      "37:\tlearn: 0.2644026\ttotal: 1.71s\tremaining: 7.29s\n",
      "38:\tlearn: 0.2634104\ttotal: 1.75s\tremaining: 7.23s\n",
      "39:\tlearn: 0.2627060\ttotal: 1.79s\tremaining: 7.16s\n",
      "40:\tlearn: 0.2620062\ttotal: 1.83s\tremaining: 7.11s\n",
      "41:\tlearn: 0.2608993\ttotal: 1.87s\tremaining: 7.04s\n",
      "42:\tlearn: 0.2601769\ttotal: 1.91s\tremaining: 6.97s\n",
      "43:\tlearn: 0.2592900\ttotal: 1.95s\tremaining: 6.91s\n",
      "44:\tlearn: 0.2583650\ttotal: 1.99s\tremaining: 6.84s\n",
      "45:\tlearn: 0.2578689\ttotal: 2.03s\tremaining: 6.8s\n",
      "46:\tlearn: 0.2571535\ttotal: 2.07s\tremaining: 6.75s\n",
      "47:\tlearn: 0.2565057\ttotal: 2.11s\tremaining: 6.69s\n",
      "48:\tlearn: 0.2557993\ttotal: 2.15s\tremaining: 6.63s\n",
      "49:\tlearn: 0.2552081\ttotal: 2.19s\tremaining: 6.57s\n",
      "50:\tlearn: 0.2544567\ttotal: 2.23s\tremaining: 6.52s\n",
      "51:\tlearn: 0.2537998\ttotal: 2.27s\tremaining: 6.46s\n",
      "52:\tlearn: 0.2529637\ttotal: 2.31s\tremaining: 6.41s\n",
      "53:\tlearn: 0.2524896\ttotal: 2.35s\tremaining: 6.35s\n",
      "54:\tlearn: 0.2520101\ttotal: 2.39s\tremaining: 6.3s\n",
      "55:\tlearn: 0.2517611\ttotal: 2.43s\tremaining: 6.25s\n",
      "56:\tlearn: 0.2511887\ttotal: 2.47s\tremaining: 6.19s\n",
      "57:\tlearn: 0.2505542\ttotal: 2.51s\tremaining: 6.14s\n",
      "58:\tlearn: 0.2499857\ttotal: 2.55s\tremaining: 6.09s\n",
      "59:\tlearn: 0.2496232\ttotal: 2.59s\tremaining: 6.04s\n",
      "60:\tlearn: 0.2490795\ttotal: 2.63s\tremaining: 5.99s\n",
      "61:\tlearn: 0.2485642\ttotal: 2.67s\tremaining: 5.93s\n",
      "62:\tlearn: 0.2480872\ttotal: 2.71s\tremaining: 5.89s\n",
      "63:\tlearn: 0.2475682\ttotal: 2.75s\tremaining: 5.84s\n",
      "64:\tlearn: 0.2470178\ttotal: 2.79s\tremaining: 5.79s\n",
      "65:\tlearn: 0.2464509\ttotal: 2.82s\tremaining: 5.73s\n",
      "66:\tlearn: 0.2460227\ttotal: 2.86s\tremaining: 5.68s\n",
      "67:\tlearn: 0.2454725\ttotal: 2.9s\tremaining: 5.64s\n",
      "68:\tlearn: 0.2448718\ttotal: 2.94s\tremaining: 5.59s\n",
      "69:\tlearn: 0.2443730\ttotal: 2.98s\tremaining: 5.54s\n",
      "70:\tlearn: 0.2439623\ttotal: 3.02s\tremaining: 5.49s\n",
      "71:\tlearn: 0.2435570\ttotal: 3.06s\tremaining: 5.44s\n",
      "72:\tlearn: 0.2430270\ttotal: 3.1s\tremaining: 5.4s\n",
      "73:\tlearn: 0.2425803\ttotal: 3.14s\tremaining: 5.35s\n",
      "74:\tlearn: 0.2422217\ttotal: 3.18s\tremaining: 5.3s\n",
      "75:\tlearn: 0.2418162\ttotal: 3.22s\tremaining: 5.25s\n",
      "76:\tlearn: 0.2413566\ttotal: 3.26s\tremaining: 5.21s\n",
      "77:\tlearn: 0.2409246\ttotal: 3.3s\tremaining: 5.16s\n",
      "78:\tlearn: 0.2406131\ttotal: 3.34s\tremaining: 5.11s\n",
      "79:\tlearn: 0.2400588\ttotal: 3.38s\tremaining: 5.07s\n",
      "80:\tlearn: 0.2395164\ttotal: 3.42s\tremaining: 5.02s\n",
      "81:\tlearn: 0.2389744\ttotal: 3.46s\tremaining: 4.98s\n",
      "82:\tlearn: 0.2384695\ttotal: 3.5s\tremaining: 4.94s\n",
      "83:\tlearn: 0.2380024\ttotal: 3.54s\tremaining: 4.89s\n",
      "84:\tlearn: 0.2374736\ttotal: 3.58s\tremaining: 4.84s\n",
      "85:\tlearn: 0.2370093\ttotal: 3.62s\tremaining: 4.8s\n",
      "86:\tlearn: 0.2364324\ttotal: 3.66s\tremaining: 4.75s\n",
      "87:\tlearn: 0.2358521\ttotal: 3.7s\tremaining: 4.71s\n",
      "88:\tlearn: 0.2356645\ttotal: 3.74s\tremaining: 4.67s\n",
      "89:\tlearn: 0.2355102\ttotal: 3.78s\tremaining: 4.62s\n",
      "90:\tlearn: 0.2352632\ttotal: 3.82s\tremaining: 4.57s\n",
      "91:\tlearn: 0.2347499\ttotal: 3.85s\tremaining: 4.53s\n",
      "92:\tlearn: 0.2341094\ttotal: 3.89s\tremaining: 4.48s\n",
      "93:\tlearn: 0.2335716\ttotal: 3.93s\tremaining: 4.44s\n",
      "94:\tlearn: 0.2329861\ttotal: 3.97s\tremaining: 4.39s\n",
      "95:\tlearn: 0.2324687\ttotal: 4.01s\tremaining: 4.35s\n",
      "96:\tlearn: 0.2322355\ttotal: 4.06s\tremaining: 4.31s\n",
      "97:\tlearn: 0.2319603\ttotal: 4.09s\tremaining: 4.26s\n",
      "98:\tlearn: 0.2317837\ttotal: 4.13s\tremaining: 4.22s\n",
      "99:\tlearn: 0.2316158\ttotal: 4.17s\tremaining: 4.17s\n",
      "100:\tlearn: 0.2309338\ttotal: 4.21s\tremaining: 4.13s\n",
      "101:\tlearn: 0.2307712\ttotal: 4.25s\tremaining: 4.09s\n",
      "102:\tlearn: 0.2301061\ttotal: 4.29s\tremaining: 4.04s\n",
      "103:\tlearn: 0.2295652\ttotal: 4.33s\tremaining: 4s\n",
      "104:\tlearn: 0.2291922\ttotal: 4.37s\tremaining: 3.96s\n",
      "105:\tlearn: 0.2287242\ttotal: 4.41s\tremaining: 3.91s\n",
      "106:\tlearn: 0.2281766\ttotal: 4.45s\tremaining: 3.87s\n",
      "107:\tlearn: 0.2278354\ttotal: 4.49s\tremaining: 3.82s\n",
      "108:\tlearn: 0.2269998\ttotal: 4.53s\tremaining: 3.78s\n",
      "109:\tlearn: 0.2264674\ttotal: 4.57s\tremaining: 3.74s\n",
      "110:\tlearn: 0.2263144\ttotal: 4.61s\tremaining: 3.7s\n",
      "111:\tlearn: 0.2259662\ttotal: 4.65s\tremaining: 3.65s\n",
      "112:\tlearn: 0.2257817\ttotal: 4.69s\tremaining: 3.61s\n",
      "113:\tlearn: 0.2256518\ttotal: 4.73s\tremaining: 3.57s\n",
      "114:\tlearn: 0.2251673\ttotal: 4.77s\tremaining: 3.52s\n",
      "115:\tlearn: 0.2244071\ttotal: 4.81s\tremaining: 3.48s\n",
      "116:\tlearn: 0.2241542\ttotal: 4.85s\tremaining: 3.44s\n",
      "117:\tlearn: 0.2239395\ttotal: 4.89s\tremaining: 3.4s\n",
      "118:\tlearn: 0.2234276\ttotal: 4.93s\tremaining: 3.36s\n",
      "119:\tlearn: 0.2231170\ttotal: 4.98s\tremaining: 3.32s\n",
      "120:\tlearn: 0.2229091\ttotal: 5.02s\tremaining: 3.28s\n",
      "121:\tlearn: 0.2224083\ttotal: 5.05s\tremaining: 3.23s\n",
      "122:\tlearn: 0.2219629\ttotal: 5.09s\tremaining: 3.19s\n",
      "123:\tlearn: 0.2214327\ttotal: 5.13s\tremaining: 3.15s\n",
      "124:\tlearn: 0.2208654\ttotal: 5.17s\tremaining: 3.1s\n",
      "125:\tlearn: 0.2203820\ttotal: 5.22s\tremaining: 3.07s\n",
      "126:\tlearn: 0.2202600\ttotal: 5.26s\tremaining: 3.03s\n",
      "127:\tlearn: 0.2200174\ttotal: 5.3s\tremaining: 2.98s\n",
      "128:\tlearn: 0.2193488\ttotal: 5.35s\tremaining: 2.94s\n",
      "129:\tlearn: 0.2188473\ttotal: 5.39s\tremaining: 2.9s\n",
      "130:\tlearn: 0.2183658\ttotal: 5.43s\tremaining: 2.86s\n",
      "131:\tlearn: 0.2181494\ttotal: 5.47s\tremaining: 2.82s\n",
      "132:\tlearn: 0.2176564\ttotal: 5.51s\tremaining: 2.78s\n",
      "133:\tlearn: 0.2172892\ttotal: 5.55s\tremaining: 2.73s\n",
      "134:\tlearn: 0.2171253\ttotal: 5.59s\tremaining: 2.69s\n",
      "135:\tlearn: 0.2169056\ttotal: 5.63s\tremaining: 2.65s\n",
      "136:\tlearn: 0.2167780\ttotal: 5.67s\tremaining: 2.61s\n",
      "137:\tlearn: 0.2165752\ttotal: 5.71s\tremaining: 2.57s\n",
      "138:\tlearn: 0.2160637\ttotal: 5.75s\tremaining: 2.52s\n",
      "139:\tlearn: 0.2159593\ttotal: 5.79s\tremaining: 2.48s\n",
      "140:\tlearn: 0.2157004\ttotal: 5.84s\tremaining: 2.44s\n",
      "141:\tlearn: 0.2154889\ttotal: 5.89s\tremaining: 2.4s\n",
      "142:\tlearn: 0.2152516\ttotal: 5.93s\tremaining: 2.36s\n",
      "143:\tlearn: 0.2150315\ttotal: 5.98s\tremaining: 2.33s\n",
      "144:\tlearn: 0.2149042\ttotal: 6.03s\tremaining: 2.29s\n",
      "145:\tlearn: 0.2145116\ttotal: 6.07s\tremaining: 2.24s\n",
      "146:\tlearn: 0.2140946\ttotal: 6.11s\tremaining: 2.2s\n",
      "147:\tlearn: 0.2135423\ttotal: 6.15s\tremaining: 2.16s\n",
      "148:\tlearn: 0.2134351\ttotal: 6.19s\tremaining: 2.12s\n",
      "149:\tlearn: 0.2131063\ttotal: 6.24s\tremaining: 2.08s\n",
      "150:\tlearn: 0.2126513\ttotal: 6.28s\tremaining: 2.04s\n",
      "151:\tlearn: 0.2123899\ttotal: 6.33s\tremaining: 2s\n",
      "152:\tlearn: 0.2118477\ttotal: 6.38s\tremaining: 1.96s\n",
      "153:\tlearn: 0.2116924\ttotal: 6.42s\tremaining: 1.92s\n",
      "154:\tlearn: 0.2115629\ttotal: 6.46s\tremaining: 1.88s\n",
      "155:\tlearn: 0.2114583\ttotal: 6.52s\tremaining: 1.84s\n",
      "156:\tlearn: 0.2108492\ttotal: 6.56s\tremaining: 1.8s\n",
      "157:\tlearn: 0.2105717\ttotal: 6.61s\tremaining: 1.75s\n",
      "158:\tlearn: 0.2102760\ttotal: 6.65s\tremaining: 1.72s\n",
      "159:\tlearn: 0.2101168\ttotal: 6.7s\tremaining: 1.67s\n",
      "160:\tlearn: 0.2100400\ttotal: 6.74s\tremaining: 1.63s\n",
      "161:\tlearn: 0.2098371\ttotal: 6.78s\tremaining: 1.59s\n",
      "162:\tlearn: 0.2092440\ttotal: 6.82s\tremaining: 1.55s\n",
      "163:\tlearn: 0.2090436\ttotal: 6.86s\tremaining: 1.51s\n",
      "164:\tlearn: 0.2085027\ttotal: 6.9s\tremaining: 1.46s\n",
      "165:\tlearn: 0.2080905\ttotal: 6.95s\tremaining: 1.42s\n",
      "166:\tlearn: 0.2077369\ttotal: 6.99s\tremaining: 1.38s\n",
      "167:\tlearn: 0.2076499\ttotal: 7.03s\tremaining: 1.34s\n",
      "168:\tlearn: 0.2074970\ttotal: 7.07s\tremaining: 1.3s\n",
      "169:\tlearn: 0.2072018\ttotal: 7.11s\tremaining: 1.25s\n",
      "170:\tlearn: 0.2069364\ttotal: 7.15s\tremaining: 1.21s\n",
      "171:\tlearn: 0.2064674\ttotal: 7.19s\tremaining: 1.17s\n",
      "172:\tlearn: 0.2063942\ttotal: 7.23s\tremaining: 1.13s\n",
      "173:\tlearn: 0.2063212\ttotal: 7.27s\tremaining: 1.09s\n",
      "174:\tlearn: 0.2058299\ttotal: 7.31s\tremaining: 1.04s\n",
      "175:\tlearn: 0.2053225\ttotal: 7.35s\tremaining: 1s\n",
      "176:\tlearn: 0.2050887\ttotal: 7.4s\tremaining: 962ms\n",
      "177:\tlearn: 0.2049063\ttotal: 7.44s\tremaining: 919ms\n",
      "178:\tlearn: 0.2044250\ttotal: 7.48s\tremaining: 878ms\n",
      "179:\tlearn: 0.2043550\ttotal: 7.52s\tremaining: 836ms\n",
      "180:\tlearn: 0.2041758\ttotal: 7.56s\tremaining: 794ms\n",
      "181:\tlearn: 0.2039188\ttotal: 7.6s\tremaining: 752ms\n",
      "182:\tlearn: 0.2035230\ttotal: 7.64s\tremaining: 710ms\n",
      "183:\tlearn: 0.2034513\ttotal: 7.69s\tremaining: 669ms\n",
      "184:\tlearn: 0.2033751\ttotal: 7.73s\tremaining: 627ms\n",
      "185:\tlearn: 0.2030872\ttotal: 7.77s\tremaining: 585ms\n",
      "186:\tlearn: 0.2027993\ttotal: 7.81s\tremaining: 543ms\n",
      "187:\tlearn: 0.2026468\ttotal: 7.85s\tremaining: 501ms\n",
      "188:\tlearn: 0.2021960\ttotal: 7.89s\tremaining: 459ms\n",
      "189:\tlearn: 0.2016404\ttotal: 7.93s\tremaining: 417ms\n",
      "190:\tlearn: 0.2015555\ttotal: 7.97s\tremaining: 376ms\n",
      "191:\tlearn: 0.2012496\ttotal: 8.01s\tremaining: 334ms\n",
      "192:\tlearn: 0.2010264\ttotal: 8.05s\tremaining: 292ms\n",
      "193:\tlearn: 0.2008417\ttotal: 8.1s\tremaining: 250ms\n",
      "194:\tlearn: 0.2004863\ttotal: 8.13s\tremaining: 209ms\n",
      "195:\tlearn: 0.2004172\ttotal: 8.18s\tremaining: 167ms\n",
      "196:\tlearn: 0.2000705\ttotal: 8.21s\tremaining: 125ms\n",
      "197:\tlearn: 0.1998795\ttotal: 8.26s\tremaining: 83.4ms\n",
      "198:\tlearn: 0.1995216\ttotal: 8.3s\tremaining: 41.7ms\n",
      "199:\tlearn: 0.1994543\ttotal: 8.34s\tremaining: 0us\n"
     ]
    }
   ],
   "source": [
    "param_grid = {\n",
    "    'depth': [3, 4, 5],\n",
    "    'learning_rate': [0.01, 0.05, 0.1],\n",
    "    'l2_leaf_reg': [1, 3, 5, 7, 9],\n",
    "    'iterations': [200]\n",
    "}\n",
    "\n",
    "cv = RepeatedStratifiedKFold(n_splits=10, n_repeats=3, random_state=12345)\n",
    "\n",
    "model = CatBoostClassifier(random_state=12345, verbose=1)\n",
    "\n",
    "grid_search = GridSearchCV(estimator=model, param_grid=param_grid, scoring='roc_auc', cv=cv, n_jobs=-1, verbose=1)\n",
    "\n",
    "grid_result_cb = grid_search.fit(X_train_encoded, y_train)"
   ]
  },
  {
   "cell_type": "code",
   "execution_count": 37,
   "metadata": {},
   "outputs": [
    {
     "name": "stdout",
     "output_type": "stream",
     "text": [
      "Best: 0.815995 using {'depth': 5, 'iterations': 200, 'l2_leaf_reg': 9, 'learning_rate': 0.1}\n",
      "0.774 (+/-0.044) with: {'depth': 3, 'iterations': 200, 'l2_leaf_reg': 1, 'learning_rate': 0.01}\n",
      "0.806 (+/-0.044) with: {'depth': 3, 'iterations': 200, 'l2_leaf_reg': 1, 'learning_rate': 0.05}\n",
      "0.812 (+/-0.043) with: {'depth': 3, 'iterations': 200, 'l2_leaf_reg': 1, 'learning_rate': 0.1}\n",
      "0.774 (+/-0.038) with: {'depth': 3, 'iterations': 200, 'l2_leaf_reg': 3, 'learning_rate': 0.01}\n",
      "0.806 (+/-0.042) with: {'depth': 3, 'iterations': 200, 'l2_leaf_reg': 3, 'learning_rate': 0.05}\n",
      "0.815 (+/-0.040) with: {'depth': 3, 'iterations': 200, 'l2_leaf_reg': 3, 'learning_rate': 0.1}\n",
      "0.773 (+/-0.041) with: {'depth': 3, 'iterations': 200, 'l2_leaf_reg': 5, 'learning_rate': 0.01}\n",
      "0.806 (+/-0.041) with: {'depth': 3, 'iterations': 200, 'l2_leaf_reg': 5, 'learning_rate': 0.05}\n",
      "0.812 (+/-0.046) with: {'depth': 3, 'iterations': 200, 'l2_leaf_reg': 5, 'learning_rate': 0.1}\n",
      "0.774 (+/-0.042) with: {'depth': 3, 'iterations': 200, 'l2_leaf_reg': 7, 'learning_rate': 0.01}\n",
      "0.807 (+/-0.043) with: {'depth': 3, 'iterations': 200, 'l2_leaf_reg': 7, 'learning_rate': 0.05}\n",
      "0.814 (+/-0.042) with: {'depth': 3, 'iterations': 200, 'l2_leaf_reg': 7, 'learning_rate': 0.1}\n",
      "0.773 (+/-0.042) with: {'depth': 3, 'iterations': 200, 'l2_leaf_reg': 9, 'learning_rate': 0.01}\n",
      "0.806 (+/-0.043) with: {'depth': 3, 'iterations': 200, 'l2_leaf_reg': 9, 'learning_rate': 0.05}\n",
      "0.814 (+/-0.045) with: {'depth': 3, 'iterations': 200, 'l2_leaf_reg': 9, 'learning_rate': 0.1}\n",
      "0.781 (+/-0.043) with: {'depth': 4, 'iterations': 200, 'l2_leaf_reg': 1, 'learning_rate': 0.01}\n",
      "0.811 (+/-0.041) with: {'depth': 4, 'iterations': 200, 'l2_leaf_reg': 1, 'learning_rate': 0.05}\n",
      "0.814 (+/-0.045) with: {'depth': 4, 'iterations': 200, 'l2_leaf_reg': 1, 'learning_rate': 0.1}\n",
      "0.781 (+/-0.040) with: {'depth': 4, 'iterations': 200, 'l2_leaf_reg': 3, 'learning_rate': 0.01}\n",
      "0.812 (+/-0.043) with: {'depth': 4, 'iterations': 200, 'l2_leaf_reg': 3, 'learning_rate': 0.05}\n",
      "0.815 (+/-0.042) with: {'depth': 4, 'iterations': 200, 'l2_leaf_reg': 3, 'learning_rate': 0.1}\n",
      "0.781 (+/-0.038) with: {'depth': 4, 'iterations': 200, 'l2_leaf_reg': 5, 'learning_rate': 0.01}\n",
      "0.811 (+/-0.044) with: {'depth': 4, 'iterations': 200, 'l2_leaf_reg': 5, 'learning_rate': 0.05}\n",
      "0.814 (+/-0.044) with: {'depth': 4, 'iterations': 200, 'l2_leaf_reg': 5, 'learning_rate': 0.1}\n",
      "0.780 (+/-0.038) with: {'depth': 4, 'iterations': 200, 'l2_leaf_reg': 7, 'learning_rate': 0.01}\n",
      "0.811 (+/-0.042) with: {'depth': 4, 'iterations': 200, 'l2_leaf_reg': 7, 'learning_rate': 0.05}\n",
      "0.815 (+/-0.043) with: {'depth': 4, 'iterations': 200, 'l2_leaf_reg': 7, 'learning_rate': 0.1}\n",
      "0.779 (+/-0.038) with: {'depth': 4, 'iterations': 200, 'l2_leaf_reg': 9, 'learning_rate': 0.01}\n",
      "0.811 (+/-0.043) with: {'depth': 4, 'iterations': 200, 'l2_leaf_reg': 9, 'learning_rate': 0.05}\n",
      "0.816 (+/-0.044) with: {'depth': 4, 'iterations': 200, 'l2_leaf_reg': 9, 'learning_rate': 0.1}\n",
      "0.782 (+/-0.041) with: {'depth': 5, 'iterations': 200, 'l2_leaf_reg': 1, 'learning_rate': 0.01}\n",
      "0.813 (+/-0.042) with: {'depth': 5, 'iterations': 200, 'l2_leaf_reg': 1, 'learning_rate': 0.05}\n",
      "0.810 (+/-0.043) with: {'depth': 5, 'iterations': 200, 'l2_leaf_reg': 1, 'learning_rate': 0.1}\n",
      "0.780 (+/-0.042) with: {'depth': 5, 'iterations': 200, 'l2_leaf_reg': 3, 'learning_rate': 0.01}\n",
      "0.814 (+/-0.040) with: {'depth': 5, 'iterations': 200, 'l2_leaf_reg': 3, 'learning_rate': 0.05}\n",
      "0.813 (+/-0.044) with: {'depth': 5, 'iterations': 200, 'l2_leaf_reg': 3, 'learning_rate': 0.1}\n",
      "0.780 (+/-0.041) with: {'depth': 5, 'iterations': 200, 'l2_leaf_reg': 5, 'learning_rate': 0.01}\n",
      "0.815 (+/-0.043) with: {'depth': 5, 'iterations': 200, 'l2_leaf_reg': 5, 'learning_rate': 0.05}\n",
      "0.816 (+/-0.046) with: {'depth': 5, 'iterations': 200, 'l2_leaf_reg': 5, 'learning_rate': 0.1}\n",
      "0.779 (+/-0.041) with: {'depth': 5, 'iterations': 200, 'l2_leaf_reg': 7, 'learning_rate': 0.01}\n",
      "0.813 (+/-0.042) with: {'depth': 5, 'iterations': 200, 'l2_leaf_reg': 7, 'learning_rate': 0.05}\n",
      "0.815 (+/-0.045) with: {'depth': 5, 'iterations': 200, 'l2_leaf_reg': 7, 'learning_rate': 0.1}\n",
      "0.778 (+/-0.041) with: {'depth': 5, 'iterations': 200, 'l2_leaf_reg': 9, 'learning_rate': 0.01}\n",
      "0.812 (+/-0.041) with: {'depth': 5, 'iterations': 200, 'l2_leaf_reg': 9, 'learning_rate': 0.05}\n",
      "0.816 (+/-0.042) with: {'depth': 5, 'iterations': 200, 'l2_leaf_reg': 9, 'learning_rate': 0.1}\n"
     ]
    }
   ],
   "source": [
    "print(\"Best: %f using %s\" % (grid_result_cb.best_score_, grid_result_cb.best_params_))\n",
    "\n",
    "means = grid_result_cb.cv_results_['mean_test_score']\n",
    "stds = grid_result_cb.cv_results_['std_test_score']\n",
    "params = grid_result_cb.cv_results_['params']\n",
    "\n",
    "for mean, std, param in zip(means, stds, params):\n",
    "    print(\"%0.3f (+/-%0.03f) with: %r\" % (mean, std *  2, param))"
   ]
  },
  {
   "cell_type": "markdown",
   "metadata": {},
   "source": [
    "### "
   ]
  },
  {
   "cell_type": "code",
   "execution_count": 38,
   "metadata": {},
   "outputs": [
    {
     "name": "stdout",
     "output_type": "stream",
     "text": [
      "0:\tlearn: 0.6093541\ttotal: 49ms\tremaining: 9.76s\n",
      "1:\tlearn: 0.5425541\ttotal: 95.3ms\tremaining: 9.44s\n",
      "2:\tlearn: 0.4922210\ttotal: 140ms\tremaining: 9.19s\n",
      "3:\tlearn: 0.4497424\ttotal: 181ms\tremaining: 8.89s\n",
      "4:\tlearn: 0.4178922\ttotal: 223ms\tremaining: 8.71s\n",
      "5:\tlearn: 0.3949536\ttotal: 266ms\tremaining: 8.6s\n",
      "6:\tlearn: 0.3771758\ttotal: 309ms\tremaining: 8.52s\n",
      "7:\tlearn: 0.3624829\ttotal: 353ms\tremaining: 8.46s\n",
      "8:\tlearn: 0.3500108\ttotal: 392ms\tremaining: 8.32s\n",
      "9:\tlearn: 0.3382719\ttotal: 432ms\tremaining: 8.21s\n",
      "10:\tlearn: 0.3293861\ttotal: 471ms\tremaining: 8.1s\n",
      "11:\tlearn: 0.3220736\ttotal: 511ms\tremaining: 8.01s\n",
      "12:\tlearn: 0.3167505\ttotal: 553ms\tremaining: 7.96s\n",
      "13:\tlearn: 0.3095538\ttotal: 594ms\tremaining: 7.89s\n",
      "14:\tlearn: 0.3051547\ttotal: 635ms\tremaining: 7.83s\n",
      "15:\tlearn: 0.3012701\ttotal: 680ms\tremaining: 7.82s\n",
      "16:\tlearn: 0.2980408\ttotal: 723ms\tremaining: 7.79s\n",
      "17:\tlearn: 0.2950969\ttotal: 770ms\tremaining: 7.78s\n",
      "18:\tlearn: 0.2912665\ttotal: 812ms\tremaining: 7.73s\n",
      "19:\tlearn: 0.2894426\ttotal: 852ms\tremaining: 7.67s\n",
      "20:\tlearn: 0.2866234\ttotal: 893ms\tremaining: 7.61s\n",
      "21:\tlearn: 0.2847459\ttotal: 935ms\tremaining: 7.57s\n",
      "22:\tlearn: 0.2830946\ttotal: 978ms\tremaining: 7.53s\n",
      "23:\tlearn: 0.2808857\ttotal: 1.02s\tremaining: 7.48s\n",
      "24:\tlearn: 0.2794437\ttotal: 1.06s\tremaining: 7.43s\n",
      "25:\tlearn: 0.2778601\ttotal: 1.1s\tremaining: 7.38s\n",
      "26:\tlearn: 0.2761565\ttotal: 1.15s\tremaining: 7.35s\n",
      "27:\tlearn: 0.2752023\ttotal: 1.19s\tremaining: 7.3s\n",
      "28:\tlearn: 0.2741455\ttotal: 1.23s\tremaining: 7.26s\n",
      "29:\tlearn: 0.2728371\ttotal: 1.27s\tremaining: 7.22s\n",
      "30:\tlearn: 0.2717516\ttotal: 1.32s\tremaining: 7.19s\n",
      "31:\tlearn: 0.2706954\ttotal: 1.36s\tremaining: 7.15s\n",
      "32:\tlearn: 0.2695372\ttotal: 1.4s\tremaining: 7.1s\n",
      "33:\tlearn: 0.2686295\ttotal: 1.44s\tremaining: 7.05s\n",
      "34:\tlearn: 0.2675891\ttotal: 1.48s\tremaining: 7s\n",
      "35:\tlearn: 0.2665420\ttotal: 1.53s\tremaining: 6.96s\n",
      "36:\tlearn: 0.2655878\ttotal: 1.57s\tremaining: 6.91s\n",
      "37:\tlearn: 0.2644026\ttotal: 1.61s\tremaining: 6.87s\n",
      "38:\tlearn: 0.2634104\ttotal: 1.65s\tremaining: 6.83s\n",
      "39:\tlearn: 0.2627060\ttotal: 1.69s\tremaining: 6.77s\n",
      "40:\tlearn: 0.2620062\ttotal: 1.73s\tremaining: 6.72s\n",
      "41:\tlearn: 0.2608993\ttotal: 1.77s\tremaining: 6.68s\n",
      "42:\tlearn: 0.2601769\ttotal: 1.82s\tremaining: 6.65s\n",
      "43:\tlearn: 0.2592900\ttotal: 1.86s\tremaining: 6.6s\n",
      "44:\tlearn: 0.2583650\ttotal: 1.9s\tremaining: 6.55s\n",
      "45:\tlearn: 0.2578689\ttotal: 1.94s\tremaining: 6.5s\n",
      "46:\tlearn: 0.2571535\ttotal: 1.99s\tremaining: 6.47s\n",
      "47:\tlearn: 0.2565057\ttotal: 2.03s\tremaining: 6.43s\n",
      "48:\tlearn: 0.2557993\ttotal: 2.07s\tremaining: 6.39s\n",
      "49:\tlearn: 0.2552081\ttotal: 2.12s\tremaining: 6.36s\n",
      "50:\tlearn: 0.2544567\ttotal: 2.16s\tremaining: 6.31s\n",
      "51:\tlearn: 0.2537998\ttotal: 2.2s\tremaining: 6.26s\n",
      "52:\tlearn: 0.2529637\ttotal: 2.25s\tremaining: 6.23s\n",
      "53:\tlearn: 0.2524896\ttotal: 2.29s\tremaining: 6.18s\n",
      "54:\tlearn: 0.2520101\ttotal: 2.33s\tremaining: 6.15s\n",
      "55:\tlearn: 0.2517611\ttotal: 2.37s\tremaining: 6.1s\n",
      "56:\tlearn: 0.2511887\ttotal: 2.41s\tremaining: 6.05s\n",
      "57:\tlearn: 0.2505542\ttotal: 2.46s\tremaining: 6.01s\n",
      "58:\tlearn: 0.2499857\ttotal: 2.49s\tremaining: 5.96s\n",
      "59:\tlearn: 0.2496232\ttotal: 2.54s\tremaining: 5.92s\n",
      "60:\tlearn: 0.2490795\ttotal: 2.58s\tremaining: 5.89s\n",
      "61:\tlearn: 0.2485642\ttotal: 2.63s\tremaining: 5.84s\n",
      "62:\tlearn: 0.2480872\ttotal: 2.67s\tremaining: 5.8s\n",
      "63:\tlearn: 0.2475682\ttotal: 2.71s\tremaining: 5.76s\n",
      "64:\tlearn: 0.2470178\ttotal: 2.75s\tremaining: 5.72s\n",
      "65:\tlearn: 0.2464509\ttotal: 2.79s\tremaining: 5.68s\n",
      "66:\tlearn: 0.2460227\ttotal: 2.84s\tremaining: 5.63s\n",
      "67:\tlearn: 0.2454725\ttotal: 2.88s\tremaining: 5.59s\n",
      "68:\tlearn: 0.2448718\ttotal: 2.92s\tremaining: 5.55s\n",
      "69:\tlearn: 0.2443730\ttotal: 2.96s\tremaining: 5.5s\n",
      "70:\tlearn: 0.2439623\ttotal: 3s\tremaining: 5.46s\n",
      "71:\tlearn: 0.2435570\ttotal: 3.05s\tremaining: 5.42s\n",
      "72:\tlearn: 0.2430270\ttotal: 3.09s\tremaining: 5.38s\n",
      "73:\tlearn: 0.2425803\ttotal: 3.13s\tremaining: 5.34s\n",
      "74:\tlearn: 0.2422217\ttotal: 3.18s\tremaining: 5.29s\n",
      "75:\tlearn: 0.2418162\ttotal: 3.22s\tremaining: 5.25s\n",
      "76:\tlearn: 0.2413566\ttotal: 3.26s\tremaining: 5.21s\n",
      "77:\tlearn: 0.2409246\ttotal: 3.3s\tremaining: 5.16s\n",
      "78:\tlearn: 0.2406131\ttotal: 3.34s\tremaining: 5.12s\n",
      "79:\tlearn: 0.2400588\ttotal: 3.38s\tremaining: 5.07s\n",
      "80:\tlearn: 0.2395164\ttotal: 3.43s\tremaining: 5.03s\n",
      "81:\tlearn: 0.2389744\ttotal: 3.47s\tremaining: 5s\n",
      "82:\tlearn: 0.2384695\ttotal: 3.51s\tremaining: 4.95s\n",
      "83:\tlearn: 0.2380024\ttotal: 3.55s\tremaining: 4.91s\n",
      "84:\tlearn: 0.2374736\ttotal: 3.6s\tremaining: 4.87s\n",
      "85:\tlearn: 0.2370093\ttotal: 3.64s\tremaining: 4.83s\n",
      "86:\tlearn: 0.2364324\ttotal: 3.68s\tremaining: 4.78s\n",
      "87:\tlearn: 0.2358521\ttotal: 3.72s\tremaining: 4.74s\n",
      "88:\tlearn: 0.2356645\ttotal: 3.76s\tremaining: 4.69s\n",
      "89:\tlearn: 0.2355102\ttotal: 3.8s\tremaining: 4.65s\n",
      "90:\tlearn: 0.2352632\ttotal: 3.85s\tremaining: 4.61s\n",
      "91:\tlearn: 0.2347499\ttotal: 3.9s\tremaining: 4.57s\n",
      "92:\tlearn: 0.2341094\ttotal: 3.94s\tremaining: 4.53s\n",
      "93:\tlearn: 0.2335716\ttotal: 3.98s\tremaining: 4.49s\n",
      "94:\tlearn: 0.2329861\ttotal: 4.02s\tremaining: 4.45s\n",
      "95:\tlearn: 0.2324687\ttotal: 4.06s\tremaining: 4.4s\n",
      "96:\tlearn: 0.2322355\ttotal: 4.1s\tremaining: 4.36s\n",
      "97:\tlearn: 0.2319603\ttotal: 4.14s\tremaining: 4.32s\n",
      "98:\tlearn: 0.2317837\ttotal: 4.18s\tremaining: 4.27s\n",
      "99:\tlearn: 0.2316158\ttotal: 4.22s\tremaining: 4.22s\n",
      "100:\tlearn: 0.2309338\ttotal: 4.26s\tremaining: 4.18s\n",
      "101:\tlearn: 0.2307712\ttotal: 4.3s\tremaining: 4.13s\n",
      "102:\tlearn: 0.2301061\ttotal: 4.34s\tremaining: 4.09s\n",
      "103:\tlearn: 0.2295652\ttotal: 4.38s\tremaining: 4.04s\n",
      "104:\tlearn: 0.2291922\ttotal: 4.42s\tremaining: 4s\n",
      "105:\tlearn: 0.2287242\ttotal: 4.46s\tremaining: 3.95s\n",
      "106:\tlearn: 0.2281766\ttotal: 4.5s\tremaining: 3.91s\n",
      "107:\tlearn: 0.2278354\ttotal: 4.54s\tremaining: 3.86s\n",
      "108:\tlearn: 0.2269998\ttotal: 4.58s\tremaining: 3.82s\n",
      "109:\tlearn: 0.2264674\ttotal: 4.62s\tremaining: 3.78s\n",
      "110:\tlearn: 0.2263144\ttotal: 4.66s\tremaining: 3.73s\n",
      "111:\tlearn: 0.2259662\ttotal: 4.7s\tremaining: 3.69s\n",
      "112:\tlearn: 0.2257817\ttotal: 4.74s\tremaining: 3.65s\n",
      "113:\tlearn: 0.2256518\ttotal: 4.78s\tremaining: 3.6s\n",
      "114:\tlearn: 0.2251673\ttotal: 4.82s\tremaining: 3.56s\n",
      "115:\tlearn: 0.2244071\ttotal: 4.86s\tremaining: 3.52s\n",
      "116:\tlearn: 0.2241542\ttotal: 4.9s\tremaining: 3.48s\n",
      "117:\tlearn: 0.2239395\ttotal: 4.94s\tremaining: 3.43s\n",
      "118:\tlearn: 0.2234276\ttotal: 4.98s\tremaining: 3.39s\n",
      "119:\tlearn: 0.2231170\ttotal: 5.02s\tremaining: 3.35s\n",
      "120:\tlearn: 0.2229091\ttotal: 5.06s\tremaining: 3.3s\n",
      "121:\tlearn: 0.2224083\ttotal: 5.1s\tremaining: 3.26s\n",
      "122:\tlearn: 0.2219629\ttotal: 5.14s\tremaining: 3.22s\n",
      "123:\tlearn: 0.2214327\ttotal: 5.18s\tremaining: 3.18s\n",
      "124:\tlearn: 0.2208654\ttotal: 5.22s\tremaining: 3.13s\n",
      "125:\tlearn: 0.2203820\ttotal: 5.26s\tremaining: 3.09s\n",
      "126:\tlearn: 0.2202600\ttotal: 5.3s\tremaining: 3.05s\n",
      "127:\tlearn: 0.2200174\ttotal: 5.34s\tremaining: 3s\n",
      "128:\tlearn: 0.2193488\ttotal: 5.38s\tremaining: 2.96s\n",
      "129:\tlearn: 0.2188473\ttotal: 5.42s\tremaining: 2.92s\n",
      "130:\tlearn: 0.2183658\ttotal: 5.46s\tremaining: 2.88s\n",
      "131:\tlearn: 0.2181494\ttotal: 5.5s\tremaining: 2.83s\n",
      "132:\tlearn: 0.2176564\ttotal: 5.54s\tremaining: 2.79s\n",
      "133:\tlearn: 0.2172892\ttotal: 5.58s\tremaining: 2.75s\n",
      "134:\tlearn: 0.2171253\ttotal: 5.63s\tremaining: 2.71s\n",
      "135:\tlearn: 0.2169056\ttotal: 5.67s\tremaining: 2.67s\n",
      "136:\tlearn: 0.2167780\ttotal: 5.71s\tremaining: 2.62s\n",
      "137:\tlearn: 0.2165752\ttotal: 5.75s\tremaining: 2.58s\n",
      "138:\tlearn: 0.2160637\ttotal: 5.79s\tremaining: 2.54s\n",
      "139:\tlearn: 0.2159593\ttotal: 5.83s\tremaining: 2.5s\n",
      "140:\tlearn: 0.2157004\ttotal: 5.87s\tremaining: 2.46s\n",
      "141:\tlearn: 0.2154889\ttotal: 5.91s\tremaining: 2.41s\n",
      "142:\tlearn: 0.2152516\ttotal: 5.95s\tremaining: 2.37s\n",
      "143:\tlearn: 0.2150315\ttotal: 5.99s\tremaining: 2.33s\n",
      "144:\tlearn: 0.2149042\ttotal: 6.03s\tremaining: 2.29s\n",
      "145:\tlearn: 0.2145116\ttotal: 6.07s\tremaining: 2.25s\n",
      "146:\tlearn: 0.2140946\ttotal: 6.11s\tremaining: 2.2s\n",
      "147:\tlearn: 0.2135423\ttotal: 6.15s\tremaining: 2.16s\n",
      "148:\tlearn: 0.2134351\ttotal: 6.19s\tremaining: 2.12s\n",
      "149:\tlearn: 0.2131063\ttotal: 6.24s\tremaining: 2.08s\n",
      "150:\tlearn: 0.2126513\ttotal: 6.27s\tremaining: 2.04s\n",
      "151:\tlearn: 0.2123899\ttotal: 6.32s\tremaining: 1.99s\n",
      "152:\tlearn: 0.2118477\ttotal: 6.36s\tremaining: 1.95s\n",
      "153:\tlearn: 0.2116924\ttotal: 6.4s\tremaining: 1.91s\n",
      "154:\tlearn: 0.2115629\ttotal: 6.44s\tremaining: 1.87s\n",
      "155:\tlearn: 0.2114583\ttotal: 6.48s\tremaining: 1.83s\n",
      "156:\tlearn: 0.2108492\ttotal: 6.52s\tremaining: 1.79s\n",
      "157:\tlearn: 0.2105717\ttotal: 6.56s\tremaining: 1.74s\n",
      "158:\tlearn: 0.2102760\ttotal: 6.6s\tremaining: 1.7s\n",
      "159:\tlearn: 0.2101168\ttotal: 6.64s\tremaining: 1.66s\n",
      "160:\tlearn: 0.2100400\ttotal: 6.68s\tremaining: 1.62s\n",
      "161:\tlearn: 0.2098371\ttotal: 6.72s\tremaining: 1.58s\n",
      "162:\tlearn: 0.2092440\ttotal: 6.76s\tremaining: 1.53s\n",
      "163:\tlearn: 0.2090436\ttotal: 6.8s\tremaining: 1.49s\n",
      "164:\tlearn: 0.2085027\ttotal: 6.84s\tremaining: 1.45s\n",
      "165:\tlearn: 0.2080905\ttotal: 6.88s\tremaining: 1.41s\n",
      "166:\tlearn: 0.2077369\ttotal: 6.92s\tremaining: 1.37s\n",
      "167:\tlearn: 0.2076499\ttotal: 6.96s\tremaining: 1.33s\n",
      "168:\tlearn: 0.2074970\ttotal: 7s\tremaining: 1.28s\n",
      "169:\tlearn: 0.2072018\ttotal: 7.04s\tremaining: 1.24s\n",
      "170:\tlearn: 0.2069364\ttotal: 7.08s\tremaining: 1.2s\n",
      "171:\tlearn: 0.2064674\ttotal: 7.12s\tremaining: 1.16s\n",
      "172:\tlearn: 0.2063942\ttotal: 7.16s\tremaining: 1.12s\n",
      "173:\tlearn: 0.2063212\ttotal: 7.2s\tremaining: 1.08s\n",
      "174:\tlearn: 0.2058299\ttotal: 7.24s\tremaining: 1.03s\n",
      "175:\tlearn: 0.2053225\ttotal: 7.28s\tremaining: 993ms\n",
      "176:\tlearn: 0.2050887\ttotal: 7.32s\tremaining: 952ms\n",
      "177:\tlearn: 0.2049063\ttotal: 7.37s\tremaining: 910ms\n",
      "178:\tlearn: 0.2044250\ttotal: 7.41s\tremaining: 869ms\n",
      "179:\tlearn: 0.2043550\ttotal: 7.45s\tremaining: 828ms\n",
      "180:\tlearn: 0.2041758\ttotal: 7.49s\tremaining: 786ms\n",
      "181:\tlearn: 0.2039188\ttotal: 7.53s\tremaining: 745ms\n",
      "182:\tlearn: 0.2035230\ttotal: 7.57s\tremaining: 703ms\n",
      "183:\tlearn: 0.2034513\ttotal: 7.61s\tremaining: 662ms\n",
      "184:\tlearn: 0.2033751\ttotal: 7.65s\tremaining: 621ms\n",
      "185:\tlearn: 0.2030872\ttotal: 7.69s\tremaining: 579ms\n",
      "186:\tlearn: 0.2027993\ttotal: 7.73s\tremaining: 537ms\n",
      "187:\tlearn: 0.2026468\ttotal: 7.77s\tremaining: 496ms\n",
      "188:\tlearn: 0.2021960\ttotal: 7.82s\tremaining: 455ms\n",
      "189:\tlearn: 0.2016404\ttotal: 7.86s\tremaining: 414ms\n",
      "190:\tlearn: 0.2015555\ttotal: 7.9s\tremaining: 372ms\n",
      "191:\tlearn: 0.2012496\ttotal: 7.94s\tremaining: 331ms\n",
      "192:\tlearn: 0.2010264\ttotal: 7.97s\tremaining: 289ms\n",
      "193:\tlearn: 0.2008417\ttotal: 8.02s\tremaining: 248ms\n",
      "194:\tlearn: 0.2004863\ttotal: 8.06s\tremaining: 207ms\n",
      "195:\tlearn: 0.2004172\ttotal: 8.09s\tremaining: 165ms\n",
      "196:\tlearn: 0.2000705\ttotal: 8.13s\tremaining: 124ms\n",
      "197:\tlearn: 0.1998795\ttotal: 8.17s\tremaining: 82.6ms\n",
      "198:\tlearn: 0.1995216\ttotal: 8.21s\tremaining: 41.3ms\n",
      "199:\tlearn: 0.1994543\ttotal: 8.25s\tremaining: 0us\n",
      "Test ROC-AUC Score:  0.9211973121563837\n"
     ]
    }
   ],
   "source": [
    "best_model_cb = grid_result_cb.best_estimator_\n",
    "best_model_cb.fit(X_train_encoded, y_train)\n",
    "\n",
    "test_score = best_model_cb.score(X_test_encoded, y_test)\n",
    "\n",
    "print(\"Test ROC-AUC Score: \", test_score)"
   ]
  },
  {
   "cell_type": "code",
   "execution_count": 39,
   "metadata": {},
   "outputs": [],
   "source": [
    "with open('best_model_cb.pkl', 'wb') as file:\n",
    "    pickle.dump(best_model_cb, file)"
   ]
  },
  {
   "cell_type": "code",
   "execution_count": 40,
   "metadata": {},
   "outputs": [],
   "source": [
    "with open('best_model_cb.pkl', 'rb') as file:\n",
    "    best_model_cb = pickle.load(file)"
   ]
  },
  {
   "cell_type": "markdown",
   "metadata": {},
   "source": [
    "## Тест"
   ]
  },
  {
   "cell_type": "code",
   "execution_count": 41,
   "metadata": {},
   "outputs": [
    {
     "data": {
      "text/html": [
       "<div>\n",
       "<style scoped>\n",
       "    .dataframe tbody tr th:only-of-type {\n",
       "        vertical-align: middle;\n",
       "    }\n",
       "\n",
       "    .dataframe tbody tr th {\n",
       "        vertical-align: top;\n",
       "    }\n",
       "\n",
       "    .dataframe thead th {\n",
       "        text-align: right;\n",
       "    }\n",
       "</style>\n",
       "<table border=\"1\" class=\"dataframe\">\n",
       "  <thead>\n",
       "    <tr style=\"text-align: right;\">\n",
       "      <th></th>\n",
       "      <th>lemmatized</th>\n",
       "      <th>num_lemmas</th>\n",
       "      <th>num_nouns</th>\n",
       "      <th>num_verbs</th>\n",
       "      <th>num_adjectives</th>\n",
       "    </tr>\n",
       "  </thead>\n",
       "  <tbody>\n",
       "    <tr>\n",
       "      <th>0</th>\n",
       "      <td>от паксила такой дикий сонливость</td>\n",
       "      <td>5</td>\n",
       "      <td>4</td>\n",
       "      <td>0</td>\n",
       "      <td>1</td>\n",
       "    </tr>\n",
       "    <tr>\n",
       "      <th>1</th>\n",
       "      <td>kyzzenish попробовать парацетамол нередкий оче...</td>\n",
       "      <td>10</td>\n",
       "      <td>9</td>\n",
       "      <td>0</td>\n",
       "      <td>1</td>\n",
       "    </tr>\n",
       "    <tr>\n",
       "      <th>2</th>\n",
       "      <td>а для фанат арбидола мочь сообщить что спонсор...</td>\n",
       "      <td>20</td>\n",
       "      <td>19</td>\n",
       "      <td>0</td>\n",
       "      <td>1</td>\n",
       "    </tr>\n",
       "    <tr>\n",
       "      <th>3</th>\n",
       "      <td>опять болеть горло поэтому опять забить на бас...</td>\n",
       "      <td>14</td>\n",
       "      <td>13</td>\n",
       "      <td>0</td>\n",
       "      <td>1</td>\n",
       "    </tr>\n",
       "    <tr>\n",
       "      <th>4</th>\n",
       "      <td>у васи жар аж весь кровать и одеяло мокрый 😱 д...</td>\n",
       "      <td>22</td>\n",
       "      <td>21</td>\n",
       "      <td>0</td>\n",
       "      <td>1</td>\n",
       "    </tr>\n",
       "    <tr>\n",
       "      <th>...</th>\n",
       "      <td>...</td>\n",
       "      <td>...</td>\n",
       "      <td>...</td>\n",
       "      <td>...</td>\n",
       "      <td>...</td>\n",
       "    </tr>\n",
       "    <tr>\n",
       "      <th>9090</th>\n",
       "      <td>23 февраль парацетамол успешный защищать меня ...</td>\n",
       "      <td>9</td>\n",
       "      <td>7</td>\n",
       "      <td>0</td>\n",
       "      <td>1</td>\n",
       "    </tr>\n",
       "    <tr>\n",
       "      <th>9091</th>\n",
       "      <td>темп быть 389 выпить парацетамол и аспирин ста...</td>\n",
       "      <td>9</td>\n",
       "      <td>4</td>\n",
       "      <td>1</td>\n",
       "      <td>1</td>\n",
       "    </tr>\n",
       "    <tr>\n",
       "      <th>9092</th>\n",
       "      <td>врач идиот набрать по объявление температура 3...</td>\n",
       "      <td>16</td>\n",
       "      <td>13</td>\n",
       "      <td>1</td>\n",
       "      <td>1</td>\n",
       "    </tr>\n",
       "    <tr>\n",
       "      <th>9093</th>\n",
       "      <td>амоксициллин можно вывести способ гемодиализа</td>\n",
       "      <td>5</td>\n",
       "      <td>4</td>\n",
       "      <td>0</td>\n",
       "      <td>1</td>\n",
       "    </tr>\n",
       "    <tr>\n",
       "      <th>9094</th>\n",
       "      <td>prevedmedved1 pofeoz парацетамол сильный весь ...</td>\n",
       "      <td>7</td>\n",
       "      <td>7</td>\n",
       "      <td>0</td>\n",
       "      <td>0</td>\n",
       "    </tr>\n",
       "  </tbody>\n",
       "</table>\n",
       "<p>9095 rows × 5 columns</p>\n",
       "</div>"
      ],
      "text/plain": [
       "                                             lemmatized  num_lemmas  \\\n",
       "0                     от паксила такой дикий сонливость           5   \n",
       "1     kyzzenish попробовать парацетамол нередкий оче...          10   \n",
       "2     а для фанат арбидола мочь сообщить что спонсор...          20   \n",
       "3     опять болеть горло поэтому опять забить на бас...          14   \n",
       "4     у васи жар аж весь кровать и одеяло мокрый 😱 д...          22   \n",
       "...                                                 ...         ...   \n",
       "9090  23 февраль парацетамол успешный защищать меня ...           9   \n",
       "9091  темп быть 389 выпить парацетамол и аспирин ста...           9   \n",
       "9092  врач идиот набрать по объявление температура 3...          16   \n",
       "9093      амоксициллин можно вывести способ гемодиализа           5   \n",
       "9094  prevedmedved1 pofeoz парацетамол сильный весь ...           7   \n",
       "\n",
       "      num_nouns  num_verbs  num_adjectives  \n",
       "0             4          0               1  \n",
       "1             9          0               1  \n",
       "2            19          0               1  \n",
       "3            13          0               1  \n",
       "4            21          0               1  \n",
       "...         ...        ...             ...  \n",
       "9090          7          0               1  \n",
       "9091          4          1               1  \n",
       "9092         13          1               1  \n",
       "9093          4          0               1  \n",
       "9094          7          0               0  \n",
       "\n",
       "[9095 rows x 5 columns]"
      ]
     },
     "metadata": {},
     "output_type": "display_data"
    }
   ],
   "source": [
    "display(test_data)"
   ]
  },
  {
   "cell_type": "code",
   "execution_count": 42,
   "metadata": {},
   "outputs": [],
   "source": [
    "test_data_encoded = transformer.transform(test_data)\n"
   ]
  },
  {
   "cell_type": "code",
   "execution_count": 43,
   "metadata": {},
   "outputs": [],
   "source": [
    "predictions_svm = best_model_svm.predict(test_data_encoded)\n",
    "predictions_cb = best_model_cb.predict(test_data_encoded)"
   ]
  },
  {
   "cell_type": "code",
   "execution_count": 44,
   "metadata": {},
   "outputs": [],
   "source": [
    "results = pd.concat([test_data_orig, pd.Series(predictions_svm, name='prediction_svm')], axis=1)\n",
    "results = pd.concat([results, pd.Series(predictions_cb, name='prediction_cb')], axis=1)"
   ]
  },
  {
   "cell_type": "code",
   "execution_count": 45,
   "metadata": {},
   "outputs": [
    {
     "data": {
      "text/plain": [
       "0    8684\n",
       "1     411\n",
       "Name: prediction_cb, dtype: int64"
      ]
     },
     "execution_count": 45,
     "metadata": {},
     "output_type": "execute_result"
    }
   ],
   "source": [
    "results['prediction_cb'].value_counts()"
   ]
  },
  {
   "cell_type": "code",
   "execution_count": 46,
   "metadata": {},
   "outputs": [
    {
     "data": {
      "text/plain": [
       "0    9095\n",
       "Name: prediction_svm, dtype: int64"
      ]
     },
     "execution_count": 46,
     "metadata": {},
     "output_type": "execute_result"
    }
   ],
   "source": [
    "results['prediction_svm'].value_counts()"
   ]
  },
  {
   "cell_type": "code",
   "execution_count": 47,
   "metadata": {},
   "outputs": [
    {
     "data": {
      "text/html": [
       "<div>\n",
       "<style scoped>\n",
       "    .dataframe tbody tr th:only-of-type {\n",
       "        vertical-align: middle;\n",
       "    }\n",
       "\n",
       "    .dataframe tbody tr th {\n",
       "        vertical-align: top;\n",
       "    }\n",
       "\n",
       "    .dataframe thead th {\n",
       "        text-align: right;\n",
       "    }\n",
       "</style>\n",
       "<table border=\"1\" class=\"dataframe\">\n",
       "  <thead>\n",
       "    <tr style=\"text-align: right;\">\n",
       "      <th></th>\n",
       "      <th>tweet_id</th>\n",
       "      <th>tweet</th>\n",
       "      <th>prediction_svm</th>\n",
       "      <th>prediction_cb</th>\n",
       "    </tr>\n",
       "  </thead>\n",
       "  <tbody>\n",
       "    <tr>\n",
       "      <th>0</th>\n",
       "      <td>1149390095612555266</td>\n",
       "      <td>от паксила такая дикая сонливость((</td>\n",
       "      <td>0</td>\n",
       "      <td>0</td>\n",
       "    </tr>\n",
       "    <tr>\n",
       "      <th>1</th>\n",
       "      <td>1104439603304546304</td>\n",
       "      <td>@Kyzzenish Попробуйте парацетамол. Нередко оче...</td>\n",
       "      <td>0</td>\n",
       "      <td>0</td>\n",
       "    </tr>\n",
       "    <tr>\n",
       "      <th>2</th>\n",
       "      <td>5886509017</td>\n",
       "      <td>А для фанатов арбидола могу сообщить, что спон...</td>\n",
       "      <td>0</td>\n",
       "      <td>0</td>\n",
       "    </tr>\n",
       "    <tr>\n",
       "      <th>3</th>\n",
       "      <td>1539809930</td>\n",
       "      <td>Опять болит горло, поэтому опять забил на басс...</td>\n",
       "      <td>0</td>\n",
       "      <td>0</td>\n",
       "    </tr>\n",
       "    <tr>\n",
       "      <th>4</th>\n",
       "      <td>777843779021709312</td>\n",
       "      <td>У Васи жар, аж вся кровать и одеяло мокрые 😱 д...</td>\n",
       "      <td>0</td>\n",
       "      <td>0</td>\n",
       "    </tr>\n",
       "    <tr>\n",
       "      <th>...</th>\n",
       "      <td>...</td>\n",
       "      <td>...</td>\n",
       "      <td>...</td>\n",
       "      <td>...</td>\n",
       "    </tr>\n",
       "    <tr>\n",
       "      <th>9090</th>\n",
       "      <td>1231489126068899841</td>\n",
       "      <td>23 февраля парацетамол успешно защищает меня о...</td>\n",
       "      <td>0</td>\n",
       "      <td>0</td>\n",
       "    </tr>\n",
       "    <tr>\n",
       "      <th>9091</th>\n",
       "      <td>945452174762536961</td>\n",
       "      <td>Темпа была 38.9 Выпила парацетамол и аспирин с...</td>\n",
       "      <td>0</td>\n",
       "      <td>0</td>\n",
       "    </tr>\n",
       "    <tr>\n",
       "      <th>9092</th>\n",
       "      <td>606052591064248320</td>\n",
       "      <td>врачи идиоты. наберут по объявлению. температу...</td>\n",
       "      <td>0</td>\n",
       "      <td>0</td>\n",
       "    </tr>\n",
       "    <tr>\n",
       "      <th>9093</th>\n",
       "      <td>498394370341875712</td>\n",
       "      <td>Амоксициллин можно вывести способом гемодиализа.</td>\n",
       "      <td>0</td>\n",
       "      <td>0</td>\n",
       "    </tr>\n",
       "    <tr>\n",
       "      <th>9094</th>\n",
       "      <td>1244232017996206081</td>\n",
       "      <td>@PrevedMedved1 @pofeoz Парацетамол сильнее все...</td>\n",
       "      <td>0</td>\n",
       "      <td>0</td>\n",
       "    </tr>\n",
       "  </tbody>\n",
       "</table>\n",
       "<p>9095 rows × 4 columns</p>\n",
       "</div>"
      ],
      "text/plain": [
       "                 tweet_id                                              tweet  \\\n",
       "0     1149390095612555266                от паксила такая дикая сонливость((   \n",
       "1     1104439603304546304  @Kyzzenish Попробуйте парацетамол. Нередко оче...   \n",
       "2              5886509017  А для фанатов арбидола могу сообщить, что спон...   \n",
       "3              1539809930  Опять болит горло, поэтому опять забил на басс...   \n",
       "4      777843779021709312  У Васи жар, аж вся кровать и одеяло мокрые 😱 д...   \n",
       "...                   ...                                                ...   \n",
       "9090  1231489126068899841  23 февраля парацетамол успешно защищает меня о...   \n",
       "9091   945452174762536961  Темпа была 38.9 Выпила парацетамол и аспирин с...   \n",
       "9092   606052591064248320  врачи идиоты. наберут по объявлению. температу...   \n",
       "9093   498394370341875712   Амоксициллин можно вывести способом гемодиализа.   \n",
       "9094  1244232017996206081  @PrevedMedved1 @pofeoz Парацетамол сильнее все...   \n",
       "\n",
       "      prediction_svm  prediction_cb  \n",
       "0                  0              0  \n",
       "1                  0              0  \n",
       "2                  0              0  \n",
       "3                  0              0  \n",
       "4                  0              0  \n",
       "...              ...            ...  \n",
       "9090               0              0  \n",
       "9091               0              0  \n",
       "9092               0              0  \n",
       "9093               0              0  \n",
       "9094               0              0  \n",
       "\n",
       "[9095 rows x 4 columns]"
      ]
     },
     "metadata": {},
     "output_type": "display_data"
    }
   ],
   "source": [
    "display(results)"
   ]
  },
  {
   "cell_type": "code",
   "execution_count": 48,
   "metadata": {},
   "outputs": [],
   "source": [
    "results = results.drop(['tweet', 'prediction_svm'], axis=1)"
   ]
  },
  {
   "cell_type": "code",
   "execution_count": 49,
   "metadata": {},
   "outputs": [
    {
     "data": {
      "text/html": [
       "<div>\n",
       "<style scoped>\n",
       "    .dataframe tbody tr th:only-of-type {\n",
       "        vertical-align: middle;\n",
       "    }\n",
       "\n",
       "    .dataframe tbody tr th {\n",
       "        vertical-align: top;\n",
       "    }\n",
       "\n",
       "    .dataframe thead th {\n",
       "        text-align: right;\n",
       "    }\n",
       "</style>\n",
       "<table border=\"1\" class=\"dataframe\">\n",
       "  <thead>\n",
       "    <tr style=\"text-align: right;\">\n",
       "      <th></th>\n",
       "      <th>tweet_id</th>\n",
       "      <th>prediction_cb</th>\n",
       "    </tr>\n",
       "  </thead>\n",
       "  <tbody>\n",
       "    <tr>\n",
       "      <th>0</th>\n",
       "      <td>1149390095612555266</td>\n",
       "      <td>0</td>\n",
       "    </tr>\n",
       "    <tr>\n",
       "      <th>1</th>\n",
       "      <td>1104439603304546304</td>\n",
       "      <td>0</td>\n",
       "    </tr>\n",
       "    <tr>\n",
       "      <th>2</th>\n",
       "      <td>5886509017</td>\n",
       "      <td>0</td>\n",
       "    </tr>\n",
       "    <tr>\n",
       "      <th>3</th>\n",
       "      <td>1539809930</td>\n",
       "      <td>0</td>\n",
       "    </tr>\n",
       "    <tr>\n",
       "      <th>4</th>\n",
       "      <td>777843779021709312</td>\n",
       "      <td>0</td>\n",
       "    </tr>\n",
       "    <tr>\n",
       "      <th>...</th>\n",
       "      <td>...</td>\n",
       "      <td>...</td>\n",
       "    </tr>\n",
       "    <tr>\n",
       "      <th>9090</th>\n",
       "      <td>1231489126068899841</td>\n",
       "      <td>0</td>\n",
       "    </tr>\n",
       "    <tr>\n",
       "      <th>9091</th>\n",
       "      <td>945452174762536961</td>\n",
       "      <td>0</td>\n",
       "    </tr>\n",
       "    <tr>\n",
       "      <th>9092</th>\n",
       "      <td>606052591064248320</td>\n",
       "      <td>0</td>\n",
       "    </tr>\n",
       "    <tr>\n",
       "      <th>9093</th>\n",
       "      <td>498394370341875712</td>\n",
       "      <td>0</td>\n",
       "    </tr>\n",
       "    <tr>\n",
       "      <th>9094</th>\n",
       "      <td>1244232017996206081</td>\n",
       "      <td>0</td>\n",
       "    </tr>\n",
       "  </tbody>\n",
       "</table>\n",
       "<p>9095 rows × 2 columns</p>\n",
       "</div>"
      ],
      "text/plain": [
       "                 tweet_id  prediction_cb\n",
       "0     1149390095612555266              0\n",
       "1     1104439603304546304              0\n",
       "2              5886509017              0\n",
       "3              1539809930              0\n",
       "4      777843779021709312              0\n",
       "...                   ...            ...\n",
       "9090  1231489126068899841              0\n",
       "9091   945452174762536961              0\n",
       "9092   606052591064248320              0\n",
       "9093   498394370341875712              0\n",
       "9094  1244232017996206081              0\n",
       "\n",
       "[9095 rows x 2 columns]"
      ]
     },
     "execution_count": 49,
     "metadata": {},
     "output_type": "execute_result"
    }
   ],
   "source": [
    "results"
   ]
  },
  {
   "cell_type": "code",
   "execution_count": 50,
   "metadata": {},
   "outputs": [],
   "source": [
    "results = results.rename(columns={'prediction_cb': 'label'})"
   ]
  },
  {
   "cell_type": "code",
   "execution_count": 51,
   "metadata": {},
   "outputs": [
    {
     "data": {
      "text/html": [
       "<div>\n",
       "<style scoped>\n",
       "    .dataframe tbody tr th:only-of-type {\n",
       "        vertical-align: middle;\n",
       "    }\n",
       "\n",
       "    .dataframe tbody tr th {\n",
       "        vertical-align: top;\n",
       "    }\n",
       "\n",
       "    .dataframe thead th {\n",
       "        text-align: right;\n",
       "    }\n",
       "</style>\n",
       "<table border=\"1\" class=\"dataframe\">\n",
       "  <thead>\n",
       "    <tr style=\"text-align: right;\">\n",
       "      <th></th>\n",
       "      <th>tweet_id</th>\n",
       "      <th>label</th>\n",
       "    </tr>\n",
       "  </thead>\n",
       "  <tbody>\n",
       "    <tr>\n",
       "      <th>0</th>\n",
       "      <td>1149390095612555266</td>\n",
       "      <td>0</td>\n",
       "    </tr>\n",
       "    <tr>\n",
       "      <th>1</th>\n",
       "      <td>1104439603304546304</td>\n",
       "      <td>0</td>\n",
       "    </tr>\n",
       "    <tr>\n",
       "      <th>2</th>\n",
       "      <td>5886509017</td>\n",
       "      <td>0</td>\n",
       "    </tr>\n",
       "    <tr>\n",
       "      <th>3</th>\n",
       "      <td>1539809930</td>\n",
       "      <td>0</td>\n",
       "    </tr>\n",
       "    <tr>\n",
       "      <th>4</th>\n",
       "      <td>777843779021709312</td>\n",
       "      <td>0</td>\n",
       "    </tr>\n",
       "    <tr>\n",
       "      <th>...</th>\n",
       "      <td>...</td>\n",
       "      <td>...</td>\n",
       "    </tr>\n",
       "    <tr>\n",
       "      <th>9090</th>\n",
       "      <td>1231489126068899841</td>\n",
       "      <td>0</td>\n",
       "    </tr>\n",
       "    <tr>\n",
       "      <th>9091</th>\n",
       "      <td>945452174762536961</td>\n",
       "      <td>0</td>\n",
       "    </tr>\n",
       "    <tr>\n",
       "      <th>9092</th>\n",
       "      <td>606052591064248320</td>\n",
       "      <td>0</td>\n",
       "    </tr>\n",
       "    <tr>\n",
       "      <th>9093</th>\n",
       "      <td>498394370341875712</td>\n",
       "      <td>0</td>\n",
       "    </tr>\n",
       "    <tr>\n",
       "      <th>9094</th>\n",
       "      <td>1244232017996206081</td>\n",
       "      <td>0</td>\n",
       "    </tr>\n",
       "  </tbody>\n",
       "</table>\n",
       "<p>9095 rows × 2 columns</p>\n",
       "</div>"
      ],
      "text/plain": [
       "                 tweet_id  label\n",
       "0     1149390095612555266      0\n",
       "1     1104439603304546304      0\n",
       "2              5886509017      0\n",
       "3              1539809930      0\n",
       "4      777843779021709312      0\n",
       "...                   ...    ...\n",
       "9090  1231489126068899841      0\n",
       "9091   945452174762536961      0\n",
       "9092   606052591064248320      0\n",
       "9093   498394370341875712      0\n",
       "9094  1244232017996206081      0\n",
       "\n",
       "[9095 rows x 2 columns]"
      ]
     },
     "execution_count": 51,
     "metadata": {},
     "output_type": "execute_result"
    }
   ],
   "source": [
    "results"
   ]
  },
  {
   "cell_type": "code",
   "execution_count": 52,
   "metadata": {},
   "outputs": [],
   "source": [
    "results.to_csv('results.csv', index=False)"
   ]
  },
  {
   "cell_type": "code",
   "execution_count": 53,
   "metadata": {},
   "outputs": [],
   "source": [
    "##"
   ]
  }
 ],
 "metadata": {
  "kernelspec": {
   "display_name": "Python 3",
   "language": "python",
   "name": "python3"
  },
  "language_info": {
   "codemirror_mode": {
    "name": "ipython",
    "version": 3
   },
   "file_extension": ".py",
   "mimetype": "text/x-python",
   "name": "python",
   "nbconvert_exporter": "python",
   "pygments_lexer": "ipython3",
   "version": "3.8.0"
  }
 },
 "nbformat": 4,
 "nbformat_minor": 2
}
